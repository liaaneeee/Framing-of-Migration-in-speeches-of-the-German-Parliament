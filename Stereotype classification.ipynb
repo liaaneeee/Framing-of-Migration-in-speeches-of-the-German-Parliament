{
 "cells": [
  {
   "cell_type": "markdown",
   "id": "796872a0",
   "metadata": {},
   "source": [
    "# Stereotype classification"
   ]
  },
  {
   "cell_type": "markdown",
   "id": "c10883f6",
   "metadata": {},
   "source": [
    "## Inhaltsverzeichnis\n",
    "1. Einleitung\n",
    "2. Vorbetrachtung\n",
    "    - Auswahl der Daten\n",
    "    - Preselection & Annotation\n",
    "    - Preprocessing\n",
    "    - Vorgehen und Ziele\n",
    "3. Aufgabe 1: Stereotype vs. Keine Stereotype\n",
    "    - Extraktion der Features für überwachtes Lernen\n",
    "    - Trainieren und Evaulieren der Modelle\n",
    "    - Ergebnisse\n",
    "    - Assoziation zwischen Ngrammen und Labels\n",
    "        - Ergebnisse\n",
    "        - Interpretation\n",
    "4. Aufgabe 2: Opfer vs. Bedrohung\n",
    "    - Ergebnisse\n",
    "    - Evaluierung\n",
    "5. Fazit und Diskussion"
   ]
  },
  {
   "cell_type": "markdown",
   "id": "adc01cf7",
   "metadata": {},
   "source": [
    "## Einführung\n",
    "Sánchez-Junquera et. al. stellen in ihrer Studie einen neuen Ansatz vor, um Stereotype zu identifizieren. Sie nutzen dafür Frames, das heißt die narrativen Szenarien in denen eine untersuchte Gruppe in öffentlichen Reden platziert wird. Wir stellen diese Experimente mit einem SVM Modell nach und erreichen eine Accuracy von bis zu 0.7."
   ]
  },
  {
   "cell_type": "markdown",
   "id": "a9a30792",
   "metadata": {},
   "source": [
    "## Auswahl der Daten\n",
    "Wir nutzen in dieser Arbeit den Korpus der Plenarprotokolle des Deutschen Bundestages (CPP-BT). Dabei haben wir uns per Aufgabenstellung auf die Periode von 2015 bis 2017 beschränkt. \n",
    "\n",
    "Sánchez-Junquera et. al. nutzen den Spanischen Teil des ParlSpeech Korpus (Rauh, Schwalbach 2020). Dabei fokusierten sie sich auf die Perioden von 1996 bis 1998, 2006 bis 2008, und 2016 bis 2018. Laut Sánchez-Junquera et. al. ist eine Besonderheit von ParlSpeech, dass es sich dabei um die Transkription von echten Debatten zwischen revelanten sozialen Akteuren handelt. Zusätzlich mache die Dialog-artige Natur des Korpus ein Herangehen aus der Perspektive der Computerlinguistik schwierig. Diese Dialog-artige Natur besteht zu einem gewissen Grad auch in dem CPP-BT Korpus. Das zeigt sich vor allem bei Zurufen, die des Öfteren passieren. Durch die Zurufe kann es zu Problemen bei der Extrahierung der Sätze kommen, da sie gelegentlich den Redefluss unterbrechen und der Satz vorzeitig beendet wird. Auch die Referenz auf vorherige Redner\\*innen kann potentiell zu Problemen führen. \n"
   ]
  },
  {
   "cell_type": "markdown",
   "id": "589100fa",
   "metadata": {},
   "source": [
    "## Preselection & Annotation\n",
    "\n",
    "Wir verwenden eine Stichwortliste um den CPP-BT Korpus nach relevanten Reden zu durchsuchen. Wenn eine Rede mehr als 50 Vorkommen von Stichwörtern hat, werden die Sätze extrahiert und für die Annotation verwendet. Es wurden vorerst 500 Sätze von 3 Annotator\\*innen annotiert.\n",
    "\n",
    "Unsere Stichwortliste basiert auf der von Sánchez-Junquera et. al. erstellten Liste an Stichwörtern, allerdings umfasst sie mit 130 Stichwörtern knapp mehr als das doppelte der Stichwörter aus Sánchez-Junquera et. al. Wir haben unsere Stichwortliste mit Stichwörtern aus einzelnen, zufällig ausgewählten Reden welche die 50 Stichwort-Grenze erreicht hatten erweitert. Dabei wurde je eine zufällige Rede aus den Jahren in der Zeitspanne von 2015 bis 2017 genuzt. \n",
    "\n",
    "Bei der Erstellung der Annotationsrichtline haben wir uns an der aus Sánchez-Junquera 2021 orientiert. Bei einer erstmaligen Untersuchung wurde klar, dass einige Frames und Kategorien in dem Korpus gar nicht vorkommen und wurden deshalb weggelassen. Das ist spezifisch Kategorie 6: Entmenschlichung. Des Weiteren wurden die Kategorien 4: Gefahr für die Gesellschaft und Kategorie 5: Gefahr für Einzelne zu einer Kategorie zusammengefasst, da es für beide Kategorien bei der ersten Untersuchung weniger Daten gab. Dadurch gibt es 4 verschiedene Kategorien mit insgesamt 22 Frames:\n",
    "1. Opfer von Xenophoie\n",
    "2. Leidende Opfer\n",
    "3. Ökonomische Resource\n",
    "4. Gefahr\n",
    "\n",
    "Das sind insgesamt zwei Frames weniger als bei Sánchez-Junquera et. al. Des weiteren wurden Frames auch an den Deutschen Bundestag und Deutschland angepasst. So wird zum Beispiel bei Frame 1.2 vom Vergleich mit Deutschen Auswander\\*innen und ehemaligen DDR Bürger\\*innen gesprochen, statt vom Vergleich mit Spanischen Personen, die ausgewandert sind."
   ]
  },
  {
   "cell_type": "code",
   "execution_count": 39,
   "id": "81f95e99",
   "metadata": {},
   "outputs": [],
   "source": [
    "import spacy\n",
    "import numpy as np\n",
    "import pandas as pd\n",
    "import matplotlib.pyplot as plt\n",
    "from math import log\n",
    "from textblob_de import TextBlobDE\n",
    "from nltk.corpus import stopwords\n",
    "from sklearn.feature_extraction.text import CountVectorizer, TfidfTransformer\n",
    "from sklearn.model_selection import train_test_split\n",
    "from sklearn.svm import SVC\n",
    "from sklearn.metrics import classification_report, ConfusionMatrixDisplay\n",
    "from sklearn.dummy import DummyClassifier"
   ]
  },
  {
   "cell_type": "code",
   "execution_count": 40,
   "id": "1dd897fe",
   "metadata": {},
   "outputs": [],
   "source": [
    "pd.set_option('display.max_colwidth', None)"
   ]
  },
  {
   "cell_type": "code",
   "execution_count": 41,
   "id": "71924c95",
   "metadata": {},
   "outputs": [],
   "source": [
    "nlp = spacy.load('de_core_news_sm')\n",
    "de_stopwords = stopwords.words('german')"
   ]
  },
  {
   "cell_type": "markdown",
   "id": "fc68b6f2",
   "metadata": {},
   "source": [
    "## Annotierte Daten laden"
   ]
  },
  {
   "cell_type": "code",
   "execution_count": 42,
   "id": "9c59a59d",
   "metadata": {},
   "outputs": [
    {
     "data": {
      "text/html": [
       "<div>\n",
       "<style scoped>\n",
       "    .dataframe tbody tr th:only-of-type {\n",
       "        vertical-align: middle;\n",
       "    }\n",
       "\n",
       "    .dataframe tbody tr th {\n",
       "        vertical-align: top;\n",
       "    }\n",
       "\n",
       "    .dataframe thead th {\n",
       "        text-align: right;\n",
       "    }\n",
       "</style>\n",
       "<table border=\"1\" class=\"dataframe\">\n",
       "  <thead>\n",
       "    <tr style=\"text-align: right;\">\n",
       "      <th></th>\n",
       "      <th>Term_NDoc_Date</th>\n",
       "      <th>Sentence</th>\n",
       "      <th>Frame</th>\n",
       "    </tr>\n",
       "  </thead>\n",
       "  <tbody>\n",
       "    <tr>\n",
       "      <th>0</th>\n",
       "      <td>18_100_2015-04-23</td>\n",
       "      <td>Erste Beratung des von der Bundesregierung eingebrachten Entwurfs eines Gesetzes zur Förderung von Investitionen finanzschwacher Kommunen und zur Entlastung von Ländern und Kommunen bei der Aufnahme und Unterbringung von Asylbewerbern Drucksache 18/4653 (neu) ............</td>\n",
       "      <td>x</td>\n",
       "    </tr>\n",
       "    <tr>\n",
       "      <th>1</th>\n",
       "      <td>18_100_2015-04-23</td>\n",
       "      <td>Mit dem vorliegenden Entwurf eines Nachtragshaushalts 2015 und dem Entwurf eines Gesetzes zur Förderung von Investitionen finanzschwacher Kommunen und zur Entlastung von Ländern und Kommunen bei der Aufnahme und Unterbringung von Asylbewerbern setzt die Bundesregierung ihre Politik für eine größere Tragfähigkeit der öffentlichen Finanzen und für Wachstum fort.</td>\n",
       "      <td>3</td>\n",
       "    </tr>\n",
       "    <tr>\n",
       "      <th>2</th>\n",
       "      <td>18_100_2015-04-23</td>\n",
       "      <td>Berlin, Donnerstag, den 23. April 2015 9485  Dr. Dietmar Bartsch  (A) (C)  (D)(B) bereitstellen – auch in Kenntnis der Tatsache, dass die Übergriffe auf Ausländer, auf Unterkünfte der Asylbewerber zugenommen haben und dass Menschen, die im Ehrenamt diese Willkommenskultur, von der wir alle sprechen, leben, eben nicht wenige Probleme haben.</td>\n",
       "      <td>2.1</td>\n",
       "    </tr>\n",
       "    <tr>\n",
       "      <th>3</th>\n",
       "      <td>18_100_2015-04-23</td>\n",
       "      <td>Es ist überhaupt nicht hinnehmbar, wenn der Generalsekretär einer immerhin regierungstragenden Partei, der CSU, sagt, das Asylrecht sei nicht für Sozialtouristen gemacht, die einen Freifahrtschein ins „All-inclusive-Sozialparadies“ buchen wollen.</td>\n",
       "      <td>4.4</td>\n",
       "    </tr>\n",
       "    <tr>\n",
       "      <th>4</th>\n",
       "      <td>18_100_2015-04-23</td>\n",
       "      <td>Denn auch unter dem Gesichtspunkt – Kollege Bartsch hat auf die Flüchtlingsströme hingewiesen –, dass wir in den nächsten Jahren große Anstrengungen unternehmen müssen, um Flüchtlinge aufzunehmen und zu integrieren – Integration ist fast genauso wichtig –, muss die Leistungsbereitschaft der Kommunen gewährleistet sein.</td>\n",
       "      <td>4.1</td>\n",
       "    </tr>\n",
       "    <tr>\n",
       "      <th>...</th>\n",
       "      <td>...</td>\n",
       "      <td>...</td>\n",
       "      <td>...</td>\n",
       "    </tr>\n",
       "    <tr>\n",
       "      <th>495</th>\n",
       "      <td>18_121_2015-09-10</td>\n",
       "      <td>Das sind die drei Integrationsaufgaben, die wir haben.</td>\n",
       "      <td>x</td>\n",
       "    </tr>\n",
       "    <tr>\n",
       "      <th>496</th>\n",
       "      <td>18_121_2015-09-10</td>\n",
       "      <td>Ich komme jetzt auch zum Thema Fluchtursachenbekämpfung.</td>\n",
       "      <td>x</td>\n",
       "    </tr>\n",
       "    <tr>\n",
       "      <th>497</th>\n",
       "      <td>18_121_2015-09-10</td>\n",
       "      <td>Dass viele Mitbürger in unserem Land angesichts einer solchen Anzahl von Flüchtlingen Ängste haben und sich fragen, wie Bund, Länder und Kommunen die Unterbringung und auch die Integration bewältigen wollen, ist, wie ich glaube, nur allzu verständlich.</td>\n",
       "      <td>4</td>\n",
       "    </tr>\n",
       "    <tr>\n",
       "      <th>498</th>\n",
       "      <td>18_121_2015-09-10</td>\n",
       "      <td>Denn nur wenn es gelingt, gemeinsam mit der Wirtschaft das Potenzial und die Motivation der Menschen, die zu uns kommen, zu nutzen, nur dann wird Integration gelingen.</td>\n",
       "      <td>3</td>\n",
       "    </tr>\n",
       "    <tr>\n",
       "      <th>499</th>\n",
       "      <td>18_121_2015-09-10</td>\n",
       "      <td>Diese Lebenschancen brauchen wir für die Einheimischen und für die Zuwanderer.</td>\n",
       "      <td>x</td>\n",
       "    </tr>\n",
       "  </tbody>\n",
       "</table>\n",
       "<p>500 rows × 3 columns</p>\n",
       "</div>"
      ],
      "text/plain": [
       "        Term_NDoc_Date  \\\n",
       "0    18_100_2015-04-23   \n",
       "1    18_100_2015-04-23   \n",
       "2    18_100_2015-04-23   \n",
       "3    18_100_2015-04-23   \n",
       "4    18_100_2015-04-23   \n",
       "..                 ...   \n",
       "495  18_121_2015-09-10   \n",
       "496  18_121_2015-09-10   \n",
       "497  18_121_2015-09-10   \n",
       "498  18_121_2015-09-10   \n",
       "499  18_121_2015-09-10   \n",
       "\n",
       "                                                                                                                                                                                                                                                                                                                                                                       Sentence  \\\n",
       "0                                                                                              Erste Beratung des von der Bundesregierung eingebrachten Entwurfs eines Gesetzes zur Förderung von Investitionen finanzschwacher Kommunen und zur Entlastung von Ländern und Kommunen bei der Aufnahme und Unterbringung von Asylbewerbern Drucksache 18/4653 (neu) ............   \n",
       "1    Mit dem vorliegenden Entwurf eines Nachtragshaushalts 2015 und dem Entwurf eines Gesetzes zur Förderung von Investitionen finanzschwacher Kommunen und zur Entlastung von Ländern und Kommunen bei der Aufnahme und Unterbringung von Asylbewerbern setzt die Bundesregierung ihre Politik für eine größere Tragfähigkeit der öffentlichen Finanzen und für Wachstum fort.   \n",
       "2                         Berlin, Donnerstag, den 23. April 2015 9485  Dr. Dietmar Bartsch  (A) (C)  (D)(B) bereitstellen – auch in Kenntnis der Tatsache, dass die Übergriffe auf Ausländer, auf Unterkünfte der Asylbewerber zugenommen haben und dass Menschen, die im Ehrenamt diese Willkommenskultur, von der wir alle sprechen, leben, eben nicht wenige Probleme haben.   \n",
       "3                                                                                                                        Es ist überhaupt nicht hinnehmbar, wenn der Generalsekretär einer immerhin regierungstragenden Partei, der CSU, sagt, das Asylrecht sei nicht für Sozialtouristen gemacht, die einen Freifahrtschein ins „All-inclusive-Sozialparadies“ buchen wollen.   \n",
       "4                                              Denn auch unter dem Gesichtspunkt – Kollege Bartsch hat auf die Flüchtlingsströme hingewiesen –, dass wir in den nächsten Jahren große Anstrengungen unternehmen müssen, um Flüchtlinge aufzunehmen und zu integrieren – Integration ist fast genauso wichtig –, muss die Leistungsbereitschaft der Kommunen gewährleistet sein.   \n",
       "..                                                                                                                                                                                                                                                                                                                                                                          ...   \n",
       "495                                                                                                                                                                                                                                                                                                                      Das sind die drei Integrationsaufgaben, die wir haben.   \n",
       "496                                                                                                                                                                                                                                                                                                                    Ich komme jetzt auch zum Thema Fluchtursachenbekämpfung.   \n",
       "497                                                                                                                Dass viele Mitbürger in unserem Land angesichts einer solchen Anzahl von Flüchtlingen Ängste haben und sich fragen, wie Bund, Länder und Kommunen die Unterbringung und auch die Integration bewältigen wollen, ist, wie ich glaube, nur allzu verständlich.   \n",
       "498                                                                                                                                                                                                     Denn nur wenn es gelingt, gemeinsam mit der Wirtschaft das Potenzial und die Motivation der Menschen, die zu uns kommen, zu nutzen, nur dann wird Integration gelingen.   \n",
       "499                                                                                                                                                                                                                                                                                              Diese Lebenschancen brauchen wir für die Einheimischen und für die Zuwanderer.   \n",
       "\n",
       "    Frame  \n",
       "0       x  \n",
       "1       3  \n",
       "2     2.1  \n",
       "3     4.4  \n",
       "4     4.1  \n",
       "..    ...  \n",
       "495     x  \n",
       "496     x  \n",
       "497     4  \n",
       "498     3  \n",
       "499     x  \n",
       "\n",
       "[500 rows x 3 columns]"
      ]
     },
     "execution_count": 42,
     "metadata": {},
     "output_type": "execute_result"
    }
   ],
   "source": [
    "# Load annotated sentences\n",
    "raw_df = pd.read_csv(\"data/combined_samples.csv\", sep=\"\\t\")\n",
    "raw_df.drop(\"Unnamed: 0\", axis=1, inplace=True)\n",
    "raw_df"
   ]
  },
  {
   "cell_type": "markdown",
   "id": "22d3b0d8",
   "metadata": {},
   "source": [
    "### ***UPDATE MIT NEUEN ANNOTIERTEN DATEN:***"
   ]
  },
  {
   "cell_type": "code",
   "execution_count": 43,
   "id": "b86acad7",
   "metadata": {},
   "outputs": [
    {
     "data": {
      "text/html": [
       "<div>\n",
       "<style scoped>\n",
       "    .dataframe tbody tr th:only-of-type {\n",
       "        vertical-align: middle;\n",
       "    }\n",
       "\n",
       "    .dataframe tbody tr th {\n",
       "        vertical-align: top;\n",
       "    }\n",
       "\n",
       "    .dataframe thead th {\n",
       "        text-align: right;\n",
       "    }\n",
       "</style>\n",
       "<table border=\"1\" class=\"dataframe\">\n",
       "  <thead>\n",
       "    <tr style=\"text-align: right;\">\n",
       "      <th></th>\n",
       "      <th>Term_NDoc_Date</th>\n",
       "      <th>Sentence</th>\n",
       "      <th>Frame</th>\n",
       "    </tr>\n",
       "  </thead>\n",
       "  <tbody>\n",
       "    <tr>\n",
       "      <th>0</th>\n",
       "      <td>18_100_2015-04-23</td>\n",
       "      <td>Erste Beratung des von der Bundesregierung eingebrachten Entwurfs eines Gesetzes zur Förderung von Investitionen finanzschwacher Kommunen und zur Entlastung von Ländern und Kommunen bei der Aufnahme und Unterbringung von Asylbewerbern Drucksache 18/4653 (neu) ............</td>\n",
       "      <td>x</td>\n",
       "    </tr>\n",
       "    <tr>\n",
       "      <th>1</th>\n",
       "      <td>18_100_2015-04-23</td>\n",
       "      <td>Mit dem vorliegenden Entwurf eines Nachtragshaushalts 2015 und dem Entwurf eines Gesetzes zur Förderung von Investitionen finanzschwacher Kommunen und zur Entlastung von Ländern und Kommunen bei der Aufnahme und Unterbringung von Asylbewerbern setzt die Bundesregierung ihre Politik für eine größere Tragfähigkeit der öffentlichen Finanzen und für Wachstum fort.</td>\n",
       "      <td>3</td>\n",
       "    </tr>\n",
       "    <tr>\n",
       "      <th>2</th>\n",
       "      <td>18_100_2015-04-23</td>\n",
       "      <td>Berlin, Donnerstag, den 23. April 2015 9485  Dr. Dietmar Bartsch  (A) (C)  (D)(B) bereitstellen – auch in Kenntnis der Tatsache, dass die Übergriffe auf Ausländer, auf Unterkünfte der Asylbewerber zugenommen haben und dass Menschen, die im Ehrenamt diese Willkommenskultur, von der wir alle sprechen, leben, eben nicht wenige Probleme haben.</td>\n",
       "      <td>2.1</td>\n",
       "    </tr>\n",
       "    <tr>\n",
       "      <th>3</th>\n",
       "      <td>18_100_2015-04-23</td>\n",
       "      <td>Es ist überhaupt nicht hinnehmbar, wenn der Generalsekretär einer immerhin regierungstragenden Partei, der CSU, sagt, das Asylrecht sei nicht für Sozialtouristen gemacht, die einen Freifahrtschein ins „All-inclusive-Sozialparadies“ buchen wollen.</td>\n",
       "      <td>4.4</td>\n",
       "    </tr>\n",
       "    <tr>\n",
       "      <th>4</th>\n",
       "      <td>18_100_2015-04-23</td>\n",
       "      <td>Denn auch unter dem Gesichtspunkt – Kollege Bartsch hat auf die Flüchtlingsströme hingewiesen –, dass wir in den nächsten Jahren große Anstrengungen unternehmen müssen, um Flüchtlinge aufzunehmen und zu integrieren – Integration ist fast genauso wichtig –, muss die Leistungsbereitschaft der Kommunen gewährleistet sein.</td>\n",
       "      <td>4.1</td>\n",
       "    </tr>\n",
       "    <tr>\n",
       "      <th>...</th>\n",
       "      <td>...</td>\n",
       "      <td>...</td>\n",
       "      <td>...</td>\n",
       "    </tr>\n",
       "    <tr>\n",
       "      <th>995</th>\n",
       "      <td>18_138_2015-11-24</td>\n",
       "      <td>Ich spreche jetzt auch über den Bedarf des Personals, der Sprachlehrer, der Ausbilderinnen und Ausbilder in den Sprachkursen.</td>\n",
       "      <td>x</td>\n",
       "    </tr>\n",
       "    <tr>\n",
       "      <th>996</th>\n",
       "      <td>18_138_2015-11-24</td>\n",
       "      <td>Wir können es uns nicht leisten, auch bei der Integration in solche Engpässe zu laufen.</td>\n",
       "      <td>x</td>\n",
       "    </tr>\n",
       "    <tr>\n",
       "      <th>997</th>\n",
       "      <td>18_138_2015-11-24</td>\n",
       "      <td>Das hat auch einen erheblichen Einfluss darauf, wie schnell Flüchtlinge Zugang zu Integrationskursen bekommen.</td>\n",
       "      <td>x</td>\n",
       "    </tr>\n",
       "    <tr>\n",
       "      <th>998</th>\n",
       "      <td>18_138_2015-11-24</td>\n",
       "      <td>Da bedaure ich sehr, dass das BAMF und Sie das integrationspolitische Versprechen, möglichst alle Asylsuchenden, die eine gute Bleibeperspektive haben, in Sprachkurse aufzunehmen,  Dr. Reinhard Brandl  Deutscher Bundestag – 18.</td>\n",
       "      <td>x</td>\n",
       "    </tr>\n",
       "    <tr>\n",
       "      <th>999</th>\n",
       "      <td>18_138_2015-11-24</td>\n",
       "      <td>Diese bekommen dann trotz guter Bleibeperspektive am Ende nicht den Zugang zu einem Sprachkurs.</td>\n",
       "      <td>2.2</td>\n",
       "    </tr>\n",
       "  </tbody>\n",
       "</table>\n",
       "<p>1000 rows × 3 columns</p>\n",
       "</div>"
      ],
      "text/plain": [
       "        Term_NDoc_Date  \\\n",
       "0    18_100_2015-04-23   \n",
       "1    18_100_2015-04-23   \n",
       "2    18_100_2015-04-23   \n",
       "3    18_100_2015-04-23   \n",
       "4    18_100_2015-04-23   \n",
       "..                 ...   \n",
       "995  18_138_2015-11-24   \n",
       "996  18_138_2015-11-24   \n",
       "997  18_138_2015-11-24   \n",
       "998  18_138_2015-11-24   \n",
       "999  18_138_2015-11-24   \n",
       "\n",
       "                                                                                                                                                                                                                                                                                                                                                                       Sentence  \\\n",
       "0                                                                                              Erste Beratung des von der Bundesregierung eingebrachten Entwurfs eines Gesetzes zur Förderung von Investitionen finanzschwacher Kommunen und zur Entlastung von Ländern und Kommunen bei der Aufnahme und Unterbringung von Asylbewerbern Drucksache 18/4653 (neu) ............   \n",
       "1    Mit dem vorliegenden Entwurf eines Nachtragshaushalts 2015 und dem Entwurf eines Gesetzes zur Förderung von Investitionen finanzschwacher Kommunen und zur Entlastung von Ländern und Kommunen bei der Aufnahme und Unterbringung von Asylbewerbern setzt die Bundesregierung ihre Politik für eine größere Tragfähigkeit der öffentlichen Finanzen und für Wachstum fort.   \n",
       "2                         Berlin, Donnerstag, den 23. April 2015 9485  Dr. Dietmar Bartsch  (A) (C)  (D)(B) bereitstellen – auch in Kenntnis der Tatsache, dass die Übergriffe auf Ausländer, auf Unterkünfte der Asylbewerber zugenommen haben und dass Menschen, die im Ehrenamt diese Willkommenskultur, von der wir alle sprechen, leben, eben nicht wenige Probleme haben.   \n",
       "3                                                                                                                        Es ist überhaupt nicht hinnehmbar, wenn der Generalsekretär einer immerhin regierungstragenden Partei, der CSU, sagt, das Asylrecht sei nicht für Sozialtouristen gemacht, die einen Freifahrtschein ins „All-inclusive-Sozialparadies“ buchen wollen.   \n",
       "4                                              Denn auch unter dem Gesichtspunkt – Kollege Bartsch hat auf die Flüchtlingsströme hingewiesen –, dass wir in den nächsten Jahren große Anstrengungen unternehmen müssen, um Flüchtlinge aufzunehmen und zu integrieren – Integration ist fast genauso wichtig –, muss die Leistungsbereitschaft der Kommunen gewährleistet sein.   \n",
       "..                                                                                                                                                                                                                                                                                                                                                                          ...   \n",
       "995                                                                                                                                                                                                                                               Ich spreche jetzt auch über den Bedarf des Personals, der Sprachlehrer, der Ausbilderinnen und Ausbilder in den Sprachkursen.   \n",
       "996                                                                                                                                                                                                                                                                                     Wir können es uns nicht leisten, auch bei der Integration in solche Engpässe zu laufen.   \n",
       "997                                                                                                                                                                                                                                                              Das hat auch einen erheblichen Einfluss darauf, wie schnell Flüchtlinge Zugang zu Integrationskursen bekommen.   \n",
       "998                                                                                                                                         Da bedaure ich sehr, dass das BAMF und Sie das integrationspolitische Versprechen, möglichst alle Asylsuchenden, die eine gute Bleibeperspektive haben, in Sprachkurse aufzunehmen,  Dr. Reinhard Brandl  Deutscher Bundestag – 18.   \n",
       "999                                                                                                                                                                                                                                                                             Diese bekommen dann trotz guter Bleibeperspektive am Ende nicht den Zugang zu einem Sprachkurs.   \n",
       "\n",
       "    Frame  \n",
       "0       x  \n",
       "1       3  \n",
       "2     2.1  \n",
       "3     4.4  \n",
       "4     4.1  \n",
       "..    ...  \n",
       "995     x  \n",
       "996     x  \n",
       "997     x  \n",
       "998     x  \n",
       "999   2.2  \n",
       "\n",
       "[1000 rows x 3 columns]"
      ]
     },
     "execution_count": 43,
     "metadata": {},
     "output_type": "execute_result"
    }
   ],
   "source": [
    "new_raw_df = pd.read_csv(\"data/new_combined_samples.csv\", sep=\"\\t\")\n",
    "new_raw_df.drop(\"Unnamed: 0\", axis=1, inplace=True)\n",
    "new_raw_df"
   ]
  },
  {
   "cell_type": "markdown",
   "id": "60fdf4c1",
   "metadata": {},
   "source": [
    "### Klassenverteilung\n",
    "Wie sich hieraus erschließt, haben wir aus den insgesamt 500 Sätzen 302 Sätze ohne Stereotyp und 198 Sätze mit einem beliebigen Stereotyp erhalten. Das heißt, dass es im ungefähren Verhältnis 3:2 mehr Sätze ohne Stereotyp gibt als mit."
   ]
  },
  {
   "cell_type": "code",
   "execution_count": 44,
   "id": "e7f33a17",
   "metadata": {},
   "outputs": [
    {
     "data": {
      "text/plain": [
       "302"
      ]
     },
     "execution_count": 44,
     "metadata": {},
     "output_type": "execute_result"
    }
   ],
   "source": [
    "# Number of sentences labeled with \"x\"\n",
    "sum(raw_df[\"Frame\"] == \"x\")"
   ]
  },
  {
   "cell_type": "code",
   "execution_count": 45,
   "id": "acb07049",
   "metadata": {},
   "outputs": [
    {
     "data": {
      "text/plain": [
       "198"
      ]
     },
     "execution_count": 45,
     "metadata": {},
     "output_type": "execute_result"
    }
   ],
   "source": [
    "# Number of sentences labeled with a frame or a category\n",
    "sum(raw_df[\"Frame\"] != \"x\")"
   ]
  },
  {
   "cell_type": "markdown",
   "id": "5c239ec7",
   "metadata": {},
   "source": [
    "### ***UPDATE MIT NEUEN ANNOTIERTEN DATEN:***"
   ]
  },
  {
   "cell_type": "code",
   "execution_count": 46,
   "id": "3dc1c62b",
   "metadata": {},
   "outputs": [
    {
     "data": {
      "text/plain": [
       "626"
      ]
     },
     "execution_count": 46,
     "metadata": {},
     "output_type": "execute_result"
    }
   ],
   "source": [
    "# Number of sentences labeled with \"x\"\n",
    "sum(new_raw_df[\"Frame\"] == \"x\")"
   ]
  },
  {
   "cell_type": "code",
   "execution_count": 47,
   "id": "c9fc4690",
   "metadata": {},
   "outputs": [
    {
     "data": {
      "text/plain": [
       "374"
      ]
     },
     "execution_count": 47,
     "metadata": {},
     "output_type": "execute_result"
    }
   ],
   "source": [
    "# Number of sentences labeled with a frame or a category\n",
    "sum(new_raw_df[\"Frame\"] != \"x\")"
   ]
  },
  {
   "cell_type": "markdown",
   "id": "163810dc",
   "metadata": {},
   "source": [
    "Die Klassenverteilung bleibt auch nach Hinzufügen der neuen annotierten Daten in etwa gleich. Das Verhältnis verschiebt sich leicht zugunsten der mit einem Frame bzw. einer Kategorie gelabelten Aussagen."
   ]
  },
  {
   "cell_type": "markdown",
   "id": "0cb2cf79",
   "metadata": {},
   "source": [
    "## Preprocessing \n",
    "Für den Schritt des Preprocessing haben wir die Sätze tokenisiert, die Groß- und Kleinschreibung einheitlich gemacht indem alle tokens als lowercase gespeichert wurden, und die Punktuation und Stoppwörter entfernt. Beim Vorgehen haben wir uns an Sánchez-Junquera et.al. orientiert."
   ]
  },
  {
   "cell_type": "code",
   "execution_count": 48,
   "id": "bf5d506f",
   "metadata": {},
   "outputs": [],
   "source": [
    "def preprocess(sent):\n",
    "    \"\"\"Takes a sentence, tokenizes it, converts it to lower, removes punctuation and stopwords\"\"\"\n",
    "    # Tokenize\n",
    "    doc = nlp(sent)\n",
    "    tokens = [token.text for token in doc]\n",
    "    # To lower\n",
    "    tokens_lower = [t.lower() for t in tokens]\n",
    "    # Remove punctuation and stopwords\n",
    "    clean = [t for t in tokens_lower if t.isalpha() and t not in de_stopwords]\n",
    "    return \" \".join(clean)\n",
    "\n",
    "\n",
    "def apply_preprocessing(sents):\n",
    "    \"\"\"Takes an array/a list of sentences and applies preprocess() to all sentences\"\"\"\n",
    "    clean_sents = []\n",
    "    for sent in sents:\n",
    "        clean_sents.append(preprocess(sent))\n",
    "    return np.array(clean_sents)"
   ]
  },
  {
   "cell_type": "code",
   "execution_count": 49,
   "id": "2b9c2d31",
   "metadata": {},
   "outputs": [
    {
     "data": {
      "text/plain": [
       "500"
      ]
     },
     "execution_count": 49,
     "metadata": {},
     "output_type": "execute_result"
    }
   ],
   "source": [
    "raw_sents = raw_df[\"Sentence\"].to_numpy()\n",
    "# Preprocess\n",
    "sents = apply_preprocessing(raw_sents)\n",
    "sents.size"
   ]
  },
  {
   "cell_type": "markdown",
   "id": "a1d00049",
   "metadata": {},
   "source": [
    "### ***UPDATE MIT NEUEN ANNOTIERTEN DATEN:***"
   ]
  },
  {
   "cell_type": "code",
   "execution_count": 50,
   "id": "daa115ed",
   "metadata": {},
   "outputs": [
    {
     "data": {
      "text/plain": [
       "1000"
      ]
     },
     "execution_count": 50,
     "metadata": {},
     "output_type": "execute_result"
    }
   ],
   "source": [
    "new_raw_sents = new_raw_df[\"Sentence\"].to_numpy()\n",
    "# Preprocess\n",
    "new_sents = apply_preprocessing(new_raw_sents)\n",
    "new_sents.size"
   ]
  },
  {
   "cell_type": "markdown",
   "id": "a5748bf9",
   "metadata": {},
   "source": [
    "## Vorgehen & Ziele\n",
    "Sánchez-Junquera et al. untersuchen in ihrem Paper, wie effektiv klassische ML-Modelle und SOA-Modelle mithilfe der erstellten Taxonomie und des darauf basierenden annotierten Korpus das Framing von Migrant\\*innen klassifizieren können. Dabei werden zwei binäre Klassifikationsprobleme betrachtet:\n",
    "- Enthält eine Aussage Stereotype über Migrant\\*innen oder nicht? (\"Stereotype vs. Nonstereotype\")\n",
    "- Angenommen, die Aussage enthält Stereotype: Werden Migrant\\*innen als Opfer oder Bedrohung dargestellt? (\"Victim vs. Threat\")\n",
    "\n",
    "Wir führen diese Aufgaben mit einem klassischen ML-Modell für überwachtes Lernen, der Support Vector Machine, durch. Wir nutzen, wie die Autor\\*innen des Papers, die Implementation von Scikit-learn. Sánchez-Junquera et al. trainieren die Modelle mit der tfidf-gewichteten Bag-of-words Repräsentation der Sätze. Es werden Unigramme, Bigramme und Trigramme verwendet, wobei Unigramme die besten Ergebnisse erzielen.\n",
    "Im Rahmen dieses Projektes nutzen wir ebenfalls die Bag-of-words Repräsentation, wobei wir das Modell sowohl mit tfidf-Gewichtung als auch ohne tfidf-Gewichtung trainieren. Außerdem testen wir Sentiment als Feature. \n",
    "\n",
    "Ziel des Projektes ist es nicht, eine möglichst hohe Performanz der Modelle zu erreichen. Es geht eher darum, die Methode von Sánchez-Junquera et al. explorativ für einen deutschen Korpus nachzubilden. Ist bei einem klassischen ML-Modell, wie der Support-Vector-Machine ein Lerneffekt erkennbar oder basiert die Klassifizierung mehr auf Zufall und geht nicht tatsächlich signifikant über die Accuracy einer Majority Baseline hinaus? Wie gut eignen sich triviale lexikalische Features für das Training? Ist eine Sentimentanalyse hilfreich? Was sagen uns Konfusionsmatrix etc.?"
   ]
  },
  {
   "cell_type": "code",
   "execution_count": 51,
   "id": "9f945c25",
   "metadata": {},
   "outputs": [
    {
     "data": {
      "text/plain": [
       "500"
      ]
     },
     "execution_count": 51,
     "metadata": {},
     "output_type": "execute_result"
    }
   ],
   "source": [
    "# Array with original indexes so we can retrieve raw sentences later\n",
    "orig_indexes = np.arange(raw_sents.size)\n",
    "orig_indexes.size"
   ]
  },
  {
   "cell_type": "markdown",
   "id": "6e564c99",
   "metadata": {},
   "source": [
    "### ***UPDATE MIT NEUEN ANNOTIERTEN DATEN:***"
   ]
  },
  {
   "cell_type": "code",
   "execution_count": 52,
   "id": "1241517f",
   "metadata": {},
   "outputs": [
    {
     "data": {
      "text/plain": [
       "1000"
      ]
     },
     "execution_count": 52,
     "metadata": {},
     "output_type": "execute_result"
    }
   ],
   "source": [
    "# Array with original indexes so we can retrieve raw sentences later\n",
    "new_orig_indexes = np.arange(new_raw_sents.size)\n",
    "new_orig_indexes.size"
   ]
  },
  {
   "cell_type": "markdown",
   "id": "80b2bae4",
   "metadata": {},
   "source": [
    "## 1. Aufgabe: Stereotype vs. Keine Stereotype\n",
    "Die Arbeit von Sánchez-Junquera et al. hebt sich von vorangegangenen Arbeiten zur automatischen Identifizierung von Stereotypen (über Migrant\\*innen) dadurch ab, dass sie das Framing von von Migrant\\*innen ins Zentrum rückt. Dies soll ermöglichen auch subtile Stereotypisierungen zu berücksichtigen, die nicht durch die Kategorie \"Migrant\\*innen werden wörtlich negative Attribute zugeschrieben\" erfasst werden. Das Augenmerkt der ersten Klassifikationsaufgabe liegt also darin, die Modelle in Hinblick auf ihre Fähigkeit, subtile Stereotype zu erkennen, zu bewerten.\n",
    "\n",
    "Die Annotator\\*innen wurden gebeten, die Aussagen über Migrant\\*innen Frames zuzuordnen. Sánchez-Junquera et al. erheben den Anspruch, dass die Taxonomie von Frames, vollständig die Dimensionen der Stereotypisierung von Migrant\\*innen abbildet, sei sie positiv oder negativ. Alle Sätze, denen ein Frame oder eine Kategorie zugeordnet wurde, enthalten also laut Sánchez-Junquera et al. Stereotype.\n",
    "Sätze, welche keinem Frame oder keiner Kategorie zugeordnet werden konnten, sollten mit \"x\" annotiert werden. \n",
    "\n",
    "Dem Datensatz wird eine Spalte \"Contains stereotypes\" mit den Goldlabels für die Klassifikation hinzugefügt. Sätze, welche mit \"x\" annotiert wurden, erhalten das Label \"0\" für \"enthält keine Stereotype\". Alle anderen Sätze erhalten \"1\" als Label."
   ]
  },
  {
   "cell_type": "code",
   "execution_count": 53,
   "id": "0d5e51b0",
   "metadata": {},
   "outputs": [],
   "source": [
    "def get_binary_labels(data):\n",
    "    \"\"\"Add column to df with binary labels for classification\"\"\"\n",
    "    data.loc[data[\"Frame\"] == \"x\", \"Contains stereotypes\"] = 0\n",
    "    data.loc[data[\"Frame\"] != \"x\", \"Contains stereotypes\"] = 1\n",
    "    return data"
   ]
  },
  {
   "cell_type": "code",
   "execution_count": 54,
   "id": "dc8180b7",
   "metadata": {},
   "outputs": [
    {
     "data": {
      "text/html": [
       "<div>\n",
       "<style scoped>\n",
       "    .dataframe tbody tr th:only-of-type {\n",
       "        vertical-align: middle;\n",
       "    }\n",
       "\n",
       "    .dataframe tbody tr th {\n",
       "        vertical-align: top;\n",
       "    }\n",
       "\n",
       "    .dataframe thead th {\n",
       "        text-align: right;\n",
       "    }\n",
       "</style>\n",
       "<table border=\"1\" class=\"dataframe\">\n",
       "  <thead>\n",
       "    <tr style=\"text-align: right;\">\n",
       "      <th></th>\n",
       "      <th>Term_NDoc_Date</th>\n",
       "      <th>Sentence</th>\n",
       "      <th>Frame</th>\n",
       "      <th>Contains stereotypes</th>\n",
       "    </tr>\n",
       "  </thead>\n",
       "  <tbody>\n",
       "    <tr>\n",
       "      <th>0</th>\n",
       "      <td>18_100_2015-04-23</td>\n",
       "      <td>Erste Beratung des von der Bundesregierung eingebrachten Entwurfs eines Gesetzes zur Förderung von Investitionen finanzschwacher Kommunen und zur Entlastung von Ländern und Kommunen bei der Aufnahme und Unterbringung von Asylbewerbern Drucksache 18/4653 (neu) ............</td>\n",
       "      <td>x</td>\n",
       "      <td>0.0</td>\n",
       "    </tr>\n",
       "    <tr>\n",
       "      <th>1</th>\n",
       "      <td>18_100_2015-04-23</td>\n",
       "      <td>Mit dem vorliegenden Entwurf eines Nachtragshaushalts 2015 und dem Entwurf eines Gesetzes zur Förderung von Investitionen finanzschwacher Kommunen und zur Entlastung von Ländern und Kommunen bei der Aufnahme und Unterbringung von Asylbewerbern setzt die Bundesregierung ihre Politik für eine größere Tragfähigkeit der öffentlichen Finanzen und für Wachstum fort.</td>\n",
       "      <td>3</td>\n",
       "      <td>1.0</td>\n",
       "    </tr>\n",
       "    <tr>\n",
       "      <th>2</th>\n",
       "      <td>18_100_2015-04-23</td>\n",
       "      <td>Berlin, Donnerstag, den 23. April 2015 9485  Dr. Dietmar Bartsch  (A) (C)  (D)(B) bereitstellen – auch in Kenntnis der Tatsache, dass die Übergriffe auf Ausländer, auf Unterkünfte der Asylbewerber zugenommen haben und dass Menschen, die im Ehrenamt diese Willkommenskultur, von der wir alle sprechen, leben, eben nicht wenige Probleme haben.</td>\n",
       "      <td>2.1</td>\n",
       "      <td>1.0</td>\n",
       "    </tr>\n",
       "    <tr>\n",
       "      <th>3</th>\n",
       "      <td>18_100_2015-04-23</td>\n",
       "      <td>Es ist überhaupt nicht hinnehmbar, wenn der Generalsekretär einer immerhin regierungstragenden Partei, der CSU, sagt, das Asylrecht sei nicht für Sozialtouristen gemacht, die einen Freifahrtschein ins „All-inclusive-Sozialparadies“ buchen wollen.</td>\n",
       "      <td>4.4</td>\n",
       "      <td>1.0</td>\n",
       "    </tr>\n",
       "    <tr>\n",
       "      <th>4</th>\n",
       "      <td>18_100_2015-04-23</td>\n",
       "      <td>Denn auch unter dem Gesichtspunkt – Kollege Bartsch hat auf die Flüchtlingsströme hingewiesen –, dass wir in den nächsten Jahren große Anstrengungen unternehmen müssen, um Flüchtlinge aufzunehmen und zu integrieren – Integration ist fast genauso wichtig –, muss die Leistungsbereitschaft der Kommunen gewährleistet sein.</td>\n",
       "      <td>4.1</td>\n",
       "      <td>1.0</td>\n",
       "    </tr>\n",
       "  </tbody>\n",
       "</table>\n",
       "</div>"
      ],
      "text/plain": [
       "      Term_NDoc_Date  \\\n",
       "0  18_100_2015-04-23   \n",
       "1  18_100_2015-04-23   \n",
       "2  18_100_2015-04-23   \n",
       "3  18_100_2015-04-23   \n",
       "4  18_100_2015-04-23   \n",
       "\n",
       "                                                                                                                                                                                                                                                                                                                                                                     Sentence  \\\n",
       "0                                                                                            Erste Beratung des von der Bundesregierung eingebrachten Entwurfs eines Gesetzes zur Förderung von Investitionen finanzschwacher Kommunen und zur Entlastung von Ländern und Kommunen bei der Aufnahme und Unterbringung von Asylbewerbern Drucksache 18/4653 (neu) ............   \n",
       "1  Mit dem vorliegenden Entwurf eines Nachtragshaushalts 2015 und dem Entwurf eines Gesetzes zur Förderung von Investitionen finanzschwacher Kommunen und zur Entlastung von Ländern und Kommunen bei der Aufnahme und Unterbringung von Asylbewerbern setzt die Bundesregierung ihre Politik für eine größere Tragfähigkeit der öffentlichen Finanzen und für Wachstum fort.   \n",
       "2                       Berlin, Donnerstag, den 23. April 2015 9485  Dr. Dietmar Bartsch  (A) (C)  (D)(B) bereitstellen – auch in Kenntnis der Tatsache, dass die Übergriffe auf Ausländer, auf Unterkünfte der Asylbewerber zugenommen haben und dass Menschen, die im Ehrenamt diese Willkommenskultur, von der wir alle sprechen, leben, eben nicht wenige Probleme haben.   \n",
       "3                                                                                                                      Es ist überhaupt nicht hinnehmbar, wenn der Generalsekretär einer immerhin regierungstragenden Partei, der CSU, sagt, das Asylrecht sei nicht für Sozialtouristen gemacht, die einen Freifahrtschein ins „All-inclusive-Sozialparadies“ buchen wollen.   \n",
       "4                                            Denn auch unter dem Gesichtspunkt – Kollege Bartsch hat auf die Flüchtlingsströme hingewiesen –, dass wir in den nächsten Jahren große Anstrengungen unternehmen müssen, um Flüchtlinge aufzunehmen und zu integrieren – Integration ist fast genauso wichtig –, muss die Leistungsbereitschaft der Kommunen gewährleistet sein.   \n",
       "\n",
       "  Frame  Contains stereotypes  \n",
       "0     x                   0.0  \n",
       "1     3                   1.0  \n",
       "2   2.1                   1.0  \n",
       "3   4.4                   1.0  \n",
       "4   4.1                   1.0  "
      ]
     },
     "execution_count": 54,
     "metadata": {},
     "output_type": "execute_result"
    }
   ],
   "source": [
    "df = get_binary_labels(raw_df)\n",
    "df.head()"
   ]
  },
  {
   "cell_type": "code",
   "execution_count": 55,
   "id": "ecbf36e3",
   "metadata": {},
   "outputs": [],
   "source": [
    "# Get goldlabels\n",
    "y = df[\"Contains stereotypes\"].to_numpy()"
   ]
  },
  {
   "cell_type": "markdown",
   "id": "931701cf",
   "metadata": {},
   "source": [
    "### ***UPDATE MIT NEUEN ANNOTIERTEN DATEN:***"
   ]
  },
  {
   "cell_type": "code",
   "execution_count": 56,
   "id": "6fd65c2d",
   "metadata": {},
   "outputs": [
    {
     "data": {
      "text/html": [
       "<div>\n",
       "<style scoped>\n",
       "    .dataframe tbody tr th:only-of-type {\n",
       "        vertical-align: middle;\n",
       "    }\n",
       "\n",
       "    .dataframe tbody tr th {\n",
       "        vertical-align: top;\n",
       "    }\n",
       "\n",
       "    .dataframe thead th {\n",
       "        text-align: right;\n",
       "    }\n",
       "</style>\n",
       "<table border=\"1\" class=\"dataframe\">\n",
       "  <thead>\n",
       "    <tr style=\"text-align: right;\">\n",
       "      <th></th>\n",
       "      <th>Term_NDoc_Date</th>\n",
       "      <th>Sentence</th>\n",
       "      <th>Frame</th>\n",
       "      <th>Contains stereotypes</th>\n",
       "    </tr>\n",
       "  </thead>\n",
       "  <tbody>\n",
       "    <tr>\n",
       "      <th>0</th>\n",
       "      <td>18_100_2015-04-23</td>\n",
       "      <td>Erste Beratung des von der Bundesregierung eingebrachten Entwurfs eines Gesetzes zur Förderung von Investitionen finanzschwacher Kommunen und zur Entlastung von Ländern und Kommunen bei der Aufnahme und Unterbringung von Asylbewerbern Drucksache 18/4653 (neu) ............</td>\n",
       "      <td>x</td>\n",
       "      <td>0.0</td>\n",
       "    </tr>\n",
       "    <tr>\n",
       "      <th>1</th>\n",
       "      <td>18_100_2015-04-23</td>\n",
       "      <td>Mit dem vorliegenden Entwurf eines Nachtragshaushalts 2015 und dem Entwurf eines Gesetzes zur Förderung von Investitionen finanzschwacher Kommunen und zur Entlastung von Ländern und Kommunen bei der Aufnahme und Unterbringung von Asylbewerbern setzt die Bundesregierung ihre Politik für eine größere Tragfähigkeit der öffentlichen Finanzen und für Wachstum fort.</td>\n",
       "      <td>3</td>\n",
       "      <td>1.0</td>\n",
       "    </tr>\n",
       "    <tr>\n",
       "      <th>2</th>\n",
       "      <td>18_100_2015-04-23</td>\n",
       "      <td>Berlin, Donnerstag, den 23. April 2015 9485  Dr. Dietmar Bartsch  (A) (C)  (D)(B) bereitstellen – auch in Kenntnis der Tatsache, dass die Übergriffe auf Ausländer, auf Unterkünfte der Asylbewerber zugenommen haben und dass Menschen, die im Ehrenamt diese Willkommenskultur, von der wir alle sprechen, leben, eben nicht wenige Probleme haben.</td>\n",
       "      <td>2.1</td>\n",
       "      <td>1.0</td>\n",
       "    </tr>\n",
       "    <tr>\n",
       "      <th>3</th>\n",
       "      <td>18_100_2015-04-23</td>\n",
       "      <td>Es ist überhaupt nicht hinnehmbar, wenn der Generalsekretär einer immerhin regierungstragenden Partei, der CSU, sagt, das Asylrecht sei nicht für Sozialtouristen gemacht, die einen Freifahrtschein ins „All-inclusive-Sozialparadies“ buchen wollen.</td>\n",
       "      <td>4.4</td>\n",
       "      <td>1.0</td>\n",
       "    </tr>\n",
       "    <tr>\n",
       "      <th>4</th>\n",
       "      <td>18_100_2015-04-23</td>\n",
       "      <td>Denn auch unter dem Gesichtspunkt – Kollege Bartsch hat auf die Flüchtlingsströme hingewiesen –, dass wir in den nächsten Jahren große Anstrengungen unternehmen müssen, um Flüchtlinge aufzunehmen und zu integrieren – Integration ist fast genauso wichtig –, muss die Leistungsbereitschaft der Kommunen gewährleistet sein.</td>\n",
       "      <td>4.1</td>\n",
       "      <td>1.0</td>\n",
       "    </tr>\n",
       "  </tbody>\n",
       "</table>\n",
       "</div>"
      ],
      "text/plain": [
       "      Term_NDoc_Date  \\\n",
       "0  18_100_2015-04-23   \n",
       "1  18_100_2015-04-23   \n",
       "2  18_100_2015-04-23   \n",
       "3  18_100_2015-04-23   \n",
       "4  18_100_2015-04-23   \n",
       "\n",
       "                                                                                                                                                                                                                                                                                                                                                                     Sentence  \\\n",
       "0                                                                                            Erste Beratung des von der Bundesregierung eingebrachten Entwurfs eines Gesetzes zur Förderung von Investitionen finanzschwacher Kommunen und zur Entlastung von Ländern und Kommunen bei der Aufnahme und Unterbringung von Asylbewerbern Drucksache 18/4653 (neu) ............   \n",
       "1  Mit dem vorliegenden Entwurf eines Nachtragshaushalts 2015 und dem Entwurf eines Gesetzes zur Förderung von Investitionen finanzschwacher Kommunen und zur Entlastung von Ländern und Kommunen bei der Aufnahme und Unterbringung von Asylbewerbern setzt die Bundesregierung ihre Politik für eine größere Tragfähigkeit der öffentlichen Finanzen und für Wachstum fort.   \n",
       "2                       Berlin, Donnerstag, den 23. April 2015 9485  Dr. Dietmar Bartsch  (A) (C)  (D)(B) bereitstellen – auch in Kenntnis der Tatsache, dass die Übergriffe auf Ausländer, auf Unterkünfte der Asylbewerber zugenommen haben und dass Menschen, die im Ehrenamt diese Willkommenskultur, von der wir alle sprechen, leben, eben nicht wenige Probleme haben.   \n",
       "3                                                                                                                      Es ist überhaupt nicht hinnehmbar, wenn der Generalsekretär einer immerhin regierungstragenden Partei, der CSU, sagt, das Asylrecht sei nicht für Sozialtouristen gemacht, die einen Freifahrtschein ins „All-inclusive-Sozialparadies“ buchen wollen.   \n",
       "4                                            Denn auch unter dem Gesichtspunkt – Kollege Bartsch hat auf die Flüchtlingsströme hingewiesen –, dass wir in den nächsten Jahren große Anstrengungen unternehmen müssen, um Flüchtlinge aufzunehmen und zu integrieren – Integration ist fast genauso wichtig –, muss die Leistungsbereitschaft der Kommunen gewährleistet sein.   \n",
       "\n",
       "  Frame  Contains stereotypes  \n",
       "0     x                   0.0  \n",
       "1     3                   1.0  \n",
       "2   2.1                   1.0  \n",
       "3   4.4                   1.0  \n",
       "4   4.1                   1.0  "
      ]
     },
     "execution_count": 56,
     "metadata": {},
     "output_type": "execute_result"
    }
   ],
   "source": [
    "new_df = get_binary_labels(new_raw_df)\n",
    "new_y = new_df[\"Contains stereotypes\"].to_numpy()\n",
    "new_df.head()"
   ]
  },
  {
   "cell_type": "markdown",
   "id": "2e887425",
   "metadata": {},
   "source": [
    "### Extraktion von Features für überwachtes Lernen\n",
    "#### 1. Bag-of-Ngrams ohne Tfidf-Gewichtung\n",
    "Zunächst wandeln wir den Datensatz in seine Bag-of-words bzw. \"Bag-of-ngrams\" Repräsentation um. Jeder Satz wird also als Vektor dargestellt, dessen Werte die Counts aller im Datensatz vorkommenden Ngramme darstellen."
   ]
  },
  {
   "cell_type": "code",
   "execution_count": 57,
   "id": "14e3f026",
   "metadata": {},
   "outputs": [],
   "source": [
    "def get_ngram_count_matrx(sents, n):\n",
    "    \"\"\"Get ngrams and ngram count matrix\"\"\"\n",
    "    vectorizer = CountVectorizer(ngram_range=(n, n))\n",
    "    ngram_count_matrx = vectorizer.fit_transform(sents).toarray()\n",
    "    ngrams = vectorizer.get_feature_names_out()\n",
    "    return ngrams, ngram_count_matrx"
   ]
  },
  {
   "cell_type": "code",
   "execution_count": 58,
   "id": "47c0a0a0",
   "metadata": {},
   "outputs": [],
   "source": [
    "unigrams, unigram_count_matrx = get_ngram_count_matrx(sents, 1)\n",
    "bigrams, bigram_count_matrx = get_ngram_count_matrx(sents, 2)\n",
    "trigrams, trigram_count_matrx = get_ngram_count_matrx(sents, 3)"
   ]
  },
  {
   "cell_type": "code",
   "execution_count": 59,
   "id": "74cde944",
   "metadata": {},
   "outputs": [
    {
     "data": {
      "text/plain": [
       "(2457, 4371, 4091)"
      ]
     },
     "execution_count": 59,
     "metadata": {},
     "output_type": "execute_result"
    }
   ],
   "source": [
    "# Number of unique unigrams, bigrams and trigrams\n",
    "unigrams.size, bigrams.size, trigrams.size"
   ]
  },
  {
   "cell_type": "code",
   "execution_count": 60,
   "id": "73fa8a70",
   "metadata": {
    "scrolled": false
   },
   "outputs": [
    {
     "data": {
      "text/plain": [
       "((500, 2457), (500, 4371), (500, 4091))"
      ]
     },
     "execution_count": 60,
     "metadata": {},
     "output_type": "execute_result"
    }
   ],
   "source": [
    "unigram_count_matrx.shape, bigram_count_matrx.shape, trigram_count_matrx.shape"
   ]
  },
  {
   "cell_type": "markdown",
   "id": "6fc4e010",
   "metadata": {},
   "source": [
    "### ***UPDATE MIT NEUEN ANNOTIERTEN DATEN:***"
   ]
  },
  {
   "cell_type": "code",
   "execution_count": 61,
   "id": "b72649e3",
   "metadata": {},
   "outputs": [
    {
     "data": {
      "text/plain": [
       "(4088, 8651, 8222)"
      ]
     },
     "execution_count": 61,
     "metadata": {},
     "output_type": "execute_result"
    }
   ],
   "source": [
    "new_unigrams, new_unigram_count_matrx = get_ngram_count_matrx(new_sents, 1)\n",
    "new_bigrams, new_bigram_count_matrx = get_ngram_count_matrx(new_sents, 2)\n",
    "new_trigrams, new_trigram_count_matrx = get_ngram_count_matrx(new_sents, 3)\n",
    "\n",
    "new_unigrams.size, new_bigrams.size, new_trigrams.size"
   ]
  },
  {
   "cell_type": "markdown",
   "id": "0072812f",
   "metadata": {},
   "source": [
    "#### 2. Bag-of-ngrams mit Tfidf-Gewichtung\n",
    "Nun ziehen wir das Tfidf-Maß hinzu, um die Counts der Ngramme zu gewichten."
   ]
  },
  {
   "cell_type": "code",
   "execution_count": 62,
   "id": "2b0950da",
   "metadata": {},
   "outputs": [],
   "source": [
    "# Add weighing with tfidf\n",
    "def transform_to_tfidf(ngram_count_matrx):\n",
    "    \"\"\"Takes count matrix and transforms matrix based on tfidf\"\"\"\n",
    "    transformer = TfidfTransformer()\n",
    "    tfidf_matrx = transformer.fit_transform(ngram_count_matrx).toarray()\n",
    "    return tfidf_matrx"
   ]
  },
  {
   "cell_type": "code",
   "execution_count": 63,
   "id": "23686326",
   "metadata": {},
   "outputs": [],
   "source": [
    "unigram_tfidf_matrx = transform_to_tfidf(unigram_count_matrx)\n",
    "bigram_tfidf_matrx = transform_to_tfidf(bigram_count_matrx)\n",
    "trigram_tfidf_matrx = transform_to_tfidf(trigram_count_matrx)"
   ]
  },
  {
   "cell_type": "code",
   "execution_count": 64,
   "id": "f6bc7db7",
   "metadata": {
    "scrolled": true
   },
   "outputs": [
    {
     "data": {
      "text/plain": [
       "((500, 2457), (500, 4371), (500, 4091))"
      ]
     },
     "execution_count": 64,
     "metadata": {},
     "output_type": "execute_result"
    }
   ],
   "source": [
    "unigram_tfidf_matrx.shape, bigram_tfidf_matrx.shape, trigram_tfidf_matrx.shape"
   ]
  },
  {
   "cell_type": "markdown",
   "id": "db51640e",
   "metadata": {},
   "source": [
    "### ***UPDATE MIT NEUEN ANNOTIERTEN DATEN:***"
   ]
  },
  {
   "cell_type": "code",
   "execution_count": 65,
   "id": "d8ee214f",
   "metadata": {},
   "outputs": [
    {
     "data": {
      "text/plain": [
       "((1000, 4088), (1000, 8651), (1000, 8222))"
      ]
     },
     "execution_count": 65,
     "metadata": {},
     "output_type": "execute_result"
    }
   ],
   "source": [
    "new_unigram_tfidf_matrx = transform_to_tfidf(new_unigram_count_matrx)\n",
    "new_bigram_tfidf_matrx = transform_to_tfidf(new_bigram_count_matrx)\n",
    "new_trigram_tfidf_matrx = transform_to_tfidf(new_trigram_count_matrx)\n",
    "\n",
    "new_unigram_tfidf_matrx.shape, new_bigram_tfidf_matrx.shape, new_trigram_tfidf_matrx.shape"
   ]
  },
  {
   "cell_type": "markdown",
   "id": "588b55a7",
   "metadata": {},
   "source": [
    "#### 3. Sentiment Scores\n",
    "Als letztes berechnen wir für jeden Satz noch den Sentiment score. Dafür nutzen wir das Package TextBlobDE."
   ]
  },
  {
   "cell_type": "code",
   "execution_count": 66,
   "id": "1640e1de",
   "metadata": {},
   "outputs": [],
   "source": [
    "def get_sentiment(sents):\n",
    "    \"\"\"Takes an array/ a list of senteences and returns an array of corresponding polarity scores\"\"\"\n",
    "    sentiment = []\n",
    "    for sent in sents:\n",
    "        blob = TextBlobDE(sent)\n",
    "        sentiment.append(blob.polarity)\n",
    "    return np.array(sentiment)"
   ]
  },
  {
   "cell_type": "code",
   "execution_count": 67,
   "id": "d5e5224c",
   "metadata": {},
   "outputs": [
    {
     "data": {
      "text/plain": [
       "(500, 1)"
      ]
     },
     "execution_count": 67,
     "metadata": {},
     "output_type": "execute_result"
    }
   ],
   "source": [
    "sentiment_scores = get_sentiment(sents).reshape(-1, 1)\n",
    "sentiment_scores.shape"
   ]
  },
  {
   "cell_type": "markdown",
   "id": "372232ea",
   "metadata": {},
   "source": [
    "### ***UPDATE MIT NEUEN ANNOTIERTEN DATEN:***"
   ]
  },
  {
   "cell_type": "code",
   "execution_count": 68,
   "id": "30646510",
   "metadata": {},
   "outputs": [
    {
     "data": {
      "text/plain": [
       "(1000, 1)"
      ]
     },
     "execution_count": 68,
     "metadata": {},
     "output_type": "execute_result"
    }
   ],
   "source": [
    "new_sentiment_scores = get_sentiment(new_sents).reshape(-1, 1)\n",
    "new_sentiment_scores.shape"
   ]
  },
  {
   "cell_type": "code",
   "execution_count": 69,
   "id": "2f0e7020",
   "metadata": {},
   "outputs": [],
   "source": [
    "# Create dicts with features\n",
    "name2ngram_counts = {\n",
    "    \"Unigram counts\": unigram_count_matrx,\n",
    "    \"Bigram counts\": bigram_count_matrx, \n",
    "    \"Trigram counts\": trigram_count_matrx\n",
    "}\n",
    "name2ngram_tfidf = {\n",
    "    \"Unigram Tfidf\": unigram_tfidf_matrx,\n",
    "    \"Bigram Tfidf\": bigram_tfidf_matrx,\n",
    "    \"Trigram Tfidf\": trigram_tfidf_matrx\n",
    "}"
   ]
  },
  {
   "cell_type": "markdown",
   "id": "099080ea",
   "metadata": {},
   "source": [
    "### ***UPDATE MIT NEUEN ANNOTIERTEN DATEN:***"
   ]
  },
  {
   "cell_type": "code",
   "execution_count": 70,
   "id": "17e335a4",
   "metadata": {},
   "outputs": [],
   "source": [
    "# Create new dicts with features\n",
    "new_name2ngram_counts = {\n",
    "    \"Unigram counts\": new_unigram_count_matrx,\n",
    "    \"Bigram counts\": new_bigram_count_matrx, \n",
    "    \"Trigram counts\": new_trigram_count_matrx\n",
    "}\n",
    "new_name2ngram_tfidf = {\n",
    "    \"Unigram Tfidf\": new_unigram_tfidf_matrx,\n",
    "    \"Bigram Tfidf\": new_bigram_tfidf_matrx,\n",
    "    \"Trigram Tfidf\": new_trigram_tfidf_matrx\n",
    "}"
   ]
  },
  {
   "cell_type": "markdown",
   "id": "e4ecfe33",
   "metadata": {},
   "source": [
    "### Trainieren und Evaluieren der Modelle"
   ]
  },
  {
   "cell_type": "markdown",
   "id": "502cea34",
   "metadata": {},
   "source": [
    "**Majority Baseline:**\n",
    "\n",
    "Als Baseline verwenden wir eine Majority Baseline, d.h. es wird immer die häufigste Kategorie vorhergesagt. Sie hat eine Accuracy von 0.604."
   ]
  },
  {
   "cell_type": "code",
   "execution_count": 71,
   "id": "3619bd1d",
   "metadata": {},
   "outputs": [
    {
     "name": "stdout",
     "output_type": "stream",
     "text": [
      "Accuracy of majority baseline: 0.604\n"
     ]
    }
   ],
   "source": [
    "# Train baseline\n",
    "dummy_clf = DummyClassifier(strategy=\"most_frequent\")\n",
    "dummy_clf.fit(sents, y)\n",
    "acc = dummy_clf.score(sents,y)\n",
    "print(f\"Accuracy of majority baseline: {acc}\")"
   ]
  },
  {
   "cell_type": "markdown",
   "id": "9cf33551",
   "metadata": {},
   "source": [
    "### ***UPDATE MIT NEUEN ANNOTIERTEN DATEN:***"
   ]
  },
  {
   "cell_type": "code",
   "execution_count": 72,
   "id": "bf2a3692",
   "metadata": {},
   "outputs": [
    {
     "name": "stdout",
     "output_type": "stream",
     "text": [
      "Accuracy of majority baseline: 0.626\n"
     ]
    }
   ],
   "source": [
    "# Train baseline\n",
    "dummy_clf = DummyClassifier(strategy=\"most_frequent\")\n",
    "dummy_clf.fit(new_sents, new_y)\n",
    "acc = dummy_clf.score(new_sents,new_y)\n",
    "print(f\"Accuracy of majority baseline: {acc}\")"
   ]
  },
  {
   "cell_type": "code",
   "execution_count": 78,
   "id": "c708d1e5",
   "metadata": {},
   "outputs": [],
   "source": [
    "def train_model(X, y, orig_indexes, model):\n",
    "    \"\"\"\n",
    "    Takes data, goldlabels, list of original indexes from raw data and a classifier model,\n",
    "    splits the data into training and test set, fits the model to the training data and returns\n",
    "    the goldlabels for testing, the labels predicted by the model and an array of original indexes\n",
    "    to retrieve raw sentences corresponding to the predicted labels\n",
    "    \"\"\"\n",
    "    # Split into training and test data\n",
    "    X_train, X_test, y_train, y_test, orig_train, orig_test = train_test_split(\n",
    "    X, y, orig_indexes,\n",
    "    test_size=0.2, \n",
    "    stratify=y, \n",
    "    random_state=10\n",
    "    )\n",
    "    # Fit model\n",
    "    model.fit(X_train, y_train)\n",
    "    # Make predictions\n",
    "    y_pred = model.predict(X_test)\n",
    "    \n",
    "    return y_test, y_pred, orig_test\n",
    "\n",
    "def get_predictions(raw_sents, y_test, y_pred, orig_test):\n",
    "    \"\"\"Create dataframe with raw sents of test set and predictions from model\"\"\"\n",
    "    predictions = []\n",
    "    for i in range(len(y_pred)):\n",
    "        predictions.append([raw_sents[orig_test[i]], y_pred[i], y_test[i]])\n",
    "    predictions_df = pd.DataFrame(predictions, columns=[\"Raw sentence\", \"Predicted label\", \"Gold label\"])\n",
    "    \n",
    "    return predictions_df"
   ]
  },
  {
   "cell_type": "code",
   "execution_count": 74,
   "id": "0a4877f1",
   "metadata": {},
   "outputs": [],
   "source": [
    "def get_correct(predictions):\n",
    "    \"\"\"Returns subset of correct predictions\"\"\"\n",
    "    return predictions.loc[predictions[\"Predicted label\"] == predictions[\"Gold label\"]]\n",
    "\n",
    "def get_wrong(predictions):\n",
    "    \"\"\"Returns subset of wrong predictions\"\"\"\n",
    "    return predictions.loc[predictions[\"Predicted label\"] != predictions[\"Gold label\"]]"
   ]
  },
  {
   "cell_type": "code",
   "execution_count": 79,
   "id": "7ca44d8e",
   "metadata": {},
   "outputs": [],
   "source": [
    "def print_results(feature_dict, goldlabels, index_list, raw_sents):\n",
    "    \"\"\"\n",
    "    Takes a dict containing names of features used for training as keys and training data as values,\n",
    "    call train_model for all these features and print classification report\n",
    "    \"\"\"\n",
    "    for name, features in feature_dict.items():\n",
    "        y_test, y_pred, orig_test = train_model(features, goldlabels, index_list, SVC())\n",
    "        predictions = get_predictions(raw_sents, y_test, y_pred, orig_test)\n",
    "        print(f\"{name}:\")\n",
    "        print(classification_report(y_test, y_pred, zero_division=0))\n",
    "        print(\"\\n\")"
   ]
  },
  {
   "cell_type": "markdown",
   "id": "e98e4143",
   "metadata": {},
   "source": [
    "### Ergebnisse"
   ]
  },
  {
   "cell_type": "markdown",
   "id": "2c481b8c",
   "metadata": {},
   "source": [
    "**1. Bag-of-ngrams ohne Tfidf-Gewichtung:**\n",
    "\n",
    "Die Accuracy ist bei allen Ergebnissen außer bei Bigrammen höher als die Baseline. Am besten hat das Unigram Modell mit einer Accuracy von 0.62 abgeschnitten. Allerdings ist fraglich ob die Verbesserung um lediglich 0.02 im Falle des Unigramm Modells im Vergleich zur Baseline statistisch signifikant ist.\n",
    "\n",
    "Der F1 score zeigt, dass Kategorie 0 bei allen Modellen bevorzugt vorhergesagt wird. "
   ]
  },
  {
   "cell_type": "code",
   "execution_count": 80,
   "id": "ca111e6d",
   "metadata": {},
   "outputs": [
    {
     "name": "stdout",
     "output_type": "stream",
     "text": [
      "Unigram counts:\n",
      "              precision    recall  f1-score   support\n",
      "\n",
      "         0.0       0.62      0.93      0.75        60\n",
      "         1.0       0.60      0.15      0.24        40\n",
      "\n",
      "    accuracy                           0.62       100\n",
      "   macro avg       0.61      0.54      0.49       100\n",
      "weighted avg       0.61      0.62      0.54       100\n",
      "\n",
      "\n",
      "\n",
      "Bigram counts:\n",
      "              precision    recall  f1-score   support\n",
      "\n",
      "         0.0       0.61      0.95      0.74        60\n",
      "         1.0       0.50      0.07      0.13        40\n",
      "\n",
      "    accuracy                           0.60       100\n",
      "   macro avg       0.55      0.51      0.44       100\n",
      "weighted avg       0.56      0.60      0.50       100\n",
      "\n",
      "\n",
      "\n",
      "Trigram counts:\n",
      "              precision    recall  f1-score   support\n",
      "\n",
      "         0.0       0.61      0.97      0.75        60\n",
      "         1.0       0.60      0.07      0.13        40\n",
      "\n",
      "    accuracy                           0.61       100\n",
      "   macro avg       0.61      0.52      0.44       100\n",
      "weighted avg       0.61      0.61      0.50       100\n",
      "\n",
      "\n",
      "\n"
     ]
    }
   ],
   "source": [
    "print_results(name2ngram_counts, y, orig_indexes, raw_sents)"
   ]
  },
  {
   "cell_type": "markdown",
   "id": "f66fc81c",
   "metadata": {},
   "source": [
    "### ***UPDATE MIT NEUEN ANNOTIERTEN DATEN:***"
   ]
  },
  {
   "cell_type": "code",
   "execution_count": 81,
   "id": "c58f1b2f",
   "metadata": {},
   "outputs": [
    {
     "name": "stdout",
     "output_type": "stream",
     "text": [
      "Unigram counts:\n",
      "              precision    recall  f1-score   support\n",
      "\n",
      "         0.0       0.64      0.97      0.77       125\n",
      "         1.0       0.64      0.09      0.16        75\n",
      "\n",
      "    accuracy                           0.64       200\n",
      "   macro avg       0.64      0.53      0.47       200\n",
      "weighted avg       0.64      0.64      0.54       200\n",
      "\n",
      "\n",
      "\n",
      "Bigram counts:\n",
      "              precision    recall  f1-score   support\n",
      "\n",
      "         0.0       0.62      0.99      0.77       125\n",
      "         1.0       0.00      0.00      0.00        75\n",
      "\n",
      "    accuracy                           0.62       200\n",
      "   macro avg       0.31      0.50      0.38       200\n",
      "weighted avg       0.39      0.62      0.48       200\n",
      "\n",
      "\n",
      "\n",
      "Trigram counts:\n",
      "              precision    recall  f1-score   support\n",
      "\n",
      "         0.0       0.62      1.00      0.77       125\n",
      "         1.0       0.00      0.00      0.00        75\n",
      "\n",
      "    accuracy                           0.62       200\n",
      "   macro avg       0.31      0.50      0.38       200\n",
      "weighted avg       0.39      0.62      0.48       200\n",
      "\n",
      "\n",
      "\n"
     ]
    }
   ],
   "source": [
    "print_results(new_name2ngram_counts, new_y, new_orig_indexes, new_raw_sents)"
   ]
  },
  {
   "cell_type": "markdown",
   "id": "4393ac7b",
   "metadata": {},
   "source": [
    "Mit den neuen annotierten Daten ist Verwendung der Bi- und Trigramme als Features erkennbar, dass das Modell keinen Lerneffekt erzielt. Der Recall für das Label 1 beträgt bei beiden Versuchen 0.0, das Modell sagt also nie Label 1 voraus. Bei den Unigrammen zeigt sich auch kein signifikanter Unterschied mit den neuen annotierten Daten. Unigramme weisen jedoch immer noch die beste Performanz auf. Allerdings ist immer noch fraglich, ob es einen Lerneffekt gegeben hat oder es sich um puren Zufall handelte."
   ]
  },
  {
   "cell_type": "markdown",
   "id": "cc284253",
   "metadata": {},
   "source": [
    "**2. Bag-of-ngrams mit Tfidf-Gewichtung:**\n",
    "\n",
    "Das Unigram Modell hat wieder die besten Ergebnisse, allerdings ist der macro F1 score mit 0.43 niedriger als bei dem Modell ohne Tfidf-Gewichtung. Mit einem F1 score von 0.00 für Kategorie 1 sind die Bi- und Trigramm Modelle schlechter als die Modelle ohne Tfidf-Gewichtung. Des Weiteren schaffen sie es nicht, die Accuracy der Baseline zu überbieten. Auch hier ist fraglich, ob die Verbesserung vom Unigramm Modell statistisch signifikant ist. Insgesamt schneiden alle Modelle schlechter ab als die Modelle ohne Tfidf-Gewichtung."
   ]
  },
  {
   "cell_type": "code",
   "execution_count": 82,
   "id": "b59bed3f",
   "metadata": {},
   "outputs": [
    {
     "name": "stdout",
     "output_type": "stream",
     "text": [
      "Unigram Tfidf:\n",
      "              precision    recall  f1-score   support\n",
      "\n",
      "         0.0       0.61      1.00      0.76        60\n",
      "         1.0       1.00      0.05      0.10        40\n",
      "\n",
      "    accuracy                           0.62       100\n",
      "   macro avg       0.81      0.53      0.43       100\n",
      "weighted avg       0.77      0.62      0.49       100\n",
      "\n",
      "\n",
      "\n",
      "Bigram Tfidf:\n",
      "              precision    recall  f1-score   support\n",
      "\n",
      "         0.0       0.60      1.00      0.75        60\n",
      "         1.0       0.00      0.00      0.00        40\n",
      "\n",
      "    accuracy                           0.60       100\n",
      "   macro avg       0.30      0.50      0.37       100\n",
      "weighted avg       0.36      0.60      0.45       100\n",
      "\n",
      "\n",
      "\n",
      "Trigram Tfidf:\n",
      "              precision    recall  f1-score   support\n",
      "\n",
      "         0.0       0.60      1.00      0.75        60\n",
      "         1.0       0.00      0.00      0.00        40\n",
      "\n",
      "    accuracy                           0.60       100\n",
      "   macro avg       0.30      0.50      0.37       100\n",
      "weighted avg       0.36      0.60      0.45       100\n",
      "\n",
      "\n",
      "\n"
     ]
    }
   ],
   "source": [
    "print_results(name2ngram_tfidf, y, orig_indexes, raw_sents)"
   ]
  },
  {
   "cell_type": "markdown",
   "id": "5486d971",
   "metadata": {},
   "source": [
    "### ***UPDATE MIT NEUEN ANNOTIERTEN DATEN:***"
   ]
  },
  {
   "cell_type": "code",
   "execution_count": 83,
   "id": "7165a217",
   "metadata": {},
   "outputs": [
    {
     "name": "stdout",
     "output_type": "stream",
     "text": [
      "Unigram Tfidf:\n",
      "              precision    recall  f1-score   support\n",
      "\n",
      "         0.0       0.63      0.98      0.77       125\n",
      "         1.0       0.67      0.05      0.10        75\n",
      "\n",
      "    accuracy                           0.64       200\n",
      "   macro avg       0.65      0.52      0.43       200\n",
      "weighted avg       0.65      0.64      0.52       200\n",
      "\n",
      "\n",
      "\n",
      "Bigram Tfidf:\n",
      "              precision    recall  f1-score   support\n",
      "\n",
      "         0.0       0.62      1.00      0.77       125\n",
      "         1.0       0.00      0.00      0.00        75\n",
      "\n",
      "    accuracy                           0.62       200\n",
      "   macro avg       0.31      0.50      0.38       200\n",
      "weighted avg       0.39      0.62      0.48       200\n",
      "\n",
      "\n",
      "\n",
      "Trigram Tfidf:\n",
      "              precision    recall  f1-score   support\n",
      "\n",
      "         0.0       0.62      1.00      0.77       125\n",
      "         1.0       0.00      0.00      0.00        75\n",
      "\n",
      "    accuracy                           0.62       200\n",
      "   macro avg       0.31      0.50      0.38       200\n",
      "weighted avg       0.39      0.62      0.48       200\n",
      "\n",
      "\n",
      "\n"
     ]
    }
   ],
   "source": [
    "print_results(new_name2ngram_tfidf, new_y, new_orig_indexes, new_raw_sents)"
   ]
  },
  {
   "cell_type": "markdown",
   "id": "64708927",
   "metadata": {},
   "source": [
    "Mit den neuen annotierten Daten weist die Verwendung des TF-IDF-Maßes als Feature leicht bessere Ergebnisse auf, allerdings sind diese ebenfalls als nicht besonders positiv zu bewerten. Erst mit dieser \"Verbesserung\" erreicht das Modell für Bi- und Trigramme die Baseline (vorher waren die Ergebnisse sogar unter der Baseline). Interessanterweise bewirken Unigramme immer noch die beste Performanz. Auch wenn die statistische Signifikanz zu hinterfragen ist, zeigt sich hier also eine Kontinuität in den Ergebnissen."
   ]
  },
  {
   "cell_type": "markdown",
   "id": "2c4bb235",
   "metadata": {},
   "source": [
    "**3. Sentiment:**\n",
    "\n",
    "Das Modell mit nur Sentiment ist genau so gut wie die Bi- und Trigram Modelle mit tfidf-Gewichtung. "
   ]
  },
  {
   "cell_type": "code",
   "execution_count": 84,
   "id": "d803dd2f",
   "metadata": {},
   "outputs": [
    {
     "name": "stdout",
     "output_type": "stream",
     "text": [
      "Sentiment:\n",
      "              precision    recall  f1-score   support\n",
      "\n",
      "         0.0       0.60      1.00      0.75        60\n",
      "         1.0       0.00      0.00      0.00        40\n",
      "\n",
      "    accuracy                           0.60       100\n",
      "   macro avg       0.30      0.50      0.37       100\n",
      "weighted avg       0.36      0.60      0.45       100\n",
      "\n"
     ]
    }
   ],
   "source": [
    "y_test, y_pred, orig_test = train_model(sentiment_scores, y, orig_indexes, SVC())\n",
    "predictions = get_predictions(raw_sents, y_test, y_pred, orig_test)\n",
    "print(\"Sentiment:\")\n",
    "print(classification_report(y_test, y_pred, zero_division=0))"
   ]
  },
  {
   "cell_type": "markdown",
   "id": "2c18302c",
   "metadata": {},
   "source": [
    "### ***UPDATE MIT NEUEN ANNOTIERTEN DATEN:***"
   ]
  },
  {
   "cell_type": "code",
   "execution_count": 86,
   "id": "0372278d",
   "metadata": {},
   "outputs": [
    {
     "name": "stdout",
     "output_type": "stream",
     "text": [
      "Sentiment:\n",
      "              precision    recall  f1-score   support\n",
      "\n",
      "         0.0       0.62      0.95      0.75       125\n",
      "         1.0       0.33      0.04      0.07        75\n",
      "\n",
      "    accuracy                           0.61       200\n",
      "   macro avg       0.48      0.50      0.41       200\n",
      "weighted avg       0.51      0.61      0.50       200\n",
      "\n"
     ]
    }
   ],
   "source": [
    "y_test, y_pred, orig_test = train_model(new_sentiment_scores, new_y, new_orig_indexes, SVC())\n",
    "predictions = get_predictions(new_raw_sents, y_test, y_pred, orig_test)\n",
    "print(\"Sentiment:\")\n",
    "print(classification_report(y_test, y_pred, zero_division=0))"
   ]
  },
  {
   "cell_type": "markdown",
   "id": "ae50efc4",
   "metadata": {},
   "source": [
    "Mit den neuen annotierten Daten beträgt der Recall für das Label 1 nicht mehr 0.0. und die F1-Scores (Macro und gewichtet) verbessert sich dadurch sichtlich. Trotzdem bleibt die Accuracy unter der Baseline."
   ]
  },
  {
   "cell_type": "markdown",
   "id": "0bbff234",
   "metadata": {},
   "source": [
    "**4. Kombinationen von Features:**\n",
    "\n",
    "Wir testen außerdem, ob eine Kombinationen von unterschiedlichen Features eine Verbesserung der Performance bewirkt."
   ]
  },
  {
   "cell_type": "code",
   "execution_count": 87,
   "id": "49c17918",
   "metadata": {},
   "outputs": [],
   "source": [
    "def combine_features(*features):\n",
    "    \"\"\"Concatenate different training data (from different features)\"\"\"\n",
    "    return np.concatenate(features, axis=1)"
   ]
  },
  {
   "cell_type": "code",
   "execution_count": 88,
   "id": "c509c205",
   "metadata": {},
   "outputs": [],
   "source": [
    "unigrams_sentiment = combine_features(unigram_count_matrx, sentiment_scores)\n",
    "bigrams_sentiment = combine_features(bigram_count_matrx, sentiment_scores)\n",
    "trigrams_sentiment = combine_features(trigram_count_matrx, sentiment_scores)"
   ]
  },
  {
   "cell_type": "code",
   "execution_count": 89,
   "id": "d100a358",
   "metadata": {},
   "outputs": [],
   "source": [
    "name2ngrams_sentiment = {\n",
    "    \"Unigram counts + Sentiment\": unigrams_sentiment,\n",
    "    \"Bigram counts + Sentiment\": bigrams_sentiment,\n",
    "    \"Trigram counts + Sentiment\": trigrams_sentiment\n",
    "}"
   ]
  },
  {
   "cell_type": "markdown",
   "id": "9a0a15ff",
   "metadata": {},
   "source": [
    "### ***UPDATE MIT NEUEN ANNOTIERTEN DATEN:***"
   ]
  },
  {
   "cell_type": "code",
   "execution_count": 91,
   "id": "04658cf2",
   "metadata": {},
   "outputs": [],
   "source": [
    "new_unigrams_sentiment = combine_features(new_unigram_count_matrx, new_sentiment_scores)\n",
    "new_bigrams_sentiment = combine_features(new_bigram_count_matrx, new_sentiment_scores)\n",
    "new_trigrams_sentiment = combine_features(new_trigram_count_matrx, new_sentiment_scores)\n",
    "\n",
    "new_name2ngrams_sentiment = {\n",
    "    \"Unigram counts + Sentiment\": new_unigrams_sentiment,\n",
    "    \"Bigram counts + Sentiment\": new_bigrams_sentiment,\n",
    "    \"Trigram counts + Sentiment\": new_trigrams_sentiment\n",
    "}"
   ]
  },
  {
   "cell_type": "markdown",
   "id": "a73d8abf",
   "metadata": {},
   "source": [
    "**Bag-of-ngrams + Sentiment:**\n",
    "\n",
    "Das kombinierte Unigram Modell erzielt die insgesamt besten Ergebnisse. Allerdings ist die Verbesserung nur gering. Durch die Kombination mit dem Sentiment Modell hat sich der Marcro F1-score bei allen Modellen erhöht. "
   ]
  },
  {
   "cell_type": "code",
   "execution_count": 92,
   "id": "3d21bbeb",
   "metadata": {},
   "outputs": [
    {
     "name": "stdout",
     "output_type": "stream",
     "text": [
      "Unigram counts + Sentiment:\n",
      "              precision    recall  f1-score   support\n",
      "\n",
      "         0.0       0.63      0.95      0.75        60\n",
      "         1.0       0.67      0.15      0.24        40\n",
      "\n",
      "    accuracy                           0.63       100\n",
      "   macro avg       0.65      0.55      0.50       100\n",
      "weighted avg       0.64      0.63      0.55       100\n",
      "\n",
      "\n",
      "\n",
      "Bigram counts + Sentiment:\n",
      "              precision    recall  f1-score   support\n",
      "\n",
      "         0.0       0.61      0.97      0.75        60\n",
      "         1.0       0.60      0.07      0.13        40\n",
      "\n",
      "    accuracy                           0.61       100\n",
      "   macro avg       0.61      0.52      0.44       100\n",
      "weighted avg       0.61      0.61      0.50       100\n",
      "\n",
      "\n",
      "\n",
      "Trigram counts + Sentiment:\n",
      "              precision    recall  f1-score   support\n",
      "\n",
      "         0.0       0.61      0.97      0.75        60\n",
      "         1.0       0.60      0.07      0.13        40\n",
      "\n",
      "    accuracy                           0.61       100\n",
      "   macro avg       0.61      0.52      0.44       100\n",
      "weighted avg       0.61      0.61      0.50       100\n",
      "\n",
      "\n",
      "\n"
     ]
    }
   ],
   "source": [
    "print_results(name2ngrams_sentiment, y, orig_indexes, raw_sents)"
   ]
  },
  {
   "cell_type": "markdown",
   "id": "196f7f1a",
   "metadata": {},
   "source": [
    "### ***UPDATE MIT NEUEN ANNOTIERTEN DATEN:***"
   ]
  },
  {
   "cell_type": "code",
   "execution_count": 93,
   "id": "60ecbdcc",
   "metadata": {},
   "outputs": [
    {
     "name": "stdout",
     "output_type": "stream",
     "text": [
      "Unigram counts + Sentiment:\n",
      "              precision    recall  f1-score   support\n",
      "\n",
      "         0.0       0.65      0.96      0.77       125\n",
      "         1.0       0.64      0.12      0.20        75\n",
      "\n",
      "    accuracy                           0.65       200\n",
      "   macro avg       0.64      0.54      0.49       200\n",
      "weighted avg       0.64      0.65      0.56       200\n",
      "\n",
      "\n",
      "\n",
      "Bigram counts + Sentiment:\n",
      "              precision    recall  f1-score   support\n",
      "\n",
      "         0.0       0.62      0.99      0.77       125\n",
      "         1.0       0.00      0.00      0.00        75\n",
      "\n",
      "    accuracy                           0.62       200\n",
      "   macro avg       0.31      0.50      0.38       200\n",
      "weighted avg       0.39      0.62      0.48       200\n",
      "\n",
      "\n",
      "\n",
      "Trigram counts + Sentiment:\n",
      "              precision    recall  f1-score   support\n",
      "\n",
      "         0.0       0.62      1.00      0.77       125\n",
      "         1.0       0.00      0.00      0.00        75\n",
      "\n",
      "    accuracy                           0.62       200\n",
      "   macro avg       0.31      0.50      0.38       200\n",
      "weighted avg       0.39      0.62      0.48       200\n",
      "\n",
      "\n",
      "\n"
     ]
    }
   ],
   "source": [
    "print_results(new_name2ngrams_sentiment, new_y, new_orig_indexes, new_raw_sents)"
   ]
  },
  {
   "cell_type": "markdown",
   "id": "5ba51f61",
   "metadata": {},
   "source": [
    "Mit den neuen annotierten Daten verschlechtert sich die Performanz für die Kombinationen Bigramme + Sentiment sowie Trigramme + Sentiment. Für die Kombination Unigramme + Sentiment verbessert sich das Modell bei der Vorhersage von Label 0 (unstereotypisch), verschlechtert sich allerdings bei der Vorhersage von Label 1. Auch mit den neuen Daten lässt sich jedoch feststellen, dass diese Feature-Kombination insgesamt die beste Performanz erzielt."
   ]
  },
  {
   "cell_type": "markdown",
   "id": "a6068adc",
   "metadata": {},
   "source": [
    "### Besten Ergebnisse genauer betrachten:\n",
    "Wir schauen uns die Ergebnisse des besten Modells an, um detailliertere Einblicke zu erhalten."
   ]
  },
  {
   "cell_type": "code",
   "execution_count": 95,
   "id": "2dd981c0",
   "metadata": {
    "scrolled": true
   },
   "outputs": [],
   "source": [
    "# Best features: unigram counts\n",
    "y_test, y_pred, orig_test = train_model(unigrams_sentiment, y, orig_indexes, SVC())\n",
    "predictions = get_predictions(raw_sents, y_test, y_pred, orig_test)"
   ]
  },
  {
   "cell_type": "markdown",
   "id": "1b6c8804",
   "metadata": {},
   "source": [
    "**Konfusionsmatrix:**\n",
    "\n",
    "Wie auch bei Sánchez-Junquera et. al. gibt es mehr Konfusion bei Stereotypen. Sie wurden häufiger falsch zugeordnet, d.h. Stereotype wurden öfter nicht als solche erkannt und falsch zugeordnet. Allerdings ist der Unterschied bei Sánchez-Junquera et. al. nicht so extrem. \n",
    "\n",
    "Laut Sánchez-Junquera et. al. lassen sich Stereotype oft nicht einfach an gewissen Wörtern ausmachen. Insgesamt 90% wurden als kein Stereotyp vorhergesagt, die eigentliche Verteilung müsste bei 60% liegen. Ein Grund für diese Verteilung könnte die Unausgeglichenheit der Daten sein. Da es mehr Daten zu nicht Sterotypen gibt, erkennt das Modell diese leichter und ordnet auch fälschlicherweise Sätze anderer Kategorien zu.  \n",
    "Dieses Problem wird durch die geringe Menge an Daten noch verstärkt.  "
   ]
  },
  {
   "cell_type": "code",
   "execution_count": 96,
   "id": "23d5565d",
   "metadata": {},
   "outputs": [
    {
     "data": {
      "text/plain": [
       "<sklearn.metrics._plot.confusion_matrix.ConfusionMatrixDisplay at 0x7fbc07fb0430>"
      ]
     },
     "execution_count": 96,
     "metadata": {},
     "output_type": "execute_result"
    },
    {
     "data": {
      "image/png": "[encoded data removed]",
      "text/plain": [
       "<Figure size 640x480 with 2 Axes>"
      ]
     },
     "metadata": {},
     "output_type": "display_data"
    }
   ],
   "source": [
    "ConfusionMatrixDisplay.from_predictions(y_test, y_pred)"
   ]
  },
  {
   "cell_type": "markdown",
   "id": "19f46411",
   "metadata": {},
   "source": [
    "**Beispiele für korrekte Klassifizierungen:**"
   ]
  },
  {
   "cell_type": "code",
   "execution_count": 97,
   "id": "24fe2996",
   "metadata": {
    "scrolled": true
   },
   "outputs": [
    {
     "data": {
      "text/html": [
       "<div>\n",
       "<style scoped>\n",
       "    .dataframe tbody tr th:only-of-type {\n",
       "        vertical-align: middle;\n",
       "    }\n",
       "\n",
       "    .dataframe tbody tr th {\n",
       "        vertical-align: top;\n",
       "    }\n",
       "\n",
       "    .dataframe thead th {\n",
       "        text-align: right;\n",
       "    }\n",
       "</style>\n",
       "<table border=\"1\" class=\"dataframe\">\n",
       "  <thead>\n",
       "    <tr style=\"text-align: right;\">\n",
       "      <th></th>\n",
       "      <th>Raw sentence</th>\n",
       "      <th>Predicted label</th>\n",
       "      <th>Gold label</th>\n",
       "    </tr>\n",
       "  </thead>\n",
       "  <tbody>\n",
       "    <tr>\n",
       "      <th>1</th>\n",
       "      <td>Ich nehme kein Beispiel aus dem Bereich des Terrorismus, der Kinderpornografie und auch nicht der Vergewaltigung, sondern ich nehme ein sehr praktisches Beispiel.</td>\n",
       "      <td>0.0</td>\n",
       "      <td>0.0</td>\n",
       "    </tr>\n",
       "    <tr>\n",
       "      <th>2</th>\n",
       "      <td>Da die Zuwanderer solche familiären Netzwerke hier nicht haben, müssen sie sich auch diesbezüglich neu orientierten.</td>\n",
       "      <td>0.0</td>\n",
       "      <td>0.0</td>\n",
       "    </tr>\n",
       "    <tr>\n",
       "      <th>5</th>\n",
       "      <td>Den Bundesinnenminister als denjenigen zu bezeichnen, der der Integration im Wege stand, heißt wirklich, das, was die Union in den letzten Jahren mit dieser Regierung getan hat, vollkommen zu verleugnen.</td>\n",
       "      <td>0.0</td>\n",
       "      <td>0.0</td>\n",
       "    </tr>\n",
       "    <tr>\n",
       "      <th>6</th>\n",
       "      <td>Wir unterscheiden zwischen jenen, die wegen Krieg und Verfolgung Aussicht auf Asyl haben, und denen, die keine Chance auf eine Zukunft in Deutschland haben.</td>\n",
       "      <td>0.0</td>\n",
       "      <td>0.0</td>\n",
       "    </tr>\n",
       "    <tr>\n",
       "      <th>8</th>\n",
       "      <td>Innerhalb von acht Wochen wurden allein 28 000 Asylanträge von Menschen aus dem Kosovo gestellt.</td>\n",
       "      <td>0.0</td>\n",
       "      <td>0.0</td>\n",
       "    </tr>\n",
       "    <tr>\n",
       "      <th>...</th>\n",
       "      <td>...</td>\n",
       "      <td>...</td>\n",
       "      <td>...</td>\n",
       "    </tr>\n",
       "    <tr>\n",
       "      <th>92</th>\n",
       "      <td>Dem gleichen Ziel dient die Aufforderung der Financial Action Task Force der OECD, jegliche Terrorismusfinanzierung unter Strafe zu stellen.</td>\n",
       "      <td>0.0</td>\n",
       "      <td>0.0</td>\n",
       "    </tr>\n",
       "    <tr>\n",
       "      <th>94</th>\n",
       "      <td>Habe ich überhaupt eine Chance auf Asyl, wenn ich mein Leben aufs Spiel setze, wenn ich meine Familie, wenn ich meine Kinder verlasse?</td>\n",
       "      <td>0.0</td>\n",
       "      <td>0.0</td>\n",
       "    </tr>\n",
       "    <tr>\n",
       "      <th>95</th>\n",
       "      <td>Auch wenn wir den Bürgerinnen und Bürgern ein Gefühl dafür geben wollen, dass wir mit der außenpolitischen Aufgabe der Bekämpfung der Fluchtursachen verantwortungsvoll umgehen, werden wir ihnen natürlich nicht für jedes Problem eine Lösung servieren können.</td>\n",
       "      <td>0.0</td>\n",
       "      <td>0.0</td>\n",
       "    </tr>\n",
       "    <tr>\n",
       "      <th>96</th>\n",
       "      <td>Eine ähnliche Schnittstellenfunktion erfüllt der Generalbundesanwalt beim Thema islamistischer Terrorismus.</td>\n",
       "      <td>0.0</td>\n",
       "      <td>0.0</td>\n",
       "    </tr>\n",
       "    <tr>\n",
       "      <th>98</th>\n",
       "      <td>Meine lieben Kolleginnen und Kollegen, das heute zu beschließende Gesetz ist ein wichtiger Baustein bei der Bekämpfung des Terrorismus mit dem Mittel des Strafrechts.</td>\n",
       "      <td>0.0</td>\n",
       "      <td>0.0</td>\n",
       "    </tr>\n",
       "  </tbody>\n",
       "</table>\n",
       "<p>63 rows × 3 columns</p>\n",
       "</div>"
      ],
      "text/plain": [
       "                                                                                                                                                                                                                                                         Raw sentence  \\\n",
       "1                                                                                                  Ich nehme kein Beispiel aus dem Bereich des Terrorismus, der Kinderpornografie und auch nicht der Vergewaltigung, sondern ich nehme ein sehr praktisches Beispiel.   \n",
       "2                                                                                                                                                Da die Zuwanderer solche familiären Netzwerke hier nicht haben, müssen sie sich auch diesbezüglich neu orientierten.   \n",
       "5                                                         Den Bundesinnenminister als denjenigen zu bezeichnen, der der Integration im Wege stand, heißt wirklich, das, was die Union in den letzten Jahren mit dieser Regierung getan hat, vollkommen zu verleugnen.   \n",
       "6                                                                                                        Wir unterscheiden zwischen jenen, die wegen Krieg und Verfolgung Aussicht auf Asyl haben, und denen, die keine Chance auf eine Zukunft in Deutschland haben.   \n",
       "8                                                                                                                                                                    Innerhalb von acht Wochen wurden allein 28 000 Asylanträge von Menschen aus dem Kosovo gestellt.   \n",
       "..                                                                                                                                                                                                                                                                ...   \n",
       "92                                                                                                                       Dem gleichen Ziel dient die Aufforderung der Financial Action Task Force der OECD, jegliche Terrorismusfinanzierung unter Strafe zu stellen.   \n",
       "94                                                                                                                             Habe ich überhaupt eine Chance auf Asyl, wenn ich mein Leben aufs Spiel setze, wenn ich meine Familie, wenn ich meine Kinder verlasse?   \n",
       "95  Auch wenn wir den Bürgerinnen und Bürgern ein Gefühl dafür geben wollen, dass wir mit der außenpolitischen Aufgabe der Bekämpfung der Fluchtursachen verantwortungsvoll umgehen, werden wir ihnen natürlich nicht für jedes Problem eine Lösung servieren können.   \n",
       "96                                                                                                                                                        Eine ähnliche Schnittstellenfunktion erfüllt der Generalbundesanwalt beim Thema islamistischer Terrorismus.   \n",
       "98                                                                                             Meine lieben Kolleginnen und Kollegen, das heute zu beschließende Gesetz ist ein wichtiger Baustein bei der Bekämpfung des Terrorismus mit dem Mittel des Strafrechts.   \n",
       "\n",
       "    Predicted label  Gold label  \n",
       "1               0.0         0.0  \n",
       "2               0.0         0.0  \n",
       "5               0.0         0.0  \n",
       "6               0.0         0.0  \n",
       "8               0.0         0.0  \n",
       "..              ...         ...  \n",
       "92              0.0         0.0  \n",
       "94              0.0         0.0  \n",
       "95              0.0         0.0  \n",
       "96              0.0         0.0  \n",
       "98              0.0         0.0  \n",
       "\n",
       "[63 rows x 3 columns]"
      ]
     },
     "execution_count": 97,
     "metadata": {},
     "output_type": "execute_result"
    }
   ],
   "source": [
    "# Correct predictions\n",
    "get_correct(predictions)"
   ]
  },
  {
   "cell_type": "markdown",
   "id": "b8e5e421",
   "metadata": {},
   "source": [
    "**Beispiele für falsche Klassifizierungen:**"
   ]
  },
  {
   "cell_type": "code",
   "execution_count": 98,
   "id": "9ccac106",
   "metadata": {
    "scrolled": true
   },
   "outputs": [
    {
     "data": {
      "text/html": [
       "<div>\n",
       "<style scoped>\n",
       "    .dataframe tbody tr th:only-of-type {\n",
       "        vertical-align: middle;\n",
       "    }\n",
       "\n",
       "    .dataframe tbody tr th {\n",
       "        vertical-align: top;\n",
       "    }\n",
       "\n",
       "    .dataframe thead th {\n",
       "        text-align: right;\n",
       "    }\n",
       "</style>\n",
       "<table border=\"1\" class=\"dataframe\">\n",
       "  <thead>\n",
       "    <tr style=\"text-align: right;\">\n",
       "      <th></th>\n",
       "      <th>Raw sentence</th>\n",
       "      <th>Predicted label</th>\n",
       "      <th>Gold label</th>\n",
       "    </tr>\n",
       "  </thead>\n",
       "  <tbody>\n",
       "    <tr>\n",
       "      <th>0</th>\n",
       "      <td>Solange Menschen keine andere Chance sehen, als über Schlepper und Menschenhändler nach Europa zu kommen, werden wir das Elend an unseren Grenzen nicht los.</td>\n",
       "      <td>0.0</td>\n",
       "      <td>1.0</td>\n",
       "    </tr>\n",
       "    <tr>\n",
       "      <th>3</th>\n",
       "      <td>Aber während wir über unsere Willkommenskultur sprechen, brennen Unterkünfte für Flüchtlinge, werden Anschläge verübt.</td>\n",
       "      <td>0.0</td>\n",
       "      <td>1.0</td>\n",
       "    </tr>\n",
       "    <tr>\n",
       "      <th>4</th>\n",
       "      <td>Nur wenn wir auch in den Herkunftsländern Fluchtursachen bekämpfen und wenn wir Fehlanreize in Deutschland beseitigen, dann werden wir unsere Kommunen dauerhaft und nachhaltig entlasten.</td>\n",
       "      <td>0.0</td>\n",
       "      <td>1.0</td>\n",
       "    </tr>\n",
       "    <tr>\n",
       "      <th>7</th>\n",
       "      <td>Denn wie wollen Sie bitte schön erklären, dass man Syrer nicht nach Ungarn, Italien oder Bulgarien abschieben darf, eritreische oder irakische Flüchtlinge aber schon?</td>\n",
       "      <td>0.0</td>\n",
       "      <td>1.0</td>\n",
       "    </tr>\n",
       "    <tr>\n",
       "      <th>9</th>\n",
       "      <td>Einwanderung ist essenziell erforderlich für unsere Gesellschaft.</td>\n",
       "      <td>0.0</td>\n",
       "      <td>1.0</td>\n",
       "    </tr>\n",
       "    <tr>\n",
       "      <th>10</th>\n",
       "      <td>Aber wenn wir das ernst meinen – wir meinen es alle ernst –, dass die Fluchtursachen langfristig nur in den Krisenregionen bekämpft werden können, dann müssen wir uns auch dazu bekennen, dass alle Etats in unserem Haushalt, die sich um die internationale Verantwortung kümmern – humanitäre Hilfe, Polizeiausbildung, wirtschaftliche Zusammenarbeit, aber auch der Etat für Verteidigung –, in den nächsten Jahren deutlicher anwachsen müssen, um dieser Verantwortung gerecht zu werden.</td>\n",
       "      <td>1.0</td>\n",
       "      <td>0.0</td>\n",
       "    </tr>\n",
       "    <tr>\n",
       "      <th>11</th>\n",
       "      <td>Damit können und sollen die Fluchtursachen in den wichtigsten Herkunftsländern zusätzlich bekämpft werden.</td>\n",
       "      <td>0.0</td>\n",
       "      <td>1.0</td>\n",
       "    </tr>\n",
       "    <tr>\n",
       "      <th>22</th>\n",
       "      <td>Erst die wirtschaftliche Leistungskraft unseres Landes,  gepaart mit soliden Finanzen, erspart uns jetzt schwere Entscheidungen und Konflikte darüber, wie wir die Aufnahme und die Integration so vieler Menschen in Deutschland schaffen und finanzieren wollen.</td>\n",
       "      <td>1.0</td>\n",
       "      <td>0.0</td>\n",
       "    </tr>\n",
       "    <tr>\n",
       "      <th>25</th>\n",
       "      <td>Über das novellierte Asylbewerberleistungsgesetz übernimmt der Bund jährlich Kosten von 43 Millionen Euro.</td>\n",
       "      <td>0.0</td>\n",
       "      <td>1.0</td>\n",
       "    </tr>\n",
       "    <tr>\n",
       "      <th>29</th>\n",
       "      <td>Ich bin überzeugt, dass wir beides brauchen: legale Möglichkeiten der Einwanderung und die Verfolgung von gewissenlosen Schleppern.</td>\n",
       "      <td>0.0</td>\n",
       "      <td>1.0</td>\n",
       "    </tr>\n",
       "    <tr>\n",
       "      <th>31</th>\n",
       "      <td>Stichworte hierfür sind die menschenwürdige Aufnahme, die schnelle Integration – Frau Jelpke, Sie haben das eben noch einmal ausführlich erwähnt – und die Hilfen beim Spracherwerb.</td>\n",
       "      <td>0.0</td>\n",
       "      <td>1.0</td>\n",
       "    </tr>\n",
       "    <tr>\n",
       "      <th>32</th>\n",
       "      <td>Neben der europäischen Solidarität müssen wir auf ein gemeinsames Asylsystem drängen, immer wieder Wert darauf legen und dafür werben.</td>\n",
       "      <td>0.0</td>\n",
       "      <td>1.0</td>\n",
       "    </tr>\n",
       "    <tr>\n",
       "      <th>35</th>\n",
       "      <td>Die Resolution war die Reaktion auf den wachsenden internationalen Terrorismus insbesondere durch den Islamischen Staat, IS, im Irak und Syrien.</td>\n",
       "      <td>0.0</td>\n",
       "      <td>1.0</td>\n",
       "    </tr>\n",
       "    <tr>\n",
       "      <th>36</th>\n",
       "      <td>Sie haben erstens gesagt, dass jede Form von Rettung auch eine Erleichterung des Geschäftes für Schlepper ist.</td>\n",
       "      <td>0.0</td>\n",
       "      <td>1.0</td>\n",
       "    </tr>\n",
       "    <tr>\n",
       "      <th>37</th>\n",
       "      <td>Wenn wir über Flüchtlinge reden, dann müssen wir vor allem auch über Fluchtursachen reden.</td>\n",
       "      <td>0.0</td>\n",
       "      <td>1.0</td>\n",
       "    </tr>\n",
       "    <tr>\n",
       "      <th>38</th>\n",
       "      <td>Ein guter Schritt wäre zum Beispiel die Abschaffung des Asylbewerberleistungsgesetzes und die Integration von Flüchtlingen in das soziale Sicherungssystem.</td>\n",
       "      <td>0.0</td>\n",
       "      <td>1.0</td>\n",
       "    </tr>\n",
       "    <tr>\n",
       "      <th>41</th>\n",
       "      <td>Die Verleihung der Staatsbürgerschaft sollte vielmehr das vorläufige Ende des Integrationsprozesses darstellen.</td>\n",
       "      <td>0.0</td>\n",
       "      <td>1.0</td>\n",
       "    </tr>\n",
       "    <tr>\n",
       "      <th>42</th>\n",
       "      <td>Die Frage beim Jemen war, ob man das vollständige Abgleiten dieses Landes in den islamistischen Terrorismus zulässt oder nicht.</td>\n",
       "      <td>0.0</td>\n",
       "      <td>1.0</td>\n",
       "    </tr>\n",
       "    <tr>\n",
       "      <th>44</th>\n",
       "      <td>Die Asylbewerber, die erkennbar ohne Schutzgrund sind, müssen sofort wieder zurückgeführt werden.</td>\n",
       "      <td>0.0</td>\n",
       "      <td>1.0</td>\n",
       "    </tr>\n",
       "    <tr>\n",
       "      <th>45</th>\n",
       "      <td>Auch das halte ich für ein Missmanagement bei der Sicherheitsaufgabe und der Problematik, die wir alle gerade mit Betroffenheit zu gewärtigen habe, dass es nämlich Übergriffe gibt auf Asylbewerber und auf diejenigen, die sich für diese engagieren, auch für deren richtige Unterbringung.</td>\n",
       "      <td>0.0</td>\n",
       "      <td>1.0</td>\n",
       "    </tr>\n",
       "    <tr>\n",
       "      <th>47</th>\n",
       "      <td>Das würde unser Asylsystem und vor allem auch die Willkommenskultur in Deutschland und in ganz Europa gefährden.</td>\n",
       "      <td>0.0</td>\n",
       "      <td>1.0</td>\n",
       "    </tr>\n",
       "    <tr>\n",
       "      <th>48</th>\n",
       "      <td>Ich habe manchmal, wenn ich mir Reden von Mitgliedern Ihrer Fraktion anhöre, das Gefühl, dass Sie die Schlepper mittlerweile als eine humanitäre Organisation ansehen.</td>\n",
       "      <td>0.0</td>\n",
       "      <td>1.0</td>\n",
       "    </tr>\n",
       "    <tr>\n",
       "      <th>52</th>\n",
       "      <td>Dass das kein akutes Problem ist, liegt an der Einwanderung von Menschen aus den südeuropäischen Ländern infolge der Euro-Krise und an den Flüchtlingen, die wir gegenwärtig aufnehmen.</td>\n",
       "      <td>0.0</td>\n",
       "      <td>1.0</td>\n",
       "    </tr>\n",
       "    <tr>\n",
       "      <th>54</th>\n",
       "      <td>Wir dürfen Flüchtlinge und Asylsuchende nicht nur unter Kostengesichtspunkten betrachten.</td>\n",
       "      <td>0.0</td>\n",
       "      <td>1.0</td>\n",
       "    </tr>\n",
       "    <tr>\n",
       "      <th>56</th>\n",
       "      <td>Ein großer Teil von ihnen wird vor dem Hintergrund dieses neuen Asylbewerberleistungsgesetzes schon bald vor unseren Jobcentern und der Bundesagentur für Arbeit stehen.</td>\n",
       "      <td>0.0</td>\n",
       "      <td>1.0</td>\n",
       "    </tr>\n",
       "    <tr>\n",
       "      <th>57</th>\n",
       "      <td>Selbst der Bundesinnenminister fordert inzwischen, noch nicht anerkannte Flüchtlinge zu Integrationskursen zuzulassen – allerdings nur, wenn sie gute Chancen auf Asyl haben.</td>\n",
       "      <td>0.0</td>\n",
       "      <td>1.0</td>\n",
       "    </tr>\n",
       "    <tr>\n",
       "      <th>60</th>\n",
       "      <td>Der Schalterbeamte bei der Post, der neue Vermieter, der Bankangestellte und wo man sich sonst noch ausweisen muss, alle erfahren, dass der Inhaber des Ausweises vom Staat als mutmaßlicher Djihadist angesehen wird.</td>\n",
       "      <td>0.0</td>\n",
       "      <td>1.0</td>\n",
       "    </tr>\n",
       "    <tr>\n",
       "      <th>61</th>\n",
       "      <td>Es ist durch Studien erwiesen, dass  Zuwanderung eben nicht Zuwanderung in unsere Sozialsysteme heißt.</td>\n",
       "      <td>0.0</td>\n",
       "      <td>1.0</td>\n",
       "    </tr>\n",
       "    <tr>\n",
       "      <th>64</th>\n",
       "      <td>Der langfristige Schlüssel zum Erfolg liegt aber in der Beseitigung der Fluchtursachen.</td>\n",
       "      <td>0.0</td>\n",
       "      <td>1.0</td>\n",
       "    </tr>\n",
       "    <tr>\n",
       "      <th>68</th>\n",
       "      <td>Es ist beispielsweise überliefert, dass ein für die Kriegführung in Griechenland benötigtes deutsches Schiff stattdessen für die Deportation von 200 Jüdinnen und Juden nach Auschwitz genutzt wurde.</td>\n",
       "      <td>0.0</td>\n",
       "      <td>1.0</td>\n",
       "    </tr>\n",
       "    <tr>\n",
       "      <th>76</th>\n",
       "      <td>Wer in Zukunft Fachkräfte braucht, der muss sich jetzt um Integrationsprogramme kümmern.</td>\n",
       "      <td>0.0</td>\n",
       "      <td>1.0</td>\n",
       "    </tr>\n",
       "    <tr>\n",
       "      <th>81</th>\n",
       "      <td>Ein weiterer Schwerpunkt liegt bei der Bekämpfung der kriminellen Schlepperbanden.</td>\n",
       "      <td>0.0</td>\n",
       "      <td>1.0</td>\n",
       "    </tr>\n",
       "    <tr>\n",
       "      <th>83</th>\n",
       "      <td>Das ist zwar ein richtiger Schritt in die richtige Richtung, doch nach unserer Auffassung sollten alle Asylsuchenden Zugang zu Sprachkursen erhalten.</td>\n",
       "      <td>0.0</td>\n",
       "      <td>1.0</td>\n",
       "    </tr>\n",
       "    <tr>\n",
       "      <th>87</th>\n",
       "      <td>In dem Paket stehen verfassungswidriger Bargeldentzug, Asylrechtseinschränkung durch Festlegung sogenannter sicherer Drittstaaten, Verschärfungen für Geduldete, Zwangsaufenthalte in Erstaufnahmeeinrichtungen.</td>\n",
       "      <td>0.0</td>\n",
       "      <td>1.0</td>\n",
       "    </tr>\n",
       "    <tr>\n",
       "      <th>93</th>\n",
       "      <td>Als deutsche Einwanderungsgesellschaft wollen wir eine lebendige und verantwortungsvolle Erinnerungskultur.</td>\n",
       "      <td>0.0</td>\n",
       "      <td>1.0</td>\n",
       "    </tr>\n",
       "    <tr>\n",
       "      <th>97</th>\n",
       "      <td>In der ersten Phase geht es erst einmal darum, sich überhaupt ein Lagebild zu machen und sich Klarheit darüber zu verschaffen, ob die zweite und die dritte Phase notwendig sind, um die Schlepperbanden wirklich effektiv zu bekämpfen.</td>\n",
       "      <td>1.0</td>\n",
       "      <td>0.0</td>\n",
       "    </tr>\n",
       "    <tr>\n",
       "      <th>99</th>\n",
       "      <td>Das macht keinen Sinn,  (Beifall beim BÜNDNIS 90/DIE GRÜNEN und bei der LINKEN)  zumal es um die Abschiebung in ein Land geht, das Flüchtlinge interniert, kriminalisiert und demnächst mit Notstandsgesetzen und drakonischen Strafen bei illegaler Einreise reagiert.</td>\n",
       "      <td>0.0</td>\n",
       "      <td>1.0</td>\n",
       "    </tr>\n",
       "  </tbody>\n",
       "</table>\n",
       "</div>"
      ],
      "text/plain": [
       "                                                                                                                                                                                                                                                                                                                                                                                                                                                                                         Raw sentence  \\\n",
       "0                                                                                                                                                                                                                                                                                                                                        Solange Menschen keine andere Chance sehen, als über Schlepper und Menschenhändler nach Europa zu kommen, werden wir das Elend an unseren Grenzen nicht los.   \n",
       "3                                                                                                                                                                                                                                                                                                                                                                              Aber während wir über unsere Willkommenskultur sprechen, brennen Unterkünfte für Flüchtlinge, werden Anschläge verübt.   \n",
       "4                                                                                                                                                                                                                                                                                                          Nur wenn wir auch in den Herkunftsländern Fluchtursachen bekämpfen und wenn wir Fehlanreize in Deutschland beseitigen, dann werden wir unsere Kommunen dauerhaft und nachhaltig entlasten.   \n",
       "7                                                                                                                                                                                                                                                                                                                              Denn wie wollen Sie bitte schön erklären, dass man Syrer nicht nach Ungarn, Italien oder Bulgarien abschieben darf, eritreische oder irakische Flüchtlinge aber schon?   \n",
       "9                                                                                                                                                                                                                                                                                                                                                                                                                                   Einwanderung ist essenziell erforderlich für unsere Gesellschaft.   \n",
       "10  Aber wenn wir das ernst meinen – wir meinen es alle ernst –, dass die Fluchtursachen langfristig nur in den Krisenregionen bekämpft werden können, dann müssen wir uns auch dazu bekennen, dass alle Etats in unserem Haushalt, die sich um die internationale Verantwortung kümmern – humanitäre Hilfe, Polizeiausbildung, wirtschaftliche Zusammenarbeit, aber auch der Etat für Verteidigung –, in den nächsten Jahren deutlicher anwachsen müssen, um dieser Verantwortung gerecht zu werden.   \n",
       "11                                                                                                                                                                                                                                                                                                                                                                                         Damit können und sollen die Fluchtursachen in den wichtigsten Herkunftsländern zusätzlich bekämpft werden.   \n",
       "22                                                                                                                                                                                                                                 Erst die wirtschaftliche Leistungskraft unseres Landes,  gepaart mit soliden Finanzen, erspart uns jetzt schwere Entscheidungen und Konflikte darüber, wie wir die Aufnahme und die Integration so vieler Menschen in Deutschland schaffen und finanzieren wollen.   \n",
       "25                                                                                                                                                                                                                                                                                                                                                                                         Über das novellierte Asylbewerberleistungsgesetz übernimmt der Bund jährlich Kosten von 43 Millionen Euro.   \n",
       "29                                                                                                                                                                                                                                                                                                                                                                Ich bin überzeugt, dass wir beides brauchen: legale Möglichkeiten der Einwanderung und die Verfolgung von gewissenlosen Schleppern.   \n",
       "31                                                                                                                                                                                                                                                                                                               Stichworte hierfür sind die menschenwürdige Aufnahme, die schnelle Integration – Frau Jelpke, Sie haben das eben noch einmal ausführlich erwähnt – und die Hilfen beim Spracherwerb.   \n",
       "32                                                                                                                                                                                                                                                                                                                                                             Neben der europäischen Solidarität müssen wir auf ein gemeinsames Asylsystem drängen, immer wieder Wert darauf legen und dafür werben.   \n",
       "35                                                                                                                                                                                                                                                                                                                                                   Die Resolution war die Reaktion auf den wachsenden internationalen Terrorismus insbesondere durch den Islamischen Staat, IS, im Irak und Syrien.   \n",
       "36                                                                                                                                                                                                                                                                                                                                                                                     Sie haben erstens gesagt, dass jede Form von Rettung auch eine Erleichterung des Geschäftes für Schlepper ist.   \n",
       "37                                                                                                                                                                                                                                                                                                                                                                                                         Wenn wir über Flüchtlinge reden, dann müssen wir vor allem auch über Fluchtursachen reden.   \n",
       "38                                                                                                                                                                                                                                                                                                                                        Ein guter Schritt wäre zum Beispiel die Abschaffung des Asylbewerberleistungsgesetzes und die Integration von Flüchtlingen in das soziale Sicherungssystem.   \n",
       "41                                                                                                                                                                                                                                                                                                                                                                                    Die Verleihung der Staatsbürgerschaft sollte vielmehr das vorläufige Ende des Integrationsprozesses darstellen.   \n",
       "42                                                                                                                                                                                                                                                                                                                                                                    Die Frage beim Jemen war, ob man das vollständige Abgleiten dieses Landes in den islamistischen Terrorismus zulässt oder nicht.   \n",
       "44                                                                                                                                                                                                                                                                                                                                                                                                  Die Asylbewerber, die erkennbar ohne Schutzgrund sind, müssen sofort wieder zurückgeführt werden.   \n",
       "45                                                                                                                                                                                                     Auch das halte ich für ein Missmanagement bei der Sicherheitsaufgabe und der Problematik, die wir alle gerade mit Betroffenheit zu gewärtigen habe, dass es nämlich Übergriffe gibt auf Asylbewerber und auf diejenigen, die sich für diese engagieren, auch für deren richtige Unterbringung.   \n",
       "47                                                                                                                                                                                                                                                                                                                                                                                   Das würde unser Asylsystem und vor allem auch die Willkommenskultur in Deutschland und in ganz Europa gefährden.   \n",
       "48                                                                                                                                                                                                                                                                                                                             Ich habe manchmal, wenn ich mir Reden von Mitgliedern Ihrer Fraktion anhöre, das Gefühl, dass Sie die Schlepper mittlerweile als eine humanitäre Organisation ansehen.   \n",
       "52                                                                                                                                                                                                                                                                                                            Dass das kein akutes Problem ist, liegt an der Einwanderung von Menschen aus den südeuropäischen Ländern infolge der Euro-Krise und an den Flüchtlingen, die wir gegenwärtig aufnehmen.   \n",
       "54                                                                                                                                                                                                                                                                                                                                                                                                          Wir dürfen Flüchtlinge und Asylsuchende nicht nur unter Kostengesichtspunkten betrachten.   \n",
       "56                                                                                                                                                                                                                                                                                                                           Ein großer Teil von ihnen wird vor dem Hintergrund dieses neuen Asylbewerberleistungsgesetzes schon bald vor unseren Jobcentern und der Bundesagentur für Arbeit stehen.   \n",
       "57                                                                                                                                                                                                                                                                                                                      Selbst der Bundesinnenminister fordert inzwischen, noch nicht anerkannte Flüchtlinge zu Integrationskursen zuzulassen – allerdings nur, wenn sie gute Chancen auf Asyl haben.   \n",
       "60                                                                                                                                                                                                                                                                             Der Schalterbeamte bei der Post, der neue Vermieter, der Bankangestellte und wo man sich sonst noch ausweisen muss, alle erfahren, dass der Inhaber des Ausweises vom Staat als mutmaßlicher Djihadist angesehen wird.   \n",
       "61                                                                                                                                                                                                                                                                                                                                                                                             Es ist durch Studien erwiesen, dass  Zuwanderung eben nicht Zuwanderung in unsere Sozialsysteme heißt.   \n",
       "64                                                                                                                                                                                                                                                                                                                                                                                                            Der langfristige Schlüssel zum Erfolg liegt aber in der Beseitigung der Fluchtursachen.   \n",
       "68                                                                                                                                                                                                                                                                                              Es ist beispielsweise überliefert, dass ein für die Kriegführung in Griechenland benötigtes deutsches Schiff stattdessen für die Deportation von 200 Jüdinnen und Juden nach Auschwitz genutzt wurde.   \n",
       "76                                                                                                                                                                                                                                                                                                                                                                                                           Wer in Zukunft Fachkräfte braucht, der muss sich jetzt um Integrationsprogramme kümmern.   \n",
       "81                                                                                                                                                                                                                                                                                                                                                                                                                 Ein weiterer Schwerpunkt liegt bei der Bekämpfung der kriminellen Schlepperbanden.   \n",
       "83                                                                                                                                                                                                                                                                                                                                              Das ist zwar ein richtiger Schritt in die richtige Richtung, doch nach unserer Auffassung sollten alle Asylsuchenden Zugang zu Sprachkursen erhalten.   \n",
       "87                                                                                                                                                                                                                                                                                   In dem Paket stehen verfassungswidriger Bargeldentzug, Asylrechtseinschränkung durch Festlegung sogenannter sicherer Drittstaaten, Verschärfungen für Geduldete, Zwangsaufenthalte in Erstaufnahmeeinrichtungen.   \n",
       "93                                                                                                                                                                                                                                                                                                                                                                                        Als deutsche Einwanderungsgesellschaft wollen wir eine lebendige und verantwortungsvolle Erinnerungskultur.   \n",
       "97                                                                                                                                                                                                                                                           In der ersten Phase geht es erst einmal darum, sich überhaupt ein Lagebild zu machen und sich Klarheit darüber zu verschaffen, ob die zweite und die dritte Phase notwendig sind, um die Schlepperbanden wirklich effektiv zu bekämpfen.   \n",
       "99                                                                                                                                                                                                                            Das macht keinen Sinn,  (Beifall beim BÜNDNIS 90/DIE GRÜNEN und bei der LINKEN)  zumal es um die Abschiebung in ein Land geht, das Flüchtlinge interniert, kriminalisiert und demnächst mit Notstandsgesetzen und drakonischen Strafen bei illegaler Einreise reagiert.   \n",
       "\n",
       "    Predicted label  Gold label  \n",
       "0               0.0         1.0  \n",
       "3               0.0         1.0  \n",
       "4               0.0         1.0  \n",
       "7               0.0         1.0  \n",
       "9               0.0         1.0  \n",
       "10              1.0         0.0  \n",
       "11              0.0         1.0  \n",
       "22              1.0         0.0  \n",
       "25              0.0         1.0  \n",
       "29              0.0         1.0  \n",
       "31              0.0         1.0  \n",
       "32              0.0         1.0  \n",
       "35              0.0         1.0  \n",
       "36              0.0         1.0  \n",
       "37              0.0         1.0  \n",
       "38              0.0         1.0  \n",
       "41              0.0         1.0  \n",
       "42              0.0         1.0  \n",
       "44              0.0         1.0  \n",
       "45              0.0         1.0  \n",
       "47              0.0         1.0  \n",
       "48              0.0         1.0  \n",
       "52              0.0         1.0  \n",
       "54              0.0         1.0  \n",
       "56              0.0         1.0  \n",
       "57              0.0         1.0  \n",
       "60              0.0         1.0  \n",
       "61              0.0         1.0  \n",
       "64              0.0         1.0  \n",
       "68              0.0         1.0  \n",
       "76              0.0         1.0  \n",
       "81              0.0         1.0  \n",
       "83              0.0         1.0  \n",
       "87              0.0         1.0  \n",
       "93              0.0         1.0  \n",
       "97              1.0         0.0  \n",
       "99              0.0         1.0  "
      ]
     },
     "execution_count": 98,
     "metadata": {},
     "output_type": "execute_result"
    }
   ],
   "source": [
    "# Wrong predictions\n",
    "get_wrong(predictions)"
   ]
  },
  {
   "cell_type": "markdown",
   "id": "bc987f24",
   "metadata": {},
   "source": [
    "### ***UPDATE MIT NEUEN ANNOTIERTEN DATEN:***"
   ]
  },
  {
   "cell_type": "code",
   "execution_count": 99,
   "id": "4be4ea85",
   "metadata": {},
   "outputs": [],
   "source": [
    "# Best features: unigram counts\n",
    "y_test, y_pred, orig_test = train_model(new_unigrams_sentiment, new_y, new_orig_indexes, SVC())\n",
    "predictions = get_predictions(new_raw_sents, y_test, y_pred, orig_test)"
   ]
  },
  {
   "cell_type": "code",
   "execution_count": 100,
   "id": "4cc09424",
   "metadata": {},
   "outputs": [
    {
     "data": {
      "text/plain": [
       "<sklearn.metrics._plot.confusion_matrix.ConfusionMatrixDisplay at 0x7fbc3a722070>"
      ]
     },
     "execution_count": 100,
     "metadata": {},
     "output_type": "execute_result"
    },
    {
     "data": {
      "image/png": "[encoded data removed]",
      "text/plain": [
       "<Figure size 640x480 with 2 Axes>"
      ]
     },
     "metadata": {},
     "output_type": "display_data"
    }
   ],
   "source": [
    "ConfusionMatrixDisplay.from_predictions(y_test, y_pred)"
   ]
  },
  {
   "cell_type": "markdown",
   "id": "f887681b",
   "metadata": {},
   "source": [
    "Auch mit mehr Daten ändert sich nicht viel an der Konfusion. Das Modell hat immer noch deutlich mehr Probleme damit, stereotypische Aussagen zu erkennen. Das Modell erkennt in fast 90% der Fälle nicht, dass es sich um eine stereotypische Aussage handelt. Mit den verwendeten Features (Unigramm-Counts + Sentiment) konnte also kein Lerneffekt erzielt werden."
   ]
  },
  {
   "cell_type": "markdown",
   "id": "4b359ce2",
   "metadata": {},
   "source": [
    "**Beispiele für korrekte Klassifizierungen:**"
   ]
  },
  {
   "cell_type": "code",
   "execution_count": 101,
   "id": "4ab1aba0",
   "metadata": {
    "scrolled": true
   },
   "outputs": [
    {
     "data": {
      "text/html": [
       "<div>\n",
       "<style scoped>\n",
       "    .dataframe tbody tr th:only-of-type {\n",
       "        vertical-align: middle;\n",
       "    }\n",
       "\n",
       "    .dataframe tbody tr th {\n",
       "        vertical-align: top;\n",
       "    }\n",
       "\n",
       "    .dataframe thead th {\n",
       "        text-align: right;\n",
       "    }\n",
       "</style>\n",
       "<table border=\"1\" class=\"dataframe\">\n",
       "  <thead>\n",
       "    <tr style=\"text-align: right;\">\n",
       "      <th></th>\n",
       "      <th>Raw sentence</th>\n",
       "      <th>Predicted label</th>\n",
       "      <th>Gold label</th>\n",
       "    </tr>\n",
       "  </thead>\n",
       "  <tbody>\n",
       "    <tr>\n",
       "      <th>1</th>\n",
       "      <td>Öffnung von Integrations- und Sprachkursen,  (Dr.</td>\n",
       "      <td>0.0</td>\n",
       "      <td>0.0</td>\n",
       "    </tr>\n",
       "    <tr>\n",
       "      <th>2</th>\n",
       "      <td>Wer Zukunft, Arbeit und Lebensperspektive für sich sieht, der begibt sich nicht in die Hände von Schleppern.</td>\n",
       "      <td>0.0</td>\n",
       "      <td>0.0</td>\n",
       "    </tr>\n",
       "    <tr>\n",
       "      <th>3</th>\n",
       "      <td>Es ist aber so einfach gesagt, dass Fluchtursachen bekämpft werden müssen.</td>\n",
       "      <td>0.0</td>\n",
       "      <td>0.0</td>\n",
       "    </tr>\n",
       "    <tr>\n",
       "      <th>6</th>\n",
       "      <td>Aber die Auswirkungen der notwendigen Maßnahmen haben auch viele Berührungspunkte mit der Familien-, der Integrations- und der Arbeitsmarktpolitik.</td>\n",
       "      <td>0.0</td>\n",
       "      <td>0.0</td>\n",
       "    </tr>\n",
       "    <tr>\n",
       "      <th>9</th>\n",
       "      <td>Auch wenn wir den Bürgerinnen und Bürgern ein Gefühl dafür geben wollen, dass wir mit der außenpolitischen Aufgabe der Bekämpfung der Fluchtursachen verantwortungsvoll umgehen, werden wir ihnen natürlich nicht für jedes Problem eine Lösung servieren können.</td>\n",
       "      <td>0.0</td>\n",
       "      <td>0.0</td>\n",
       "    </tr>\n",
       "    <tr>\n",
       "      <th>...</th>\n",
       "      <td>...</td>\n",
       "      <td>...</td>\n",
       "      <td>...</td>\n",
       "    </tr>\n",
       "    <tr>\n",
       "      <th>195</th>\n",
       "      <td>Aus diesem Einwanderungskorridor muss aber dann endlich ein modernes Einwanderungsgesetz wer­ den.</td>\n",
       "      <td>0.0</td>\n",
       "      <td>0.0</td>\n",
       "    </tr>\n",
       "    <tr>\n",
       "      <th>196</th>\n",
       "      <td>Es gibt viele Maßnahmen zur Verbesserung der Versorgung von Asylbewerbern: Impfungen, psy Deutscher Bundestag – 18</td>\n",
       "      <td>0.0</td>\n",
       "      <td>0.0</td>\n",
       "    </tr>\n",
       "    <tr>\n",
       "      <th>197</th>\n",
       "      <td>Dazu gehören viele Dinge, mit denen wir ermöglichen, dass die Integration nicht durch lange Verfahren in Erstaufnahmeeinrichtungen oder anderswo verzögert oder für später erschwert wird.</td>\n",
       "      <td>0.0</td>\n",
       "      <td>0.0</td>\n",
       "    </tr>\n",
       "    <tr>\n",
       "      <th>198</th>\n",
       "      <td>Wir können hier nicht über die Lasten der Flüchtlingsaufnahme stöhnen und weiter jeden Elan bei der Bekämpfung der Fluchtursachen vermissen lassen.</td>\n",
       "      <td>0.0</td>\n",
       "      <td>0.0</td>\n",
       "    </tr>\n",
       "    <tr>\n",
       "      <th>199</th>\n",
       "      <td>Erstens befürchtet die CDU/ CSU-Fraktion – aus meiner Sicht nicht zu Unrecht – einen gewissen Pull-Effekt, nicht in Bezug auf die Flüchtlinge, die zu Recht hier herkommen, sondern in Bezug auf die, die aus anderen, insbesondere ökonomischen Erwägungen versuchen, hier Asyl zu bekommen und dann irgendwann mit Zeitverzögerung zurückgeschickt werden.</td>\n",
       "      <td>1.0</td>\n",
       "      <td>1.0</td>\n",
       "    </tr>\n",
       "  </tbody>\n",
       "</table>\n",
       "<p>129 rows × 3 columns</p>\n",
       "</div>"
      ],
      "text/plain": [
       "                                                                                                                                                                                                                                                                                                                                                     Raw sentence  \\\n",
       "1                                                                                                                                                                                                                                                                                                               Öffnung von Integrations- und Sprachkursen,  (Dr.   \n",
       "2                                                                                                                                                                                                                                                    Wer Zukunft, Arbeit und Lebensperspektive für sich sieht, der begibt sich nicht in die Hände von Schleppern.   \n",
       "3                                                                                                                                                                                                                                                                                      Es ist aber so einfach gesagt, dass Fluchtursachen bekämpft werden müssen.   \n",
       "6                                                                                                                                                                                                             Aber die Auswirkungen der notwendigen Maßnahmen haben auch viele Berührungspunkte mit der Familien-, der Integrations- und der Arbeitsmarktpolitik.   \n",
       "9                                                                                               Auch wenn wir den Bürgerinnen und Bürgern ein Gefühl dafür geben wollen, dass wir mit der außenpolitischen Aufgabe der Bekämpfung der Fluchtursachen verantwortungsvoll umgehen, werden wir ihnen natürlich nicht für jedes Problem eine Lösung servieren können.   \n",
       "..                                                                                                                                                                                                                                                                                                                                                            ...   \n",
       "195                                                                                                                                                                                                                                                            Aus diesem Einwanderungskorridor muss aber dann endlich ein modernes Einwanderungsgesetz wer­ den.   \n",
       "196                                                                                                                                                                                                                                            Es gibt viele Maßnahmen zur Verbesserung der Versorgung von Asylbewerbern: Impfungen, psy Deutscher Bundestag – 18   \n",
       "197                                                                                                                                                                    Dazu gehören viele Dinge, mit denen wir ermöglichen, dass die Integration nicht durch lange Verfahren in Erstaufnahmeeinrichtungen oder anderswo verzögert oder für später erschwert wird.   \n",
       "198                                                                                                                                                                                                           Wir können hier nicht über die Lasten der Flüchtlingsaufnahme stöhnen und weiter jeden Elan bei der Bekämpfung der Fluchtursachen vermissen lassen.   \n",
       "199  Erstens befürchtet die CDU/ CSU-Fraktion – aus meiner Sicht nicht zu Unrecht – einen gewissen Pull-Effekt, nicht in Bezug auf die Flüchtlinge, die zu Recht hier herkommen, sondern in Bezug auf die, die aus anderen, insbesondere ökonomischen Erwägungen versuchen, hier Asyl zu bekommen und dann irgendwann mit Zeitverzögerung zurückgeschickt werden.   \n",
       "\n",
       "     Predicted label  Gold label  \n",
       "1                0.0         0.0  \n",
       "2                0.0         0.0  \n",
       "3                0.0         0.0  \n",
       "6                0.0         0.0  \n",
       "9                0.0         0.0  \n",
       "..               ...         ...  \n",
       "195              0.0         0.0  \n",
       "196              0.0         0.0  \n",
       "197              0.0         0.0  \n",
       "198              0.0         0.0  \n",
       "199              1.0         1.0  \n",
       "\n",
       "[129 rows x 3 columns]"
      ]
     },
     "execution_count": 101,
     "metadata": {},
     "output_type": "execute_result"
    }
   ],
   "source": [
    "# Correct predictions\n",
    "get_correct(predictions)"
   ]
  },
  {
   "cell_type": "markdown",
   "id": "f0c0a69a",
   "metadata": {},
   "source": [
    "**Beispiele für falsche Klassifizierungen:**"
   ]
  },
  {
   "cell_type": "code",
   "execution_count": 102,
   "id": "8180e9a0",
   "metadata": {
    "scrolled": true
   },
   "outputs": [
    {
     "data": {
      "text/html": [
       "<div>\n",
       "<style scoped>\n",
       "    .dataframe tbody tr th:only-of-type {\n",
       "        vertical-align: middle;\n",
       "    }\n",
       "\n",
       "    .dataframe tbody tr th {\n",
       "        vertical-align: top;\n",
       "    }\n",
       "\n",
       "    .dataframe thead th {\n",
       "        text-align: right;\n",
       "    }\n",
       "</style>\n",
       "<table border=\"1\" class=\"dataframe\">\n",
       "  <thead>\n",
       "    <tr style=\"text-align: right;\">\n",
       "      <th></th>\n",
       "      <th>Raw sentence</th>\n",
       "      <th>Predicted label</th>\n",
       "      <th>Gold label</th>\n",
       "    </tr>\n",
       "  </thead>\n",
       "  <tbody>\n",
       "    <tr>\n",
       "      <th>0</th>\n",
       "      <td>Denn nur wenn es gelingt, gemeinsam mit der Wirtschaft das Potenzial und die Motivation der Menschen, die zu uns kommen, zu nutzen, nur dann wird Integration gelingen.</td>\n",
       "      <td>0.0</td>\n",
       "      <td>1.0</td>\n",
       "    </tr>\n",
       "    <tr>\n",
       "      <th>4</th>\n",
       "      <td>Ein völlig überladenes Schlepperboot mit Flüchtlingen an Bord kenterte auf seinem Weg von Libyen nach Italien.</td>\n",
       "      <td>0.0</td>\n",
       "      <td>1.0</td>\n",
       "    </tr>\n",
       "    <tr>\n",
       "      <th>5</th>\n",
       "      <td>Das Problem ist auch, dass wenige Kilometer davon entfernt an einer Bahnlinie Flächen zur Verfügung stehen, auf denen man Unterkünfte bauen und Asylbewerber unterbringen wollte, aber dann waren sie zu nah an der Bahnlinie, und aus immissionsschutzrechtlichen Gründen war es nicht möglich, dort Unterkünfte zu errichten.</td>\n",
       "      <td>1.0</td>\n",
       "      <td>0.0</td>\n",
       "    </tr>\n",
       "    <tr>\n",
       "      <th>7</th>\n",
       "      <td>Damals hatten wir in der Bevölkerung eine geringe Akzeptanz für die Aufnahme von Flüchtlingen und Zuwanderern generell.</td>\n",
       "      <td>0.0</td>\n",
       "      <td>1.0</td>\n",
       "    </tr>\n",
       "    <tr>\n",
       "      <th>8</th>\n",
       "      <td>Nur wenn wir die Fluchtursachen bekämpfen und nur wenn wir die Krisenstaaten stabilisieren, kann uns wirklich die Linderung von Leid gelingen.</td>\n",
       "      <td>0.0</td>\n",
       "      <td>1.0</td>\n",
       "    </tr>\n",
       "    <tr>\n",
       "      <th>...</th>\n",
       "      <td>...</td>\n",
       "      <td>...</td>\n",
       "      <td>...</td>\n",
       "    </tr>\n",
       "    <tr>\n",
       "      <th>181</th>\n",
       "      <td>So nachvollziehbar der Wunsch nach einem besseren Leben ist, so richtig ist auch, dass Armut kein Asylgrund ist und dies auch nicht sein kann.</td>\n",
       "      <td>0.0</td>\n",
       "      <td>1.0</td>\n",
       "    </tr>\n",
       "    <tr>\n",
       "      <th>188</th>\n",
       "      <td>Wir sind uns ja bei allen Differenzen über konkrete  Punkte in diesem Gesetz einig, dass wir schnellere Asylverfahren brauchen, um schneller zu entscheiden, wer bleiben darf und wer am Ende gehen muss.</td>\n",
       "      <td>0.0</td>\n",
       "      <td>1.0</td>\n",
       "    </tr>\n",
       "    <tr>\n",
       "      <th>189</th>\n",
       "      <td>Das ist ein wichtiges Signal, um denjenigen Tätern, die sich vom Terrorismus abwenden möchten, die Möglichkeit zu geben, ihre Strafe durch die aktive Hilfe zur Aufklärung der Strukturen des Terrorismus zu reduzieren oder gar abzuwenden.</td>\n",
       "      <td>0.0</td>\n",
       "      <td>1.0</td>\n",
       "    </tr>\n",
       "    <tr>\n",
       "      <th>191</th>\n",
       "      <td>Wie wollen Sie denn – aus der Luft auf einen Hafen schauend, in dem sich ein leeres Boot befindet – beurteilen, ob es ein Fischerboot ist, ob es ein Schlepperboot ist oder ob es vielleicht tagsüber ein Fischerboot und nachts ein Schlepperboot ist?</td>\n",
       "      <td>0.0</td>\n",
       "      <td>1.0</td>\n",
       "    </tr>\n",
       "    <tr>\n",
       "      <th>193</th>\n",
       "      <td>Zu einem geordneten Verfahren gehört auch das Dublin-Verfahren, und zwar mit der Feststellung des zuständigen Mitgliedstaates, der Prüfung aller Aspekte für einen möglichen Selbsteintritt Deutschlands in das Asylverfahren und, wenn die Voraussetzungen vorliegen, der Rücküberstellung in den zuständigen Mitgliedstaat.</td>\n",
       "      <td>0.0</td>\n",
       "      <td>1.0</td>\n",
       "    </tr>\n",
       "  </tbody>\n",
       "</table>\n",
       "<p>71 rows × 3 columns</p>\n",
       "</div>"
      ],
      "text/plain": [
       "                                                                                                                                                                                                                                                                                                                        Raw sentence  \\\n",
       "0                                                                                                                                                            Denn nur wenn es gelingt, gemeinsam mit der Wirtschaft das Potenzial und die Motivation der Menschen, die zu uns kommen, zu nutzen, nur dann wird Integration gelingen.   \n",
       "4                                                                                                                                                                                                                     Ein völlig überladenes Schlepperboot mit Flüchtlingen an Bord kenterte auf seinem Weg von Libyen nach Italien.   \n",
       "5    Das Problem ist auch, dass wenige Kilometer davon entfernt an einer Bahnlinie Flächen zur Verfügung stehen, auf denen man Unterkünfte bauen und Asylbewerber unterbringen wollte, aber dann waren sie zu nah an der Bahnlinie, und aus immissionsschutzrechtlichen Gründen war es nicht möglich, dort Unterkünfte zu errichten.   \n",
       "7                                                                                                                                                                                                            Damals hatten wir in der Bevölkerung eine geringe Akzeptanz für die Aufnahme von Flüchtlingen und Zuwanderern generell.   \n",
       "8                                                                                                                                                                                     Nur wenn wir die Fluchtursachen bekämpfen und nur wenn wir die Krisenstaaten stabilisieren, kann uns wirklich die Linderung von Leid gelingen.   \n",
       "..                                                                                                                                                                                                                                                                                                                               ...   \n",
       "181                                                                                                                                                                                   So nachvollziehbar der Wunsch nach einem besseren Leben ist, so richtig ist auch, dass Armut kein Asylgrund ist und dies auch nicht sein kann.   \n",
       "188                                                                                                                        Wir sind uns ja bei allen Differenzen über konkrete  Punkte in diesem Gesetz einig, dass wir schnellere Asylverfahren brauchen, um schneller zu entscheiden, wer bleiben darf und wer am Ende gehen muss.   \n",
       "189                                                                                     Das ist ein wichtiges Signal, um denjenigen Tätern, die sich vom Terrorismus abwenden möchten, die Möglichkeit zu geben, ihre Strafe durch die aktive Hilfe zur Aufklärung der Strukturen des Terrorismus zu reduzieren oder gar abzuwenden.   \n",
       "191                                                                          Wie wollen Sie denn – aus der Luft auf einen Hafen schauend, in dem sich ein leeres Boot befindet – beurteilen, ob es ein Fischerboot ist, ob es ein Schlepperboot ist oder ob es vielleicht tagsüber ein Fischerboot und nachts ein Schlepperboot ist?   \n",
       "193    Zu einem geordneten Verfahren gehört auch das Dublin-Verfahren, und zwar mit der Feststellung des zuständigen Mitgliedstaates, der Prüfung aller Aspekte für einen möglichen Selbsteintritt Deutschlands in das Asylverfahren und, wenn die Voraussetzungen vorliegen, der Rücküberstellung in den zuständigen Mitgliedstaat.   \n",
       "\n",
       "     Predicted label  Gold label  \n",
       "0                0.0         1.0  \n",
       "4                0.0         1.0  \n",
       "5                1.0         0.0  \n",
       "7                0.0         1.0  \n",
       "8                0.0         1.0  \n",
       "..               ...         ...  \n",
       "181              0.0         1.0  \n",
       "188              0.0         1.0  \n",
       "189              0.0         1.0  \n",
       "191              0.0         1.0  \n",
       "193              0.0         1.0  \n",
       "\n",
       "[71 rows x 3 columns]"
      ]
     },
     "execution_count": 102,
     "metadata": {},
     "output_type": "execute_result"
    }
   ],
   "source": [
    "# Wrong predictions\n",
    "get_wrong(predictions)"
   ]
  },
  {
   "cell_type": "markdown",
   "id": "415528e9",
   "metadata": {},
   "source": [
    "**Interpretation: Warum scheitert das Modell in den falschen Beispielen?** \n",
    "\n",
    "Ein möglicher Grund dafür, dass so oft fälschlicherwiese Nicht-Stereotype voraus gesagt werden, ist dass es verhältnisweise/im Verhältnis 3:2 mehr Daten für Nicht-Stereotype gibt als für Stereotype. Durch diese Unausgeglichenheit\n",
    "\n",
    "Laut Sánchez-Junquera et. al. lassen sich Stereotype nicht nur durch die Präsenz spezifischer Wörter erkennen. Das könnte erklären, warum oft ein Nicht-Stereotyp vorhergesagt wird, da die Erkennung von Stereotypen schwieriger ist.\n",
    "\n",
    "Die falsche Klassifiszierung könnte auch daran liegen, dass Maschinen Schwierigkeiten mit Rhetorischen Mitteln haben. \n",
    "Beispiele hierfür sind unter anderem die rhetorische Frage bei 7, oder auch der Sarkasmus in 48. Die rhetorischen Mittel werden nicht erkannt bzw. sind der Maschine unbekannt und werden nicht richtig klassifiziert. Das scheint uns vor allem beim Sarkasmus wahrscheinlich.\n",
    "\n",
    "Interessanterweise sind die Sätze, die fälschlicherweise als Stereotyp vorhergesagt wurden, oft deutlich länger als der Durchschnitt. Eine mögliche Begründung könnte sein, dass in den längeren Sätzen mehr Features gefunden werden, die dann eher zu Stereotypen passen als zu Nicht-Stereotypen.\n"
   ]
  },
  {
   "cell_type": "markdown",
   "id": "5c94f191",
   "metadata": {},
   "source": [
    "## Assoziation zwischen Ngrammen und Labels\n",
    "Sánchez-Junquera et al. argumentieren, dass Stereotype nicht nur in Form von Zuschreibungen negativer Attribute einer Personengruppe auftreten, sondern oft deutlich subtiler sind. Vielmehr zeichnen sich Stereotype durch das Framing, also durch das Narrativ und den Kontext, in welches die jeweilige Personengruppe platziert wird, aus. Indem das Framing von Migration/Migrant\\*innen annotiert wird, sollen auch diejenigen Aussagen über Migrant\\*innen, welche nicht auf den ersten Blick als stereotypisch erkennbar sind, identifiziert werden. \n",
    "\n",
    "Die Autor\\*innen des Papers kommen auf einen interessanten Ansatz, in dem die Bereicherung der Sozialwissenschaften durch komputationelle Verfahren sichtbar wird. Sie berechnen für alle Ngramme (Bi- und Trigramme) den **PMI (Pointwise Mutual Information)** zu den jeweiligen Labels (also \"Stereotype vs. Nonstereotype\" bzw. \"Victims vs. Threats\"). PMI ist ein statistisches Maß, welches die Assoziation zwischen Ereignissen misst. Mit anderen Worten:  Zum einen untersuchen die Autor\\*innen, welche Ngramme  am stärksten mit stereotypischen bzw. nicht-stereotypischen Aussagen assoziert sind. Zum anderen untersuchen sie welche Ngramme am stärksten mit pro-migrantischen Aussagen, welche Migrant\\*innen als Opfer framen, assoziiert sind und welche Ngramme am stärksten mit anti-migrantischen Aussagen, in denen Migrant\\*innen als Bedrohung dargestellt werden, assoziiert sind.\n",
    "Ziel dabei ist, subtilere, nicht-triviale linguistische Muster automatisch zu ermitteln, welche zwar stark mit Stereotypen bzw. einer bestimmten Ausprägung von Stereotypen verbunden (also oft gleichzeitig mit ihnen auftreten), jedoch nicht für uns als solche ersichtlich sind.\n",
    "\n",
    "Das wollen wir ebenfalls nachbilden."
   ]
  },
  {
   "cell_type": "markdown",
   "id": "8f3aa7f3",
   "metadata": {},
   "source": [
    "**Wahrscheinlichkeit von Ngrammen berechnen:**"
   ]
  },
  {
   "cell_type": "code",
   "execution_count": 103,
   "id": "655a37b2",
   "metadata": {},
   "outputs": [],
   "source": [
    "# Counts of total occurrences of ngrams\n",
    "def count_ngrams(ngrams, ngram_count_matrx):\n",
    "    \"\"\"Count total occurrence of all ngrams appearing in the data\"\"\"\n",
    "    ngram_counts = dict()\n",
    "    for i, ngram in enumerate(ngrams):\n",
    "        ngram_counts[ngram] = np.sum(ngram_count_matrx, axis=0)[i]\n",
    "    return ngram_counts\n",
    "\n",
    "# Get total number of ngrams\n",
    "def get_total_count(ngram_counts):\n",
    "    \"\"\"Get total count of all ngrams combined\"\"\"\n",
    "    return sum(ngram_counts.values())"
   ]
  },
  {
   "cell_type": "code",
   "execution_count": 104,
   "id": "e7a8c208",
   "metadata": {},
   "outputs": [],
   "source": [
    "unigram_counts = count_ngrams(unigrams, unigram_count_matrx)\n",
    "bigram_counts = count_ngrams(bigrams, bigram_count_matrx)\n",
    "trigram_counts = count_ngrams(trigrams, trigram_count_matrx)\n",
    "\n",
    "N_unigrams = get_total_count(unigram_counts)\n",
    "N_bigrams = get_total_count(bigram_counts)\n",
    "N_trigrams = get_total_count(trigram_counts)"
   ]
  },
  {
   "cell_type": "code",
   "execution_count": 105,
   "id": "c26f36ce",
   "metadata": {},
   "outputs": [],
   "source": [
    "# Compute ngram probability\n",
    "def get_prob(ngram, ngram_counts, N_ngrams):\n",
    "    \"\"\"Return the probability that an ngram appears in the data\"\"\"\n",
    "    return ngram_counts.get(ngram) / N_ngrams"
   ]
  },
  {
   "cell_type": "markdown",
   "id": "dfb93996",
   "metadata": {},
   "source": [
    "**Beispiel:** Wahrscheinlichkeit von \"terrorismus\""
   ]
  },
  {
   "cell_type": "code",
   "execution_count": 106,
   "id": "a055d510",
   "metadata": {},
   "outputs": [
    {
     "name": "stdout",
     "output_type": "stream",
     "text": [
      "Probability of 'terrorismus':\n"
     ]
    },
    {
     "data": {
      "text/plain": [
       "0.005653021442495127"
      ]
     },
     "execution_count": 106,
     "metadata": {},
     "output_type": "execute_result"
    }
   ],
   "source": [
    "# Probability of occurrence of \"terrorismus\"\n",
    "print(\"Probability of 'terrorismus':\")\n",
    "get_prob(\"terrorismus\", unigram_counts, N_unigrams)"
   ]
  },
  {
   "cell_type": "markdown",
   "id": "ae2f3c66",
   "metadata": {},
   "source": [
    "**Wahrscheinlichkeit der Kookkurrenz von Ngrammen und Labels berechnen:**"
   ]
  },
  {
   "cell_type": "code",
   "execution_count": 107,
   "id": "0044a275",
   "metadata": {},
   "outputs": [],
   "source": [
    "# Counts of cooccurrence of ngrams and labels\n",
    "def count_ngram_label_cooccurrence(ngrams, ngram_count_matrx):\n",
    "    \"\"\"Count the cooccurrence of ngrams and labels\"\"\"\n",
    "    ngram_label_cooccurrence = dict()\n",
    "    for i in range(sents.size):\n",
    "        for j in range(ngrams.size):\n",
    "            tpl = (ngrams[j], y[i])\n",
    "            if tpl in ngram_label_cooccurrence.keys():\n",
    "                ngram_label_cooccurrence[tpl] += ngram_count_matrx[i, j]\n",
    "            else:    \n",
    "                ngram_label_cooccurrence[tpl] = ngram_count_matrx[i, j]\n",
    "    return ngram_label_cooccurrence"
   ]
  },
  {
   "cell_type": "code",
   "execution_count": 108,
   "id": "279d4fa0",
   "metadata": {},
   "outputs": [],
   "source": [
    "unigram_label_coocc = count_ngram_label_cooccurrence(unigrams, unigram_count_matrx)\n",
    "bigram_label_coocc = count_ngram_label_cooccurrence(bigrams, bigram_count_matrx)\n",
    "trigram_label_coocc = count_ngram_label_cooccurrence(trigrams, trigram_count_matrx)"
   ]
  },
  {
   "cell_type": "code",
   "execution_count": 109,
   "id": "eb0dbb38",
   "metadata": {},
   "outputs": [],
   "source": [
    "# Compute probability of cooccurrence of ngram and label\n",
    "def get_coocc_prob(ngram, label, ngram_label_coocc, ngram_counts):\n",
    "    \"\"\"Return probability that an ngram cooccurrs with the specified label\"\"\"\n",
    "    return ngram_label_coocc.get((ngram, label)) / ngram_counts.get(ngram)"
   ]
  },
  {
   "cell_type": "markdown",
   "id": "31911b4e",
   "metadata": {},
   "source": [
    "**Beispiel:** Wahrscheinlichkeit, dass \"terrorismus\" mit Label \"0\" bzw. Label \"1\" auftritt"
   ]
  },
  {
   "cell_type": "code",
   "execution_count": 110,
   "id": "5f737aed",
   "metadata": {},
   "outputs": [
    {
     "name": "stdout",
     "output_type": "stream",
     "text": [
      "Probability of 'terrorismus' occurring in sentence with label 0:\n"
     ]
    },
    {
     "data": {
      "text/plain": [
       "0.5862068965517241"
      ]
     },
     "execution_count": 110,
     "metadata": {},
     "output_type": "execute_result"
    }
   ],
   "source": [
    "# Probability of cooccurrence of \"terrorismus\" and label 0 (Contains no stereotypes)\n",
    "print(\"Probability of 'terrorismus' occurring in sentence with label 0:\")\n",
    "get_coocc_prob(\"terrorismus\", 0, unigram_label_coocc, unigram_counts)"
   ]
  },
  {
   "cell_type": "code",
   "execution_count": 111,
   "id": "d800b89c",
   "metadata": {},
   "outputs": [
    {
     "name": "stdout",
     "output_type": "stream",
     "text": [
      "Probability of 'terrorismus' occurring in sentence with label 1:\n"
     ]
    },
    {
     "data": {
      "text/plain": [
       "0.41379310344827586"
      ]
     },
     "execution_count": 111,
     "metadata": {},
     "output_type": "execute_result"
    }
   ],
   "source": [
    "# Example: Probability of cooccurrence of \"terrorismus\" and label 1 (Contains stereotypes)\n",
    "print(\"Probability of 'terrorismus' occurring in sentence with label 1:\")\n",
    "get_coocc_prob(\"terrorismus\", 1, unigram_label_coocc, unigram_counts)"
   ]
  },
  {
   "cell_type": "markdown",
   "id": "d07f83a6",
   "metadata": {},
   "source": [
    "**Berechnung der Pointwise Mutual Information (PMI):**"
   ]
  },
  {
   "cell_type": "code",
   "execution_count": 112,
   "id": "515e7119",
   "metadata": {},
   "outputs": [],
   "source": [
    "# Compute pmi (pointwise mutual information) of ngrams to each label\n",
    "def get_ngram_label_pmi(ngram_label_coocc, ngram_counts, ngrams_total):\n",
    "    \"\"\"\n",
    "    Computes the pmi for an ngram and labels 0 and 1 according to following formula:\n",
    "    pmi(a, b) = log[P(a,b) / (P(a)*P(b))]\n",
    "    \"\"\"\n",
    "    pmi_0, pmi_1 = dict(), dict()\n",
    "    # Note: We're assuming that the probability of the labels are both 0.5 \n",
    "    # (like Sánchez-Junquera et. al.)\n",
    "    p_label = 0.5\n",
    "    for ngram, label in ngram_label_coocc.keys():\n",
    "        p_ngram_label_coocc = get_coocc_prob(ngram, label, ngram_label_coocc, ngram_counts)\n",
    "        p_ngram = get_prob(ngram, ngram_counts, ngrams_total)\n",
    "        quot = p_ngram_label_coocc / (p_ngram * p_label)\n",
    "        pmi = 0 if quot == 0 else log(quot)\n",
    "        if label == 0:\n",
    "            pmi_0[ngram] = pmi\n",
    "        else:\n",
    "            pmi_1[ngram] = pmi\n",
    "            \n",
    "    # Sort ngrams according to pmi\n",
    "    sorted_pmi_0 = sorted(pmi_0.items(), key=lambda x: x[1], reverse=True)\n",
    "    sorted_pmi_1 = sorted(pmi_1.items(), key=lambda x: x[1], reverse=True)\n",
    "    \n",
    "    return sorted_pmi_0, sorted_pmi_1"
   ]
  },
  {
   "cell_type": "code",
   "execution_count": 113,
   "id": "23f4f421",
   "metadata": {},
   "outputs": [],
   "source": [
    "unigrams_0_pmi, unigrams_1_pmi = get_ngram_label_pmi(unigram_label_coocc, unigram_counts, N_unigrams)\n",
    "bigrams_0_pmi, bigrams_1_pmi = get_ngram_label_pmi(bigram_label_coocc, bigram_counts, N_bigrams)\n",
    "trigrams_0_pmi, trigrams_1_pmi = get_ngram_label_pmi(trigram_label_coocc, trigram_counts, N_trigrams)"
   ]
  },
  {
   "cell_type": "markdown",
   "id": "88fb64de",
   "metadata": {},
   "source": [
    "### ***UPDATE MIT NEUEN ANNOTIERTEN DATEN:***"
   ]
  },
  {
   "cell_type": "code",
   "execution_count": 114,
   "id": "882f0fac",
   "metadata": {},
   "outputs": [],
   "source": [
    "new_unigram_counts = count_ngrams(new_unigrams, new_unigram_count_matrx)\n",
    "new_bigram_counts = count_ngrams(new_bigrams, new_bigram_count_matrx)\n",
    "new_trigram_counts = count_ngrams(new_trigrams, new_trigram_count_matrx)\n",
    "\n",
    "new_N_unigrams = get_total_count(new_unigram_counts)\n",
    "new_N_bigrams = get_total_count(new_bigram_counts)\n",
    "new_N_trigrams = get_total_count(new_trigram_counts)"
   ]
  },
  {
   "cell_type": "code",
   "execution_count": 115,
   "id": "162338c7",
   "metadata": {},
   "outputs": [],
   "source": [
    "new_unigram_label_coocc = count_ngram_label_cooccurrence(new_unigrams, new_unigram_count_matrx)\n",
    "new_bigram_label_coocc = count_ngram_label_cooccurrence(new_bigrams, new_bigram_count_matrx)\n",
    "new_trigram_label_coocc = count_ngram_label_cooccurrence(new_trigrams, new_trigram_count_matrx)"
   ]
  },
  {
   "cell_type": "code",
   "execution_count": 116,
   "id": "f697a69f",
   "metadata": {},
   "outputs": [],
   "source": [
    "new_unigrams_0_pmi, new_unigrams_1_pmi = get_ngram_label_pmi(new_unigram_label_coocc, new_unigram_counts, new_N_unigrams)\n",
    "new_bigrams_0_pmi, new_bigrams_1_pmi = get_ngram_label_pmi(new_bigram_label_coocc, new_bigram_counts, new_N_bigrams)\n",
    "new_trigrams_0_pmi, new_trigrams_1_pmi = get_ngram_label_pmi(new_trigram_label_coocc, new_trigram_counts, new_N_trigrams)"
   ]
  },
  {
   "cell_type": "markdown",
   "id": "c35f4aa4",
   "metadata": {},
   "source": [
    "### Ergebnisse"
   ]
  },
  {
   "cell_type": "markdown",
   "id": "078bfd70",
   "metadata": {},
   "source": [
    "**Bigramme, die am stärksten mit unstereotypischen Sätzen assoziiert sind:**"
   ]
  },
  {
   "cell_type": "code",
   "execution_count": 117,
   "id": "8070279d",
   "metadata": {},
   "outputs": [
    {
     "name": "stdout",
     "output_type": "stream",
     "text": [
      "Bigrams most associated with label 0:\n"
     ]
    },
    {
     "data": {
      "text/plain": [
       "[('abgegeben notwendig', 9.133459327640225),\n",
       " ('abgegrenzt flüchtlinge', 9.133459327640225),\n",
       " ('abgelehnt wurde', 9.133459327640225),\n",
       " ('abgelehnte asylbewerber', 9.133459327640225),\n",
       " ('abgeschlossenen asylverfahren', 9.133459327640225),\n",
       " ('abgesprochen deren', 9.133459327640225),\n",
       " ('abriegeln weder', 9.133459327640225),\n",
       " ('absatz strafbarkeit', 9.133459327640225),\n",
       " ('abschaffen beibehalten', 9.133459327640225),\n",
       " ('abschieben abschrecken', 9.133459327640225)]"
      ]
     },
     "execution_count": 117,
     "metadata": {},
     "output_type": "execute_result"
    }
   ],
   "source": [
    "print(\"Bigrams most associated with label 0:\")\n",
    "bigrams_0_pmi[:10]"
   ]
  },
  {
   "cell_type": "markdown",
   "id": "646fe991",
   "metadata": {},
   "source": [
    "**Bigramme, die am stärksten mit stereotypischen Sätzen assoziiert sind:**"
   ]
  },
  {
   "cell_type": "code",
   "execution_count": 118,
   "id": "3612fe3b",
   "metadata": {
    "scrolled": true
   },
   "outputs": [
    {
     "name": "stdout",
     "output_type": "stream",
     "text": [
      "Bigrams most associated with label 1:\n"
     ]
    },
    {
     "data": {
      "text/plain": [
       "[('abgeordneten bündnisses', 9.133459327640225),\n",
       " ('abgestattet islamistischen', 9.133459327640225),\n",
       " ('abgleiten landes', 9.133459327640225),\n",
       " ('abgrenzung ausgrenzung', 9.133459327640225),\n",
       " ('ablehnen parallelgesellschaften', 9.133459327640225),\n",
       " ('abrede stellen', 9.133459327640225),\n",
       " ('absage erteilen', 9.133459327640225),\n",
       " ('abschaffung asylbewerberleistungsgesetzes', 9.133459327640225),\n",
       " ('abschieben darf', 9.133459327640225),\n",
       " ('abschieben finde', 9.133459327640225)]"
      ]
     },
     "execution_count": 118,
     "metadata": {},
     "output_type": "execute_result"
    }
   ],
   "source": [
    "print(\"Bigrams most associated with label 1:\")\n",
    "bigrams_1_pmi[:10]"
   ]
  },
  {
   "cell_type": "markdown",
   "id": "c0bbe8de",
   "metadata": {},
   "source": [
    "### ***UPDATE MIT NEUEN ANNOTIERTEN DATEN:***"
   ]
  },
  {
   "cell_type": "code",
   "execution_count": 119,
   "id": "cc0aa59f",
   "metadata": {},
   "outputs": [
    {
     "name": "stdout",
     "output_type": "stream",
     "text": [
      "Bigrams most associated with label 0:\n"
     ]
    },
    {
     "data": {
      "text/plain": [
       "[('abgegeben notwendig', 9.831991550831058),\n",
       " ('abgegrenzt flüchtlinge', 9.831991550831058),\n",
       " ('abgelehnt wurde', 9.831991550831058),\n",
       " ('abgeschlossenen asylverfahren', 9.831991550831058),\n",
       " ('abgesprochen deren', 9.831991550831058),\n",
       " ('abriegeln weder', 9.831991550831058),\n",
       " ('absatz strafbarkeit', 9.831991550831058),\n",
       " ('abschaffen beibehalten', 9.831991550831058),\n",
       " ('abschieben abschrecken', 9.831991550831058),\n",
       " ('abschiebung länder', 9.831991550831058)]"
      ]
     },
     "execution_count": 119,
     "metadata": {},
     "output_type": "execute_result"
    }
   ],
   "source": [
    "print(\"Bigrams most associated with label 0:\")\n",
    "new_bigrams_0_pmi[:10]"
   ]
  },
  {
   "cell_type": "code",
   "execution_count": 120,
   "id": "9b6b5726",
   "metadata": {},
   "outputs": [
    {
     "name": "stdout",
     "output_type": "stream",
     "text": [
      "Bigrams most associated with label 1:\n"
     ]
    },
    {
     "data": {
      "text/plain": [
       "[('abgeordneten bündnisses', 9.831991550831058),\n",
       " ('abgestattet islamistischen', 9.831991550831058),\n",
       " ('abgleiten landes', 9.831991550831058),\n",
       " ('abgrenzung ausgrenzung', 9.831991550831058),\n",
       " ('ablehnen parallelgesellschaften', 9.831991550831058),\n",
       " ('abrede stellen', 9.831991550831058),\n",
       " ('absage erteilen', 9.831991550831058),\n",
       " ('abschieben darf', 9.831991550831058),\n",
       " ('abschieben finde', 9.831991550831058),\n",
       " ('abschiebung land', 9.831991550831058)]"
      ]
     },
     "execution_count": 120,
     "metadata": {},
     "output_type": "execute_result"
    }
   ],
   "source": [
    "print(\"Bigrams most associated with label 1:\")\n",
    "new_bigrams_1_pmi[:10]"
   ]
  },
  {
   "cell_type": "markdown",
   "id": "c4cf6a2e",
   "metadata": {},
   "source": [
    "### Interpretation\n",
    "Aus der Liste von Bigrammen, die am stärksten mit Aussagen ohne Stereotype assoziiert sind, kann man eher wenig Information herausziehen. Bigramme wie \"abgegrenzt flüchtlinge\" oder \"abschieben abschrecken\" sind überraschend. Rein intuitiv und vielleicht ein wenig mit Weltwissen würden wir vermuten solche Bigramme in einem Kontext vorzufinden, in dem zum Beispiel die Asylpolitik kritisiert wird. Zumindest sind diese Bigramme nicht neutral. \n",
    "Betrachtet man die Bigramme, die am stärksten mit stereotypischen Aussagen assoziiert sind, zeigen sich ebenfalls Bigramme, die man nicht ganz klar nachvollziehen kann (z.B. \"abgeordneten bündnisses\"). \n",
    "\n",
    "Einige Bigramme nehmen wir allerdings auch als recht plausibel wahr. Ein Beispiel ist das Bigramm \"abgestattet islamistischen\". Das häufige Aufbringen von Islamismus im Zusammenhang mit Geflüchteten oder Migrant\\*innen in rechtspopulistischen, anti-migrantischen Diskursen, die sich vor allem stereotypischen Bildern bedienen, ist bekannt. Auch, dass \"ablehnen parallelgesellschaften\" in der Liste auftaucht, erscheint plausibel. Ein stereotypisches Bild, welches oft gezeichnet wird, ist das der Migrant\\*innen, die sich in Deutschland eine \"Parallelgesellschaft\" aufbauen, ohne den Willen sich in in die deutsche Gesellschaft zu integrieren. \n",
    "\n",
    "Insgesamt findet man jedoch nur punktuell Bigramme, welche sich klar mit unserer menschlichen Intuition vereinbaren lassen. Sánchez-Junquera et al. sehen das in ihrem Paper als Indiz dafür, dass Stereotype sich nicht trivialerweise und intuitiv sprachlich charakterisieren lassen und argumentieren, dass komputationelle Verfahren deshalb interessante Erkenntnisse liefern können. Für unsere Studie wäre diese Schlussfolgerung deutlich zu weit hergeholt. Die sehr begrenzte Datenmenge lässt keine überzeugende Verallgemeinerung zu. Viele der Bigramme tauchen vermutlich alleinig aufgrund ihrer schieren Frequenz in den Listen auf und nicht, weil sie semantisch mit Stereotypen bzw. nicht mit Stereotypen assoziiert sind."
   ]
  },
  {
   "cell_type": "markdown",
   "id": "a028f115",
   "metadata": {},
   "source": [
    "Die Listen haben sich mit den neuen annotierten Daten nicht großartig verändert. In der Liste der mit stereotypischen Aussagen assoziierten Bigramme ist nun ('abschaffung asylbewerberleistungsgesetzes') verschwunden. Das ist möglicherweise dadurch erklärbar, dass durch die größere Datenmenge nun sehr spezifische Bigramme, welche vorher zufällig viel Gewicht hatten nun an Bedeutung verloren haben. Ansonsten bleibt es jedoch bei der obigen Auswertung."
   ]
  },
  {
   "cell_type": "markdown",
   "id": "3df585e0",
   "metadata": {},
   "source": [
    "## 2. Aufgabe: Opfer vs. Bedrohung\n",
    "Bei diesem Experiment geht es darum herauszufinden, ob das Modell es schafft, die Dimensionen der Stereotype von Aussagen richtig zu klassfizieren. Das Augenmerk von Sánchez-Junquera et al. liegt hierbei insbesondere auf Aussagen, welche zwar als anti-migrantisch zu definieren sind, jedoch durch rhetorische Mittel von Politiker\\*innen als solche unkenntlich gemacht werden. Menschliche Annotator\\*innen schaffen es (in den meisten Fällen), solche Aussagen richtig einzuordnen. Die Frage ist, ob die getesteten Modelle auch dazu in der Lage sind.\n",
    "\n",
    "Für diese Aufgabe erstellen wir einen Teil-Datensatz bestehend aus allen Aussagen, denen von den Annotator\\*innen ein Frame oder eine Kategorie zugeordnet wurde. Sánchez-Junquera et al. definieren die Suprakategorie \"Opfer\" als die Vereinigung von Kategorien 1 (\"Opfer von Xenophobie\") und Kategorie 2 (\"Leidende Opfer\") sowie die Suprakategorie \"Bedrohung\" als die Vereinigung von Kategorie 4 (\"Gefahr für das Kollektiv\"), Kategorie 5 (\"Gefahr für Einzelne\") und Kategorie 6 (\"Entmenschlichung\"). Kategorien 4 und 5 haben wir zusammengefasst, Kategorie 6 aufgrund fehlender Daten ausgeschlossen. Kategorie 3 (\"Ökonomische Ressource\") wurde für dieses Experiment von Sánchez-Junquera et al. exkludiert, da zu wenig Daten vorlagen. Aus demselben Grund entschieden auch wir uns dazu, diese Kategorie nicht einzubeziehen. \n",
    "Letzendlich erhielten also alle Aussagen mit einem Frame < 3 das Label \"1\" für \"Opfer\" und alle Aussagen mit einem Frame > 3 das Label \"0\" für \"Bedrohung."
   ]
  },
  {
   "cell_type": "code",
   "execution_count": 51,
   "id": "51fb7a66",
   "metadata": {},
   "outputs": [],
   "source": [
    "# Create subset with all sentences containing stereotypes\n",
    "stereotypes_df = raw_df.loc[raw_df[\"Frame\"] != \"x\"].copy()\n",
    "\n",
    "# Convert to float\n",
    "stereotypes_df[\"Frame\"] = stereotypes_df[\"Frame\"].astype(\"float\")\n",
    "\n",
    "# Add binary goldlabels for classification task\n",
    "stereotypes_df.loc[stereotypes_df[\"Frame\"] < 3, \"Victim\"] = 1\n",
    "stereotypes_df.loc[stereotypes_df[\"Frame\"] > 3, \"Victim\"] = 0"
   ]
  },
  {
   "cell_type": "code",
   "execution_count": 52,
   "id": "90a3876a",
   "metadata": {},
   "outputs": [
    {
     "data": {
      "text/plain": [
       "(198, 5)"
      ]
     },
     "execution_count": 52,
     "metadata": {},
     "output_type": "execute_result"
    }
   ],
   "source": [
    "# Examine the size of the new dataset\n",
    "stereotypes_df.shape"
   ]
  },
  {
   "cell_type": "code",
   "execution_count": 53,
   "id": "24bf8c67",
   "metadata": {},
   "outputs": [
    {
     "data": {
      "text/plain": [
       "54"
      ]
     },
     "execution_count": 53,
     "metadata": {},
     "output_type": "execute_result"
    }
   ],
   "source": [
    "# Number of sentences where immigrants are framed as threats\n",
    "sum(stereotypes_df[\"Victim\"] == 0)"
   ]
  },
  {
   "cell_type": "code",
   "execution_count": 54,
   "id": "500e623e",
   "metadata": {},
   "outputs": [
    {
     "data": {
      "text/plain": [
       "16"
      ]
     },
     "execution_count": 54,
     "metadata": {},
     "output_type": "execute_result"
    }
   ],
   "source": [
    "# Number of sentences in category 3 (\"economic resource\") \n",
    "stereotypes_df[\"Victim\"].isnull().sum()"
   ]
  },
  {
   "cell_type": "code",
   "execution_count": 55,
   "id": "708294b5",
   "metadata": {
    "scrolled": false
   },
   "outputs": [
    {
     "data": {
      "text/html": [
       "<div>\n",
       "<style scoped>\n",
       "    .dataframe tbody tr th:only-of-type {\n",
       "        vertical-align: middle;\n",
       "    }\n",
       "\n",
       "    .dataframe tbody tr th {\n",
       "        vertical-align: top;\n",
       "    }\n",
       "\n",
       "    .dataframe thead th {\n",
       "        text-align: right;\n",
       "    }\n",
       "</style>\n",
       "<table border=\"1\" class=\"dataframe\">\n",
       "  <thead>\n",
       "    <tr style=\"text-align: right;\">\n",
       "      <th></th>\n",
       "      <th>Term_NDoc_Date</th>\n",
       "      <th>Sentence</th>\n",
       "      <th>Frame</th>\n",
       "      <th>Contains stereotypes</th>\n",
       "      <th>Victim</th>\n",
       "    </tr>\n",
       "  </thead>\n",
       "  <tbody>\n",
       "    <tr>\n",
       "      <th>2</th>\n",
       "      <td>18_100_2015-04-23</td>\n",
       "      <td>Berlin, Donnerstag, den 23. April 2015 9485  Dr. Dietmar Bartsch  (A) (C)  (D)(B) bereitstellen – auch in Kenntnis der Tatsache, dass die Übergriffe auf Ausländer, auf Unterkünfte der Asylbewerber zugenommen haben und dass Menschen, die im Ehrenamt diese Willkommenskultur, von der wir alle sprechen, leben, eben nicht wenige Probleme haben.</td>\n",
       "      <td>2.1</td>\n",
       "      <td>1.0</td>\n",
       "      <td>1.0</td>\n",
       "    </tr>\n",
       "    <tr>\n",
       "      <th>3</th>\n",
       "      <td>18_100_2015-04-23</td>\n",
       "      <td>Es ist überhaupt nicht hinnehmbar, wenn der Generalsekretär einer immerhin regierungstragenden Partei, der CSU, sagt, das Asylrecht sei nicht für Sozialtouristen gemacht, die einen Freifahrtschein ins „All-inclusive-Sozialparadies“ buchen wollen.</td>\n",
       "      <td>4.4</td>\n",
       "      <td>1.0</td>\n",
       "      <td>0.0</td>\n",
       "    </tr>\n",
       "    <tr>\n",
       "      <th>4</th>\n",
       "      <td>18_100_2015-04-23</td>\n",
       "      <td>Denn auch unter dem Gesichtspunkt – Kollege Bartsch hat auf die Flüchtlingsströme hingewiesen –, dass wir in den nächsten Jahren große Anstrengungen unternehmen müssen, um Flüchtlinge aufzunehmen und zu integrieren – Integration ist fast genauso wichtig –, muss die Leistungsbereitschaft der Kommunen gewährleistet sein.</td>\n",
       "      <td>4.1</td>\n",
       "      <td>1.0</td>\n",
       "      <td>0.0</td>\n",
       "    </tr>\n",
       "    <tr>\n",
       "      <th>11</th>\n",
       "      <td>18_100_2015-04-23</td>\n",
       "      <td>Die Mehrheit der deutschen Bevölkerung steht beispielhaft zu unserer Willkommenskultur, indem sie vor Ort auf vielfältige Weise die Ankunft und das Leben der Flüchtlinge begleitet und erleichtert.</td>\n",
       "      <td>1.5</td>\n",
       "      <td>1.0</td>\n",
       "      <td>1.0</td>\n",
       "    </tr>\n",
       "    <tr>\n",
       "      <th>12</th>\n",
       "      <td>18_100_2015-04-23</td>\n",
       "      <td>Kolleginnen und Kollegen, das Recht auf Asyl ist und bleibt unantastbar.</td>\n",
       "      <td>1.1</td>\n",
       "      <td>1.0</td>\n",
       "      <td>1.0</td>\n",
       "    </tr>\n",
       "  </tbody>\n",
       "</table>\n",
       "</div>"
      ],
      "text/plain": [
       "       Term_NDoc_Date  \\\n",
       "2   18_100_2015-04-23   \n",
       "3   18_100_2015-04-23   \n",
       "4   18_100_2015-04-23   \n",
       "11  18_100_2015-04-23   \n",
       "12  18_100_2015-04-23   \n",
       "\n",
       "                                                                                                                                                                                                                                                                                                                                                 Sentence  \\\n",
       "2   Berlin, Donnerstag, den 23. April 2015 9485  Dr. Dietmar Bartsch  (A) (C)  (D)(B) bereitstellen – auch in Kenntnis der Tatsache, dass die Übergriffe auf Ausländer, auf Unterkünfte der Asylbewerber zugenommen haben und dass Menschen, die im Ehrenamt diese Willkommenskultur, von der wir alle sprechen, leben, eben nicht wenige Probleme haben.   \n",
       "3                                                                                                  Es ist überhaupt nicht hinnehmbar, wenn der Generalsekretär einer immerhin regierungstragenden Partei, der CSU, sagt, das Asylrecht sei nicht für Sozialtouristen gemacht, die einen Freifahrtschein ins „All-inclusive-Sozialparadies“ buchen wollen.   \n",
       "4                        Denn auch unter dem Gesichtspunkt – Kollege Bartsch hat auf die Flüchtlingsströme hingewiesen –, dass wir in den nächsten Jahren große Anstrengungen unternehmen müssen, um Flüchtlinge aufzunehmen und zu integrieren – Integration ist fast genauso wichtig –, muss die Leistungsbereitschaft der Kommunen gewährleistet sein.   \n",
       "11                                                                                                                                                   Die Mehrheit der deutschen Bevölkerung steht beispielhaft zu unserer Willkommenskultur, indem sie vor Ort auf vielfältige Weise die Ankunft und das Leben der Flüchtlinge begleitet und erleichtert.   \n",
       "12                                                                                                                                                                                                                                                                               Kolleginnen und Kollegen, das Recht auf Asyl ist und bleibt unantastbar.   \n",
       "\n",
       "    Frame  Contains stereotypes  Victim  \n",
       "2     2.1                   1.0     1.0  \n",
       "3     4.4                   1.0     0.0  \n",
       "4     4.1                   1.0     0.0  \n",
       "11    1.5                   1.0     1.0  \n",
       "12    1.1                   1.0     1.0  "
      ]
     },
     "execution_count": 55,
     "metadata": {},
     "output_type": "execute_result"
    }
   ],
   "source": [
    "# Remove category 3\n",
    "stereotypes_df.dropna(axis=0, inplace=True)\n",
    "stereotypes_df.head()"
   ]
  },
  {
   "cell_type": "code",
   "execution_count": 56,
   "id": "0787daa2",
   "metadata": {},
   "outputs": [],
   "source": [
    "# Get goldlabels\n",
    "y = stereotypes_df[\"Victim\"].to_numpy()"
   ]
  },
  {
   "cell_type": "markdown",
   "id": "d5bdee04",
   "metadata": {},
   "source": [
    "### Klassenverteilung\n",
    "Aus den 198 Sätzen mit Stereotyp erhalten wir 128 Sätze, die mit Kategorien annotiert wurden und welche der Suprakategorie \"Opfer\" angehören Davon sind 39 aus Kategorie 1: Opfer von Xenophobie und 89 aus Kategorie 2: Leidende Opfer. 54 Sätze gehören zur Suprakategorie \"Bedrohung\". Diese besteht nur aus den Sätzen von Kategorie 4. Wie bereits erwähnt wurden die 16 Sätze aus Kategorie 3 nicht mit betrachtet, da es zu wenig Daten gibt. Es ist auffällig, dass es mehr als doppelt so viele Sätze in der \"Opfer\" Suprakategorie gibt als in der \"Bedrohung\" Suprakategorie\"."
   ]
  },
  {
   "cell_type": "code",
   "execution_count": 57,
   "id": "127faf89",
   "metadata": {},
   "outputs": [
    {
     "data": {
      "text/plain": [
       "128"
      ]
     },
     "execution_count": 57,
     "metadata": {},
     "output_type": "execute_result"
    }
   ],
   "source": [
    "# Number of sentences where immigrants are labeled as victims\n",
    "sum(stereotypes_df[\"Victim\"] == 1)"
   ]
  },
  {
   "cell_type": "code",
   "execution_count": 58,
   "id": "9f02600d",
   "metadata": {},
   "outputs": [
    {
     "data": {
      "text/plain": [
       "54"
      ]
     },
     "execution_count": 58,
     "metadata": {},
     "output_type": "execute_result"
    }
   ],
   "source": [
    "# Number of sentences where immigrants are labeled as threats\n",
    "sum(stereotypes_df[\"Victim\"] == 0)"
   ]
  },
  {
   "cell_type": "markdown",
   "id": "07deea97",
   "metadata": {},
   "source": [
    "### Preprocessing\n",
    "Wie auch bei der ersten Aufgabe werden beim Preprocessing die Sätze tokenisiert, die Groß- und Kleinschreibung vereinheitlicht und Stoppwörter und Punktuation entfernt."
   ]
  },
  {
   "cell_type": "code",
   "execution_count": 59,
   "id": "dd9fff58",
   "metadata": {},
   "outputs": [
    {
     "data": {
      "text/plain": [
       "182"
      ]
     },
     "execution_count": 59,
     "metadata": {},
     "output_type": "execute_result"
    }
   ],
   "source": [
    "# Preprocess sentences \n",
    "raw_sents = stereotypes_df[\"Sentence\"].to_numpy()\n",
    "sents = apply_preprocessing(raw_sents)\n",
    "sents.size"
   ]
  },
  {
   "cell_type": "code",
   "execution_count": 60,
   "id": "cb3aa97e",
   "metadata": {},
   "outputs": [
    {
     "data": {
      "text/plain": [
       "182"
      ]
     },
     "execution_count": 60,
     "metadata": {},
     "output_type": "execute_result"
    }
   ],
   "source": [
    "# Array with original indexes so we can retrieve raw sentences later\n",
    "orig_indexes = np.arange(raw_sents.size)\n",
    "orig_indexes.size"
   ]
  },
  {
   "cell_type": "markdown",
   "id": "ac73e841",
   "metadata": {},
   "source": [
    "### Extraktion von Features für überwachtes Lernen"
   ]
  },
  {
   "cell_type": "code",
   "execution_count": 61,
   "id": "3c55ab2f",
   "metadata": {},
   "outputs": [
    {
     "data": {
      "text/plain": [
       "(1278, 1844, 1719)"
      ]
     },
     "execution_count": 61,
     "metadata": {},
     "output_type": "execute_result"
    }
   ],
   "source": [
    "# Get ngram counts\n",
    "unigrams, unigram_count_matrx = get_ngram_count_matrx(sents, 1)\n",
    "bigrams, bigram_count_matrx = get_ngram_count_matrx(sents, 2)\n",
    "trigrams, trigram_count_matrx = get_ngram_count_matrx(sents, 3)\n",
    "\n",
    "unigrams.size, bigrams.size, trigrams.size"
   ]
  },
  {
   "cell_type": "code",
   "execution_count": 62,
   "id": "583b3a8c",
   "metadata": {},
   "outputs": [
    {
     "data": {
      "text/plain": [
       "((182, 1278), (182, 1844), (182, 1719))"
      ]
     },
     "execution_count": 62,
     "metadata": {},
     "output_type": "execute_result"
    }
   ],
   "source": [
    "# Get ngram counts with tfidf weights\n",
    "unigram_tfidf_matrx = transform_to_tfidf(unigram_count_matrx)\n",
    "bigram_tfidf_matrx = transform_to_tfidf(bigram_count_matrx)\n",
    "trigram_tfidf_matrx = transform_to_tfidf(trigram_count_matrx)\n",
    "\n",
    "unigram_tfidf_matrx.shape, bigram_tfidf_matrx.shape, trigram_tfidf_matrx.shape"
   ]
  },
  {
   "cell_type": "code",
   "execution_count": 63,
   "id": "969469d8",
   "metadata": {},
   "outputs": [
    {
     "data": {
      "text/plain": [
       "(182, 1)"
      ]
     },
     "execution_count": 63,
     "metadata": {},
     "output_type": "execute_result"
    }
   ],
   "source": [
    "# Get sentiment scores\n",
    "sentiment_scores = get_sentiment(sents).reshape(-1, 1)\n",
    "sentiment_scores.shape"
   ]
  },
  {
   "cell_type": "code",
   "execution_count": 64,
   "id": "b002f65f",
   "metadata": {},
   "outputs": [],
   "source": [
    "# Create dicts with features\n",
    "name2ngram_counts = {\n",
    "    \"Unigram counts\": unigram_count_matrx,\n",
    "    \"Bigram counts\": bigram_count_matrx, \n",
    "    \"Trigram counts\": trigram_count_matrx\n",
    "}\n",
    "name2ngram_tfidf = {\n",
    "    \"Unigram Tfidf\": unigram_tfidf_matrx,\n",
    "    \"Bigram Tfidf\": bigram_tfidf_matrx,\n",
    "    \"Trigram Tfidf\": trigram_tfidf_matrx\n",
    "}"
   ]
  },
  {
   "cell_type": "markdown",
   "id": "b83986c8",
   "metadata": {},
   "source": [
    "### Ergebnisse"
   ]
  },
  {
   "cell_type": "markdown",
   "id": "69903eb7",
   "metadata": {},
   "source": [
    "**1. Bag-of-ngrams ohne Tfidf-Gewichtung:**\n",
    "\n",
    "Alle Modelle schneiden mit einer Accuracy von 0.7 und dem Macro F1 score von 0.41 gleich gut ab. Der F1 Score für Kategorie 0 (Bedrohungen) liegt bei 0. Das zeigt dass Kategorie 0 nicht vorhergesagt wurde.\n",
    "\n",
    "Die Baseline wurde mit jedem Modell geschlagen."
   ]
  },
  {
   "cell_type": "code",
   "execution_count": 65,
   "id": "1942a777",
   "metadata": {},
   "outputs": [
    {
     "name": "stdout",
     "output_type": "stream",
     "text": [
      "Unigram counts:\n",
      "              precision    recall  f1-score   support\n",
      "\n",
      "         0.0       0.00      0.00      0.00        11\n",
      "         1.0       0.70      1.00      0.83        26\n",
      "\n",
      "    accuracy                           0.70        37\n",
      "   macro avg       0.35      0.50      0.41        37\n",
      "weighted avg       0.49      0.70      0.58        37\n",
      "\n",
      "\n",
      "\n",
      "Bigram counts:\n",
      "              precision    recall  f1-score   support\n",
      "\n",
      "         0.0       0.00      0.00      0.00        11\n",
      "         1.0       0.70      1.00      0.83        26\n",
      "\n",
      "    accuracy                           0.70        37\n",
      "   macro avg       0.35      0.50      0.41        37\n",
      "weighted avg       0.49      0.70      0.58        37\n",
      "\n",
      "\n",
      "\n",
      "Trigram counts:\n",
      "              precision    recall  f1-score   support\n",
      "\n",
      "         0.0       0.00      0.00      0.00        11\n",
      "         1.0       0.70      1.00      0.83        26\n",
      "\n",
      "    accuracy                           0.70        37\n",
      "   macro avg       0.35      0.50      0.41        37\n",
      "weighted avg       0.49      0.70      0.58        37\n",
      "\n",
      "\n",
      "\n"
     ]
    }
   ],
   "source": [
    "print_results(name2ngram_counts)"
   ]
  },
  {
   "cell_type": "markdown",
   "id": "a9d46d87",
   "metadata": {},
   "source": [
    "**2. Bag-of-ngrams mit Tfidf-Gewichtung:**\n",
    "\n",
    "Bei den Modellen mit tfidf-Gewichtung schneiden alle Modelle genauso gut ab wie bei den Modellen ohne tfidf-Gewichtung. "
   ]
  },
  {
   "cell_type": "code",
   "execution_count": 66,
   "id": "b072d0a5",
   "metadata": {},
   "outputs": [
    {
     "name": "stdout",
     "output_type": "stream",
     "text": [
      "Unigram Tfidf:\n",
      "              precision    recall  f1-score   support\n",
      "\n",
      "         0.0       0.00      0.00      0.00        11\n",
      "         1.0       0.70      1.00      0.83        26\n",
      "\n",
      "    accuracy                           0.70        37\n",
      "   macro avg       0.35      0.50      0.41        37\n",
      "weighted avg       0.49      0.70      0.58        37\n",
      "\n",
      "\n",
      "\n",
      "Bigram Tfidf:\n",
      "              precision    recall  f1-score   support\n",
      "\n",
      "         0.0       0.00      0.00      0.00        11\n",
      "         1.0       0.70      1.00      0.83        26\n",
      "\n",
      "    accuracy                           0.70        37\n",
      "   macro avg       0.35      0.50      0.41        37\n",
      "weighted avg       0.49      0.70      0.58        37\n",
      "\n",
      "\n",
      "\n",
      "Trigram Tfidf:\n",
      "              precision    recall  f1-score   support\n",
      "\n",
      "         0.0       0.00      0.00      0.00        11\n",
      "         1.0       0.70      1.00      0.83        26\n",
      "\n",
      "    accuracy                           0.70        37\n",
      "   macro avg       0.35      0.50      0.41        37\n",
      "weighted avg       0.49      0.70      0.58        37\n",
      "\n",
      "\n",
      "\n"
     ]
    }
   ],
   "source": [
    "print_results(name2ngram_tfidf)"
   ]
  },
  {
   "cell_type": "markdown",
   "id": "682bb77e",
   "metadata": {},
   "source": [
    "**3. Sentiment:**\n",
    "\n",
    "Das Modell mit Sentiment erreicht ebenfalls eine Accuracy von 0.7 und ein Macro F1 score von 0.41. Dadurch wird auch hier die Baseline geschlagen. "
   ]
  },
  {
   "cell_type": "code",
   "execution_count": 67,
   "id": "724b67c0",
   "metadata": {
    "scrolled": true
   },
   "outputs": [
    {
     "name": "stdout",
     "output_type": "stream",
     "text": [
      "Sentiment:\n",
      "              precision    recall  f1-score   support\n",
      "\n",
      "         0.0       0.00      0.00      0.00        11\n",
      "         1.0       0.70      1.00      0.83        26\n",
      "\n",
      "    accuracy                           0.70        37\n",
      "   macro avg       0.35      0.50      0.41        37\n",
      "weighted avg       0.49      0.70      0.58        37\n",
      "\n"
     ]
    }
   ],
   "source": [
    "y_test, y_pred, orig_test = train_model(sentiment_scores, y, orig_indexes, SVC())\n",
    "predictions = get_predictions(y_test, y_pred, orig_test)\n",
    "print(\"Sentiment:\")\n",
    "print(classification_report(y_test, y_pred, zero_division=0))"
   ]
  },
  {
   "cell_type": "markdown",
   "id": "ca95f933",
   "metadata": {},
   "source": [
    "### Ergebnisse genauer betrachten:\n",
    "Wir schauen uns die Ergebnisse des besten Modells an, um detailliertere Einblicke zu erhalten."
   ]
  },
  {
   "cell_type": "markdown",
   "id": "97e82af2",
   "metadata": {},
   "source": [
    "**Konfusionsmatrix:** \n",
    "\n",
    "Es ist auffällig, dass gar keine Vorhersagen zur Suprakategorie Bedrohung gemacht werden. Die Daten für Experiment 2 sind unausgeglichener als die für Experiment 1, d.h. es besteht ein ungefähres Verhältnis von 2:1 für Opfer zu Bedrohung bei Experiment 2. Im Vergleich dazu ist das ungefähre Verhältnis 3:2 für Nicht-Stereotype zu Stereotype bei Experiment 1. Deshalb gehen wir davon aus, dass durch die unausgeglichene Daten kombiniert mit der geringeren Datenmenge das Modell nicht lernen konnte, was die Kategorie Bedrohung ausmacht.\n",
    "Wie auch Sánchez-Junquera et. al. kommen wir zu dem Schluss, dass die geringere Größe des Trainingsets einen Einfluss auf die Ergebnisse von Experiment 2 hat. \n",
    "\n",
    "Sánchez-Junquera et. al. vermuten, dass die Konfusion des Models darauf beruht, dass in der Politik die gleichen Worte für verschiedene Zwecke verwendet werdem, um nicht als xenophob bezeichnet zu werden. Das erscheint uns plausibel, und könnte eine Begründung sein, warum für Bedrohung keine Sätze gefunden wurden."
   ]
  },
  {
   "cell_type": "code",
   "execution_count": 68,
   "id": "ae71d3fe",
   "metadata": {},
   "outputs": [
    {
     "data": {
      "text/plain": [
       "<sklearn.metrics._plot.confusion_matrix.ConfusionMatrixDisplay at 0x7fca7fc4bbb0>"
      ]
     },
     "execution_count": 68,
     "metadata": {},
     "output_type": "execute_result"
    },
    {
     "data": {
      "image/png": "[encoded data removed]",
      "text/plain": [
       "<Figure size 640x480 with 2 Axes>"
      ]
     },
     "metadata": {},
     "output_type": "display_data"
    }
   ],
   "source": [
    "ConfusionMatrixDisplay.from_predictions(y_test, y_pred)"
   ]
  },
  {
   "cell_type": "markdown",
   "id": "8e3ecced",
   "metadata": {},
   "source": [
    "## Evaluation: Bei welchem Experiment ist Performanz besser?\n",
    "Bei Experiment 2 ist die Accuracy mit 0.7 bei jedem Modell deutlich höher als beim besten Ergebnis von Experiment 1,  welches eine Accuracy von 0.63 hat. Allerdings ist der Marco F1 score von Experiment 2 mit 0.41 schlechter als der Macro F1 von 0.5 beim besten Model von Experiment 1. Die höhere Accuracy mit geringerem F1 score könnte daran liegen, dass durch die verschiedenen unbalancierten Daten eine majority baseline nachgebildet wird: je größer die Majority Class ist, desto höher ist auch die Accuracy wenn nur oder größenteils die Majority Class vorhergesagt wird. \n",
    "\n",
    "Insgesamt schätzen wir ein, dass Experiment 1 die bessere Performance hat. Das wird vor allem bei der Betrachtung der F1 scores deutlich."
   ]
  },
  {
   "cell_type": "markdown",
   "id": "7e1b68f7",
   "metadata": {},
   "source": [
    "## Anmerkung:"
   ]
  },
  {
   "cell_type": "markdown",
   "id": "c3f9f2cc",
   "metadata": {},
   "source": [
    "Beim ersten Experiment hat sich bereits folgendes deutlich abgezeichnet: Ein solch (nicht nur) linguistisch komplexes Problem lässt sich nicht mit einem einfachen linearen Klassifikationsmodell, z.B. einer Support-Vector-Machine lösen. Auch ein Datensatz von 1000 Sätzen im Vergleich zu 500 Sätzen bewirkt keinen signifikanten Unterschied. Aus diesem Grund haben wir von der weiteren Reevaluation des zweiten Experimentes (Opfer vs. Bedrohung) mit den neuen annotierten Daten abgesehen. "
   ]
  },
  {
   "cell_type": "markdown",
   "id": "a81d76e8",
   "metadata": {},
   "source": [
    "## Fazit und Diskussion\n",
    "Sánchez-Junquera et al. vergleichen in ihrem Paper klassische ML-Modelle, welche durch relativ triviale lexikalische Features trainiert wurden, mit komplexeren SOA-Transformermodellen. Bei der  ersten Klassifikationsaufgabe (\"Stereotype vs. Nonstereotype\") sind die klassischen ML-Modelle den komplexeren Transformermodellen weit unterlegen. Beim zweiten Experiment (\"Victims vs. Threats\") ist es umgekehrt. Die Autor\\*innen vermuten, dass komplexere Transformermodelle aufgrund der komplexen Natur der Aufgabe besser geeignet sind. Es herrschen jedoch, insbesondere für die zweite Aufgabe, zu wenig Daten vor, was die bessere Performanz der klassischen ML-Modelle gegenüber den Transformermodellen bei dieser Aufgabe erklären würde. \n",
    "\n",
    "Da wir nur mit einem klassischen ML-Modell gearbeitet haben, lässt sich kein Vergleich zu komplexeren Transformermodellen wie bei Sánchez-Junquera et al. herstellen. Es lässt sich dennoch feststellen, dass das Trainieren des Modells mit rein lexikalischen Features definitiv nicht ausreicht, um einen tatsächlichen Lerneffekt, was die linguistischen Muster bezüglich Stereotypen angeht, zu erzielen. Auch die Hinzunahme der Sentimentanalyse brachte keine signifikanten Verbesserungen. Schon bei einem Modell, welches die Sentimentanalyse \"perfekt\", zumindest der Bewertung genügend menschlicher Annotator\\*innen entsprechend, durchführt, wäre es nur spekulativ vermutbar, inwiefern Sentiment und Stereotypisierung eines Satzes zusammenhängen. Bei einem \"fehlerhaften\" Sentiment-Modell verstärkt sich die Unsicherheit noch enorm.\n",
    "\n",
    "Die schlechte Performanz bei beiden Aufgaben hängt sehr wahrscheinlich mit dem Mangel an annotierten Trainingsdaten zusammen. Desweiteren wurden die zu annotierenden Sätze für unser Projekt automatisch extrahiert. Sánchez-Junquera et al. hingegen wählten diese manuell aus. Dies könnte ebenfalls einen Faktor für die Diskrepanz der Ergebnisse darstellen.\n",
    "\n",
    "In zukünftigen Untersuchungen könnte man eventuell mit der Einheit der Annotationen experimentieren. Beide Projekte sind von der Satzebene ausgegangen. Während Sánchez-Junquera et al. sich fragen, ob es eventuell sogar möglich sein sollte, einem Satz mehrere Frames zuzuordnen, haben wir uns die Frage gestellt, ob ein Satz überhaupt genügend Kontext bietet, um ihn adäquat zu annotieren. Der fehlende Kontext eines einzelnen Satzes machte es oft schwer, ihm einem Frame zuzuordnen, zumal diese sehr spezifisch formuliert sind.\n",
    "\n",
    "Bemerkung: Aufgrund des deutlich kleineren Rahmens unseres Projektes haben wir eine Berechnung des Inter-Annotator-Agreements ausgelassen. Dies wäre aber (zumindest, um einem wissenschaftlichen Anspruch gerecht zu werden) essentiell gewesen, um unseren Ergebnissen Legitimation zu verleihen."
   ]
  }
 ],
 "metadata": {
  "kernelspec": {
   "display_name": "Python 3 (ipykernel)",
   "language": "python",
   "name": "python3"
  },
  "language_info": {
   "codemirror_mode": {
    "name": "ipython",
    "version": 3
   },
   "file_extension": ".py",
   "mimetype": "text/x-python",
   "name": "python",
   "nbconvert_exporter": "python",
   "pygments_lexer": "ipython3",
   "version": "3.9.0"
  }
 },
 "nbformat": 4,
 "nbformat_minor": 5
}
