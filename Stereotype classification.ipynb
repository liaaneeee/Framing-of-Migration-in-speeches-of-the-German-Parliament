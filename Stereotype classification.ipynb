{
 "cells": [
  {
   "cell_type": "markdown",
   "id": "796872a0",
   "metadata": {},
   "source": [
    "# Stereotype classification"
   ]
  },
  {
   "cell_type": "markdown",
   "id": "c10883f6",
   "metadata": {},
   "source": [
    "## Inhaltsverzeichnis\n",
    "..."
   ]
  },
  {
   "cell_type": "markdown",
   "id": "adc01cf7",
   "metadata": {},
   "source": [
    "## Einführung (Kalie)\n",
    "..."
   ]
  },
  {
   "cell_type": "markdown",
   "id": "a9a30792",
   "metadata": {},
   "source": [
    "## Daten (Kalie)\n",
    "..."
   ]
  },
  {
   "cell_type": "markdown",
   "id": "589100fa",
   "metadata": {},
   "source": [
    "## Preselection & Annotation (Kalie)\n",
    "..."
   ]
  },
  {
   "cell_type": "code",
   "execution_count": 216,
   "id": "81f95e99",
   "metadata": {},
   "outputs": [],
   "source": [
    "import spacy\n",
    "import numpy as np\n",
    "import pandas as pd\n",
    "from math import log\n",
    "from textblob_de import TextBlobDE\n",
    "from nltk.corpus import stopwords\n",
    "from sklearn.feature_extraction.text import CountVectorizer, TfidfTransformer\n",
    "from sklearn.model_selection import train_test_split\n",
    "from sklearn.svm import SVC\n",
    "from sklearn.metrics import classification_report\n",
    "from sklearn.dummy import DummyClassifier"
   ]
  },
  {
   "cell_type": "code",
   "execution_count": 162,
   "id": "1dd897fe",
   "metadata": {},
   "outputs": [],
   "source": [
    "pd.set_option('display.max_colwidth', None)"
   ]
  },
  {
   "cell_type": "code",
   "execution_count": 163,
   "id": "71924c95",
   "metadata": {},
   "outputs": [],
   "source": [
    "nlp = spacy.load('de_core_news_sm')\n",
    "de_stopwords = stopwords.words('german')"
   ]
  },
  {
   "cell_type": "markdown",
   "id": "0cb2cf79",
   "metadata": {},
   "source": [
    "## Preprocessing (Kalie)\n",
    "..."
   ]
  },
  {
   "cell_type": "code",
   "execution_count": 164,
   "id": "bf5d506f",
   "metadata": {},
   "outputs": [],
   "source": [
    "def preprocess(sent):\n",
    "    # Tokenize\n",
    "    doc = nlp(sent)\n",
    "    tokens = [token.text for token in doc]\n",
    "    # To lower\n",
    "    tokens_lower = [t.lower() for t in tokens]\n",
    "    # Remove punctuation and stopwords\n",
    "    clean = [t for t in tokens_lower if t.isalpha() and t not in de_stopwords]\n",
    "    return \" \".join(clean)\n",
    "\n",
    "\n",
    "def apply_preprocessing(sents):\n",
    "    clean_sents = []\n",
    "    for sent in sents:\n",
    "        clean_sents.append(preprocess(sent))\n",
    "    return np.array(clean_sents)"
   ]
  },
  {
   "cell_type": "code",
   "execution_count": 165,
   "id": "9c59a59d",
   "metadata": {},
   "outputs": [
    {
     "data": {
      "text/html": [
       "<div>\n",
       "<style scoped>\n",
       "    .dataframe tbody tr th:only-of-type {\n",
       "        vertical-align: middle;\n",
       "    }\n",
       "\n",
       "    .dataframe tbody tr th {\n",
       "        vertical-align: top;\n",
       "    }\n",
       "\n",
       "    .dataframe thead th {\n",
       "        text-align: right;\n",
       "    }\n",
       "</style>\n",
       "<table border=\"1\" class=\"dataframe\">\n",
       "  <thead>\n",
       "    <tr style=\"text-align: right;\">\n",
       "      <th></th>\n",
       "      <th>Term_NDoc_Date</th>\n",
       "      <th>Sentence</th>\n",
       "      <th>Frame</th>\n",
       "    </tr>\n",
       "  </thead>\n",
       "  <tbody>\n",
       "    <tr>\n",
       "      <th>0</th>\n",
       "      <td>18_100_2015-04-23</td>\n",
       "      <td>Erste Beratung des von der Bundesregierung eingebrachten Entwurfs eines Gesetzes zur Förderung von Investitionen finanzschwacher Kommunen und zur Entlastung von Ländern und Kommunen bei der Aufnahme und Unterbringung von Asylbewerbern Drucksache 18/4653 (neu) ............</td>\n",
       "      <td>x</td>\n",
       "    </tr>\n",
       "    <tr>\n",
       "      <th>1</th>\n",
       "      <td>18_100_2015-04-23</td>\n",
       "      <td>Mit dem vorliegenden Entwurf eines Nachtragshaushalts 2015 und dem Entwurf eines Gesetzes zur Förderung von Investitionen finanzschwacher Kommunen und zur Entlastung von Ländern und Kommunen bei der Aufnahme und Unterbringung von Asylbewerbern setzt die Bundesregierung ihre Politik für eine größere Tragfähigkeit der öffentlichen Finanzen und für Wachstum fort.</td>\n",
       "      <td>3</td>\n",
       "    </tr>\n",
       "    <tr>\n",
       "      <th>2</th>\n",
       "      <td>18_100_2015-04-23</td>\n",
       "      <td>Berlin, Donnerstag, den 23. April 2015 9485  Dr. Dietmar Bartsch  (A) (C)  (D)(B) bereitstellen – auch in Kenntnis der Tatsache, dass die Übergriffe auf Ausländer, auf Unterkünfte der Asylbewerber zugenommen haben und dass Menschen, die im Ehrenamt diese Willkommenskultur, von der wir alle sprechen, leben, eben nicht wenige Probleme haben.</td>\n",
       "      <td>2.1</td>\n",
       "    </tr>\n",
       "    <tr>\n",
       "      <th>3</th>\n",
       "      <td>18_100_2015-04-23</td>\n",
       "      <td>Es ist überhaupt nicht hinnehmbar, wenn der Generalsekretär einer immerhin regierungstragenden Partei, der CSU, sagt, das Asylrecht sei nicht für Sozialtouristen gemacht, die einen Freifahrtschein ins „All-inclusive-Sozialparadies“ buchen wollen.</td>\n",
       "      <td>4.4</td>\n",
       "    </tr>\n",
       "    <tr>\n",
       "      <th>4</th>\n",
       "      <td>18_100_2015-04-23</td>\n",
       "      <td>Denn auch unter dem Gesichtspunkt – Kollege Bartsch hat auf die Flüchtlingsströme hingewiesen –, dass wir in den nächsten Jahren große Anstrengungen unternehmen müssen, um Flüchtlinge aufzunehmen und zu integrieren – Integration ist fast genauso wichtig –, muss die Leistungsbereitschaft der Kommunen gewährleistet sein.</td>\n",
       "      <td>4.1</td>\n",
       "    </tr>\n",
       "    <tr>\n",
       "      <th>...</th>\n",
       "      <td>...</td>\n",
       "      <td>...</td>\n",
       "      <td>...</td>\n",
       "    </tr>\n",
       "    <tr>\n",
       "      <th>495</th>\n",
       "      <td>18_121_2015-09-10</td>\n",
       "      <td>Das sind die drei Integrationsaufgaben, die wir haben.</td>\n",
       "      <td>x</td>\n",
       "    </tr>\n",
       "    <tr>\n",
       "      <th>496</th>\n",
       "      <td>18_121_2015-09-10</td>\n",
       "      <td>Ich komme jetzt auch zum Thema Fluchtursachenbekämpfung.</td>\n",
       "      <td>x</td>\n",
       "    </tr>\n",
       "    <tr>\n",
       "      <th>497</th>\n",
       "      <td>18_121_2015-09-10</td>\n",
       "      <td>Dass viele Mitbürger in unserem Land angesichts einer solchen Anzahl von Flüchtlingen Ängste haben und sich fragen, wie Bund, Länder und Kommunen die Unterbringung und auch die Integration bewältigen wollen, ist, wie ich glaube, nur allzu verständlich.</td>\n",
       "      <td>4</td>\n",
       "    </tr>\n",
       "    <tr>\n",
       "      <th>498</th>\n",
       "      <td>18_121_2015-09-10</td>\n",
       "      <td>Denn nur wenn es gelingt, gemeinsam mit der Wirtschaft das Potenzial und die Motivation der Menschen, die zu uns kommen, zu nutzen, nur dann wird Integration gelingen.</td>\n",
       "      <td>3</td>\n",
       "    </tr>\n",
       "    <tr>\n",
       "      <th>499</th>\n",
       "      <td>18_121_2015-09-10</td>\n",
       "      <td>Diese Lebenschancen brauchen wir für die Einheimischen und für die Zuwanderer.</td>\n",
       "      <td>x</td>\n",
       "    </tr>\n",
       "  </tbody>\n",
       "</table>\n",
       "<p>500 rows × 3 columns</p>\n",
       "</div>"
      ],
      "text/plain": [
       "        Term_NDoc_Date  \\\n",
       "0    18_100_2015-04-23   \n",
       "1    18_100_2015-04-23   \n",
       "2    18_100_2015-04-23   \n",
       "3    18_100_2015-04-23   \n",
       "4    18_100_2015-04-23   \n",
       "..                 ...   \n",
       "495  18_121_2015-09-10   \n",
       "496  18_121_2015-09-10   \n",
       "497  18_121_2015-09-10   \n",
       "498  18_121_2015-09-10   \n",
       "499  18_121_2015-09-10   \n",
       "\n",
       "                                                                                                                                                                                                                                                                                                                                                                       Sentence  \\\n",
       "0                                                                                              Erste Beratung des von der Bundesregierung eingebrachten Entwurfs eines Gesetzes zur Förderung von Investitionen finanzschwacher Kommunen und zur Entlastung von Ländern und Kommunen bei der Aufnahme und Unterbringung von Asylbewerbern Drucksache 18/4653 (neu) ............   \n",
       "1    Mit dem vorliegenden Entwurf eines Nachtragshaushalts 2015 und dem Entwurf eines Gesetzes zur Förderung von Investitionen finanzschwacher Kommunen und zur Entlastung von Ländern und Kommunen bei der Aufnahme und Unterbringung von Asylbewerbern setzt die Bundesregierung ihre Politik für eine größere Tragfähigkeit der öffentlichen Finanzen und für Wachstum fort.   \n",
       "2                         Berlin, Donnerstag, den 23. April 2015 9485  Dr. Dietmar Bartsch  (A) (C)  (D)(B) bereitstellen – auch in Kenntnis der Tatsache, dass die Übergriffe auf Ausländer, auf Unterkünfte der Asylbewerber zugenommen haben und dass Menschen, die im Ehrenamt diese Willkommenskultur, von der wir alle sprechen, leben, eben nicht wenige Probleme haben.   \n",
       "3                                                                                                                        Es ist überhaupt nicht hinnehmbar, wenn der Generalsekretär einer immerhin regierungstragenden Partei, der CSU, sagt, das Asylrecht sei nicht für Sozialtouristen gemacht, die einen Freifahrtschein ins „All-inclusive-Sozialparadies“ buchen wollen.   \n",
       "4                                              Denn auch unter dem Gesichtspunkt – Kollege Bartsch hat auf die Flüchtlingsströme hingewiesen –, dass wir in den nächsten Jahren große Anstrengungen unternehmen müssen, um Flüchtlinge aufzunehmen und zu integrieren – Integration ist fast genauso wichtig –, muss die Leistungsbereitschaft der Kommunen gewährleistet sein.   \n",
       "..                                                                                                                                                                                                                                                                                                                                                                          ...   \n",
       "495                                                                                                                                                                                                                                                                                                                      Das sind die drei Integrationsaufgaben, die wir haben.   \n",
       "496                                                                                                                                                                                                                                                                                                                    Ich komme jetzt auch zum Thema Fluchtursachenbekämpfung.   \n",
       "497                                                                                                                Dass viele Mitbürger in unserem Land angesichts einer solchen Anzahl von Flüchtlingen Ängste haben und sich fragen, wie Bund, Länder und Kommunen die Unterbringung und auch die Integration bewältigen wollen, ist, wie ich glaube, nur allzu verständlich.   \n",
       "498                                                                                                                                                                                                     Denn nur wenn es gelingt, gemeinsam mit der Wirtschaft das Potenzial und die Motivation der Menschen, die zu uns kommen, zu nutzen, nur dann wird Integration gelingen.   \n",
       "499                                                                                                                                                                                                                                                                                              Diese Lebenschancen brauchen wir für die Einheimischen und für die Zuwanderer.   \n",
       "\n",
       "    Frame  \n",
       "0       x  \n",
       "1       3  \n",
       "2     2.1  \n",
       "3     4.4  \n",
       "4     4.1  \n",
       "..    ...  \n",
       "495     x  \n",
       "496     x  \n",
       "497     4  \n",
       "498     3  \n",
       "499     x  \n",
       "\n",
       "[500 rows x 3 columns]"
      ]
     },
     "execution_count": 165,
     "metadata": {},
     "output_type": "execute_result"
    }
   ],
   "source": [
    "# Load annotated sentences\n",
    "raw_df = pd.read_csv(\"data/combined_samples.csv\", sep=\"\\t\")\n",
    "raw_df.drop(\"Unnamed: 0\", axis=1, inplace=True)\n",
    "raw_df"
   ]
  },
  {
   "cell_type": "code",
   "execution_count": 166,
   "id": "2b9c2d31",
   "metadata": {},
   "outputs": [
    {
     "data": {
      "text/plain": [
       "500"
      ]
     },
     "execution_count": 166,
     "metadata": {},
     "output_type": "execute_result"
    }
   ],
   "source": [
    "raw_sents = raw_df[\"Sentence\"].to_numpy()\n",
    "# Preprocess\n",
    "sents = apply_preprocessing(raw_sents)\n",
    "sents.size"
   ]
  },
  {
   "cell_type": "markdown",
   "id": "a5748bf9",
   "metadata": {},
   "source": [
    "## Vorüberlegungen & Ziele (Liane)\n",
    "Sanchez et al. untersuchen in ihrem Paper, wie effektiv klassische ML-Modelle und SOA-Modelle mithilfe der erstellten Taxonomie und des darauf basierenden annotierten Korpus das Framing von Migrant\\*innen klassifizieren können. Dabei werden zwei binäre Klassifikationsprobleme betrachtet:\n",
    "- Enthält eine Aussage Stereotype über Migrant\\*innen oder nicht? (\"Stereotype vs. Nonstereotype\")\n",
    "- Angenommen, die Aussage enthält Stereotype: Werden Migrant\\*innen als Opfer oder Bedrohung dargestellt? (\"Victim vs. Threat\")\n",
    "\n",
    "Wir führen diese Aufgaben mit einem klassischen ML-Modell für überwachtes Lernen, der Support Vector Machine, durch. Wir nutzen, wie die Autor\\*innen des Papers, die Implementation von Scikit-learn. Sanchez et al. trainieren die Modelle mit der tfidf-gewichteten Bag-of-words Repräsentation der Sätze. Es werden Unigramme, Bigramme und Trigramme verwendet, wobei Unigramme die besten Ergebnisse erzielen.\n",
    "Im Rahmen dieses Projektes nutzen wir ebenfalls die Bag-of-words Repräsentation, wobei wir das Modell sowohl mit tfidf-Gewichtung als auch ohne tfidf-Gewichtung trainieren. Außerdem testen wir Sentiment als Feature. (Weitere Erklärungen zu ergänzen...)"
   ]
  },
  {
   "cell_type": "code",
   "execution_count": 167,
   "id": "9f945c25",
   "metadata": {},
   "outputs": [
    {
     "data": {
      "text/plain": [
       "500"
      ]
     },
     "execution_count": 167,
     "metadata": {},
     "output_type": "execute_result"
    }
   ],
   "source": [
    "# Array with original indexes so we can retrieve raw sentences later\n",
    "orig_indexes = np.arange(raw_sents.size)\n",
    "orig_indexes.size"
   ]
  },
  {
   "cell_type": "markdown",
   "id": "80b2bae4",
   "metadata": {},
   "source": [
    "## 1. Aufgabe: Stereotype vs. Keine Stereotype\n",
    "Die Annotator\\*innen wurden gebeten, die Aussagen über Migrant\\*innen Frames zuzuordnen. Sanchez et al. erheben den Anspruch, dass die Taxonomie von Frames, vollständig die Dimensionen der Stereotypisierung von Migrant\\*innen abbildet, sei sie positiv oder negativ.\n",
    "Sätze, welche keinem Frame oder keiner Kategorie zugeordnet werden konnten, sollten mit \"x\" annotiert werden. \n",
    "Dem Datensatz wird eine Spalte \"Contains stereotypes\" mit den Goldlabels für die Klassifikation hinzugefügt. Sätze, welche mit \"x\" annotiert wurden, erhalten das Label 0 für \"enthält keine Stereotype\". Alle anderen Sätze erhalten 1 als Label."
   ]
  },
  {
   "cell_type": "code",
   "execution_count": 168,
   "id": "0d5e51b0",
   "metadata": {},
   "outputs": [],
   "source": [
    "def get_binary_labels(data):\n",
    "    \"\"\"Add column to df with binary labels for classification\"\"\"\n",
    "    data.loc[data[\"Frame\"] == \"x\", \"Contains stereotypes\"] = 0\n",
    "    data.loc[data[\"Frame\"] != \"x\", \"Contains stereotypes\"] = 1\n",
    "    return data"
   ]
  },
  {
   "cell_type": "code",
   "execution_count": 169,
   "id": "dc8180b7",
   "metadata": {},
   "outputs": [
    {
     "data": {
      "text/html": [
       "<div>\n",
       "<style scoped>\n",
       "    .dataframe tbody tr th:only-of-type {\n",
       "        vertical-align: middle;\n",
       "    }\n",
       "\n",
       "    .dataframe tbody tr th {\n",
       "        vertical-align: top;\n",
       "    }\n",
       "\n",
       "    .dataframe thead th {\n",
       "        text-align: right;\n",
       "    }\n",
       "</style>\n",
       "<table border=\"1\" class=\"dataframe\">\n",
       "  <thead>\n",
       "    <tr style=\"text-align: right;\">\n",
       "      <th></th>\n",
       "      <th>Term_NDoc_Date</th>\n",
       "      <th>Sentence</th>\n",
       "      <th>Frame</th>\n",
       "      <th>Contains stereotypes</th>\n",
       "    </tr>\n",
       "  </thead>\n",
       "  <tbody>\n",
       "    <tr>\n",
       "      <th>0</th>\n",
       "      <td>18_100_2015-04-23</td>\n",
       "      <td>Erste Beratung des von der Bundesregierung eingebrachten Entwurfs eines Gesetzes zur Förderung von Investitionen finanzschwacher Kommunen und zur Entlastung von Ländern und Kommunen bei der Aufnahme und Unterbringung von Asylbewerbern Drucksache 18/4653 (neu) ............</td>\n",
       "      <td>x</td>\n",
       "      <td>0.0</td>\n",
       "    </tr>\n",
       "    <tr>\n",
       "      <th>1</th>\n",
       "      <td>18_100_2015-04-23</td>\n",
       "      <td>Mit dem vorliegenden Entwurf eines Nachtragshaushalts 2015 und dem Entwurf eines Gesetzes zur Förderung von Investitionen finanzschwacher Kommunen und zur Entlastung von Ländern und Kommunen bei der Aufnahme und Unterbringung von Asylbewerbern setzt die Bundesregierung ihre Politik für eine größere Tragfähigkeit der öffentlichen Finanzen und für Wachstum fort.</td>\n",
       "      <td>3</td>\n",
       "      <td>1.0</td>\n",
       "    </tr>\n",
       "    <tr>\n",
       "      <th>2</th>\n",
       "      <td>18_100_2015-04-23</td>\n",
       "      <td>Berlin, Donnerstag, den 23. April 2015 9485  Dr. Dietmar Bartsch  (A) (C)  (D)(B) bereitstellen – auch in Kenntnis der Tatsache, dass die Übergriffe auf Ausländer, auf Unterkünfte der Asylbewerber zugenommen haben und dass Menschen, die im Ehrenamt diese Willkommenskultur, von der wir alle sprechen, leben, eben nicht wenige Probleme haben.</td>\n",
       "      <td>2.1</td>\n",
       "      <td>1.0</td>\n",
       "    </tr>\n",
       "    <tr>\n",
       "      <th>3</th>\n",
       "      <td>18_100_2015-04-23</td>\n",
       "      <td>Es ist überhaupt nicht hinnehmbar, wenn der Generalsekretär einer immerhin regierungstragenden Partei, der CSU, sagt, das Asylrecht sei nicht für Sozialtouristen gemacht, die einen Freifahrtschein ins „All-inclusive-Sozialparadies“ buchen wollen.</td>\n",
       "      <td>4.4</td>\n",
       "      <td>1.0</td>\n",
       "    </tr>\n",
       "    <tr>\n",
       "      <th>4</th>\n",
       "      <td>18_100_2015-04-23</td>\n",
       "      <td>Denn auch unter dem Gesichtspunkt – Kollege Bartsch hat auf die Flüchtlingsströme hingewiesen –, dass wir in den nächsten Jahren große Anstrengungen unternehmen müssen, um Flüchtlinge aufzunehmen und zu integrieren – Integration ist fast genauso wichtig –, muss die Leistungsbereitschaft der Kommunen gewährleistet sein.</td>\n",
       "      <td>4.1</td>\n",
       "      <td>1.0</td>\n",
       "    </tr>\n",
       "  </tbody>\n",
       "</table>\n",
       "</div>"
      ],
      "text/plain": [
       "      Term_NDoc_Date  \\\n",
       "0  18_100_2015-04-23   \n",
       "1  18_100_2015-04-23   \n",
       "2  18_100_2015-04-23   \n",
       "3  18_100_2015-04-23   \n",
       "4  18_100_2015-04-23   \n",
       "\n",
       "                                                                                                                                                                                                                                                                                                                                                                     Sentence  \\\n",
       "0                                                                                            Erste Beratung des von der Bundesregierung eingebrachten Entwurfs eines Gesetzes zur Förderung von Investitionen finanzschwacher Kommunen und zur Entlastung von Ländern und Kommunen bei der Aufnahme und Unterbringung von Asylbewerbern Drucksache 18/4653 (neu) ............   \n",
       "1  Mit dem vorliegenden Entwurf eines Nachtragshaushalts 2015 und dem Entwurf eines Gesetzes zur Förderung von Investitionen finanzschwacher Kommunen und zur Entlastung von Ländern und Kommunen bei der Aufnahme und Unterbringung von Asylbewerbern setzt die Bundesregierung ihre Politik für eine größere Tragfähigkeit der öffentlichen Finanzen und für Wachstum fort.   \n",
       "2                       Berlin, Donnerstag, den 23. April 2015 9485  Dr. Dietmar Bartsch  (A) (C)  (D)(B) bereitstellen – auch in Kenntnis der Tatsache, dass die Übergriffe auf Ausländer, auf Unterkünfte der Asylbewerber zugenommen haben und dass Menschen, die im Ehrenamt diese Willkommenskultur, von der wir alle sprechen, leben, eben nicht wenige Probleme haben.   \n",
       "3                                                                                                                      Es ist überhaupt nicht hinnehmbar, wenn der Generalsekretär einer immerhin regierungstragenden Partei, der CSU, sagt, das Asylrecht sei nicht für Sozialtouristen gemacht, die einen Freifahrtschein ins „All-inclusive-Sozialparadies“ buchen wollen.   \n",
       "4                                            Denn auch unter dem Gesichtspunkt – Kollege Bartsch hat auf die Flüchtlingsströme hingewiesen –, dass wir in den nächsten Jahren große Anstrengungen unternehmen müssen, um Flüchtlinge aufzunehmen und zu integrieren – Integration ist fast genauso wichtig –, muss die Leistungsbereitschaft der Kommunen gewährleistet sein.   \n",
       "\n",
       "  Frame  Contains stereotypes  \n",
       "0     x                   0.0  \n",
       "1     3                   1.0  \n",
       "2   2.1                   1.0  \n",
       "3   4.4                   1.0  \n",
       "4   4.1                   1.0  "
      ]
     },
     "execution_count": 169,
     "metadata": {},
     "output_type": "execute_result"
    }
   ],
   "source": [
    "df = get_binary_labels(raw_df)\n",
    "df.head()"
   ]
  },
  {
   "cell_type": "code",
   "execution_count": 170,
   "id": "ecbf36e3",
   "metadata": {},
   "outputs": [],
   "source": [
    "# Get goldlabels\n",
    "y = df[\"Contains stereotypes\"].to_numpy()"
   ]
  },
  {
   "cell_type": "markdown",
   "id": "2e887425",
   "metadata": {},
   "source": [
    "### Extraktion von Features für überwachtes Lernen\n",
    "#### 1. Bag-of-Ngrams ohne Tfidf-Gewichtung\n",
    "Zunächst wandeln wir den Datensatz in seine Bag-of-words bwz. \"Bag-of-ngrams\" Repräsentation um. Jeder Satz wird also als Vektor dargestellt, dessen Werte die Counts aller im Datensatz vorkommenden Ngramme darstellen."
   ]
  },
  {
   "cell_type": "code",
   "execution_count": 171,
   "id": "14e3f026",
   "metadata": {},
   "outputs": [],
   "source": [
    "def get_ngram_count_matrx(sents, n):\n",
    "    \"\"\"Get ngrams and ngram count matrix\"\"\"\n",
    "    vectorizer = CountVectorizer(ngram_range=(n, n))\n",
    "    ngram_count_matrx = vectorizer.fit_transform(sents).toarray()\n",
    "    ngrams = vectorizer.get_feature_names_out()\n",
    "    return ngrams, ngram_count_matrx"
   ]
  },
  {
   "cell_type": "code",
   "execution_count": 172,
   "id": "47c0a0a0",
   "metadata": {},
   "outputs": [],
   "source": [
    "unigrams, unigram_count_matrx = get_ngram_count_matrx(sents, 1)\n",
    "bigrams, bigram_count_matrx = get_ngram_count_matrx(sents, 2)\n",
    "trigrams, trigram_count_matrx = get_ngram_count_matrx(sents, 3)"
   ]
  },
  {
   "cell_type": "code",
   "execution_count": 173,
   "id": "74cde944",
   "metadata": {},
   "outputs": [
    {
     "data": {
      "text/plain": [
       "(2457, 4371, 4091)"
      ]
     },
     "execution_count": 173,
     "metadata": {},
     "output_type": "execute_result"
    }
   ],
   "source": [
    "# Number of unique unigrams, bigrams and trigrams\n",
    "unigrams.size, bigrams.size, trigrams.size"
   ]
  },
  {
   "cell_type": "code",
   "execution_count": 174,
   "id": "73fa8a70",
   "metadata": {
    "scrolled": false
   },
   "outputs": [
    {
     "data": {
      "text/plain": [
       "((500, 2457), (500, 4371), (500, 4091))"
      ]
     },
     "execution_count": 174,
     "metadata": {},
     "output_type": "execute_result"
    }
   ],
   "source": [
    "unigram_count_matrx.shape, bigram_count_matrx.shape, trigram_count_matrx.shape"
   ]
  },
  {
   "cell_type": "markdown",
   "id": "0072812f",
   "metadata": {},
   "source": [
    "#### 2. Bag-of-ngrams mit Tfidf-Gewichtung\n",
    "Nun ziehen wir das Tfidf-Maß hinzu, um die Counts der Ngramme zu gewichten."
   ]
  },
  {
   "cell_type": "code",
   "execution_count": 175,
   "id": "2b0950da",
   "metadata": {},
   "outputs": [],
   "source": [
    "# Add weighing with tfidf\n",
    "def transform_to_tfidf(ngram_count_matrx):\n",
    "    transformer = TfidfTransformer()\n",
    "    tfidf_matrx = transformer.fit_transform(ngram_count_matrx).toarray()\n",
    "    return tfidf_matrx"
   ]
  },
  {
   "cell_type": "code",
   "execution_count": 176,
   "id": "23686326",
   "metadata": {},
   "outputs": [],
   "source": [
    "unigram_tfidf_matrx = transform_to_tfidf(unigram_count_matrx)\n",
    "bigram_tfidf_matrx = transform_to_tfidf(bigram_count_matrx)\n",
    "trigram_tfidf_matrx = transform_to_tfidf(trigram_count_matrx)"
   ]
  },
  {
   "cell_type": "code",
   "execution_count": 177,
   "id": "f6bc7db7",
   "metadata": {},
   "outputs": [
    {
     "data": {
      "text/plain": [
       "((500, 2457), (500, 4371), (500, 4091))"
      ]
     },
     "execution_count": 177,
     "metadata": {},
     "output_type": "execute_result"
    }
   ],
   "source": [
    "unigram_tfidf_matrx.shape, bigram_tfidf_matrx.shape, trigram_tfidf_matrx.shape"
   ]
  },
  {
   "cell_type": "markdown",
   "id": "588b55a7",
   "metadata": {},
   "source": [
    "#### 3. Sentiment Scores\n",
    "Als letztes berechnen wir für jeden Satz noch den Sentiment score. Dafür nutzen wir das Package TextBlobDE."
   ]
  },
  {
   "cell_type": "code",
   "execution_count": 178,
   "id": "1640e1de",
   "metadata": {},
   "outputs": [],
   "source": [
    "def get_sentiment(sents):\n",
    "    sentiment = []\n",
    "    for sent in sents:\n",
    "        blob = TextBlobDE(sent)\n",
    "        sentiment.append(blob.polarity)\n",
    "    return np.array(sentiment)"
   ]
  },
  {
   "cell_type": "code",
   "execution_count": 179,
   "id": "d5e5224c",
   "metadata": {},
   "outputs": [
    {
     "data": {
      "text/plain": [
       "(500, 1)"
      ]
     },
     "execution_count": 179,
     "metadata": {},
     "output_type": "execute_result"
    }
   ],
   "source": [
    "sentiment_scores = get_sentiment(sents).reshape(-1, 1)\n",
    "sentiment_scores.shape"
   ]
  },
  {
   "cell_type": "markdown",
   "id": "e4ecfe33",
   "metadata": {},
   "source": [
    "### Trainieren des Modells"
   ]
  },
  {
   "cell_type": "code",
   "execution_count": 180,
   "id": "c708d1e5",
   "metadata": {},
   "outputs": [],
   "source": [
    "def train_and_evaluate_model(X, y, orig_indexes, model):\n",
    "    # Split into training and test data\n",
    "    X_train, X_test, y_train, y_test, orig_train, orig_test = train_test_split(\n",
    "    X, y, orig_indexes,\n",
    "    test_size=0.2, \n",
    "    stratify=y, \n",
    "    random_state=10\n",
    "    )\n",
    "    # Fit model\n",
    "    model.fit(X_train, y_train)\n",
    "    # Make predictions\n",
    "    predicted = model.predict(X_test)\n",
    "    # Create dataframe with raw sents of test set and predictions from model\n",
    "    predictions = []\n",
    "    for i in range(len(predicted)):\n",
    "        predictions.append([raw_sents[orig_test[i]], predicted[i], y_test[i]])\n",
    "    predictions_df = pd.DataFrame(predictions, columns=[\"Raw sentence\", \"Predicted label\", \"Gold label\"])\n",
    "    # Evaluate model\n",
    "    results = classification_report(y_test, predicted)\n",
    "    \n",
    "    return predictions_df, results"
   ]
  },
  {
   "cell_type": "code",
   "execution_count": 181,
   "id": "0a4877f1",
   "metadata": {},
   "outputs": [],
   "source": [
    "def get_correct(predictions):\n",
    "    return predictions.loc[predictions[\"Predicted label\"] == predictions[\"Gold label\"]]\n",
    "\n",
    "def get_wrong(predictions):\n",
    "    return predictions.loc[predictions[\"Predicted label\"] != predictions[\"Gold label\"]]"
   ]
  },
  {
   "cell_type": "markdown",
   "id": "d906f875",
   "metadata": {},
   "source": [
    "#### 1.1. Unigramm-Counts"
   ]
  },
  {
   "cell_type": "code",
   "execution_count": 182,
   "id": "b9ec1b49",
   "metadata": {},
   "outputs": [
    {
     "name": "stdout",
     "output_type": "stream",
     "text": [
      "              precision    recall  f1-score   support\n",
      "\n",
      "         0.0       0.62      0.93      0.75        60\n",
      "         1.0       0.60      0.15      0.24        40\n",
      "\n",
      "    accuracy                           0.62       100\n",
      "   macro avg       0.61      0.54      0.49       100\n",
      "weighted avg       0.61      0.62      0.54       100\n",
      "\n"
     ]
    }
   ],
   "source": [
    "# Train Support Vector Machine with unigram counts\n",
    "predictions, results = train_and_evaluate_model(unigram_count_matrx, y, orig_indexes, SVC())\n",
    "print(results)"
   ]
  },
  {
   "cell_type": "markdown",
   "id": "4b671290",
   "metadata": {},
   "source": [
    "#### 1.2. Bigramm-Counts"
   ]
  },
  {
   "cell_type": "code",
   "execution_count": 183,
   "id": "0f07200e",
   "metadata": {},
   "outputs": [
    {
     "name": "stdout",
     "output_type": "stream",
     "text": [
      "              precision    recall  f1-score   support\n",
      "\n",
      "         0.0       0.61      0.95      0.74        60\n",
      "         1.0       0.50      0.07      0.13        40\n",
      "\n",
      "    accuracy                           0.60       100\n",
      "   macro avg       0.55      0.51      0.44       100\n",
      "weighted avg       0.56      0.60      0.50       100\n",
      "\n"
     ]
    }
   ],
   "source": [
    "# Train Support Vector Machine with bigram counts\n",
    "predictions, results = train_and_evaluate_model(bigram_count_matrx, y, orig_indexes, SVC())\n",
    "print(results)"
   ]
  },
  {
   "cell_type": "markdown",
   "id": "13a6016b",
   "metadata": {},
   "source": [
    "#### 1.3. Trigramm-Counts"
   ]
  },
  {
   "cell_type": "code",
   "execution_count": 184,
   "id": "06001518",
   "metadata": {},
   "outputs": [
    {
     "name": "stdout",
     "output_type": "stream",
     "text": [
      "              precision    recall  f1-score   support\n",
      "\n",
      "         0.0       0.61      0.97      0.75        60\n",
      "         1.0       0.60      0.07      0.13        40\n",
      "\n",
      "    accuracy                           0.61       100\n",
      "   macro avg       0.61      0.52      0.44       100\n",
      "weighted avg       0.61      0.61      0.50       100\n",
      "\n"
     ]
    }
   ],
   "source": [
    "# Train Support Vector Machine with trigram counts\n",
    "predictions, results = train_and_evaluate_model(trigram_count_matrx, y, orig_indexes, SVC())\n",
    "print(results)"
   ]
  },
  {
   "cell_type": "markdown",
   "id": "cab298f9",
   "metadata": {},
   "source": [
    "#### 2.1. Unigramm-Counts mit Tfidf-Gewichtung"
   ]
  },
  {
   "cell_type": "code",
   "execution_count": 185,
   "id": "4474aec0",
   "metadata": {
    "scrolled": true
   },
   "outputs": [
    {
     "name": "stdout",
     "output_type": "stream",
     "text": [
      "              precision    recall  f1-score   support\n",
      "\n",
      "         0.0       0.61      1.00      0.76        60\n",
      "         1.0       1.00      0.05      0.10        40\n",
      "\n",
      "    accuracy                           0.62       100\n",
      "   macro avg       0.81      0.53      0.43       100\n",
      "weighted avg       0.77      0.62      0.49       100\n",
      "\n"
     ]
    }
   ],
   "source": [
    "# Train Support Vector Machine with unigram tfidf\n",
    "predictions, results = train_and_evaluate_model(unigram_tfidf_matrx, y, orig_indexes, SVC())\n",
    "print(results)"
   ]
  },
  {
   "cell_type": "markdown",
   "id": "2308101a",
   "metadata": {},
   "source": [
    "#### 2.2 Bigramm-Counts mit Tfidf-Gewichtung"
   ]
  },
  {
   "cell_type": "code",
   "execution_count": 186,
   "id": "5b305c32",
   "metadata": {},
   "outputs": [
    {
     "name": "stdout",
     "output_type": "stream",
     "text": [
      "              precision    recall  f1-score   support\n",
      "\n",
      "         0.0       0.60      1.00      0.75        60\n",
      "         1.0       0.00      0.00      0.00        40\n",
      "\n",
      "    accuracy                           0.60       100\n",
      "   macro avg       0.30      0.50      0.37       100\n",
      "weighted avg       0.36      0.60      0.45       100\n",
      "\n"
     ]
    },
    {
     "name": "stderr",
     "output_type": "stream",
     "text": [
      "/Users/liane/anaconda3/envs/clt22/lib/python3.9/site-packages/sklearn/metrics/_classification.py:1344: UndefinedMetricWarning: Precision and F-score are ill-defined and being set to 0.0 in labels with no predicted samples. Use `zero_division` parameter to control this behavior.\n",
      "  _warn_prf(average, modifier, msg_start, len(result))\n",
      "/Users/liane/anaconda3/envs/clt22/lib/python3.9/site-packages/sklearn/metrics/_classification.py:1344: UndefinedMetricWarning: Precision and F-score are ill-defined and being set to 0.0 in labels with no predicted samples. Use `zero_division` parameter to control this behavior.\n",
      "  _warn_prf(average, modifier, msg_start, len(result))\n",
      "/Users/liane/anaconda3/envs/clt22/lib/python3.9/site-packages/sklearn/metrics/_classification.py:1344: UndefinedMetricWarning: Precision and F-score are ill-defined and being set to 0.0 in labels with no predicted samples. Use `zero_division` parameter to control this behavior.\n",
      "  _warn_prf(average, modifier, msg_start, len(result))\n"
     ]
    }
   ],
   "source": [
    "# Train Support Vector Machine with bigram tfidf\n",
    "predictions, results = train_and_evaluate_model(bigram_tfidf_matrx, y, orig_indexes, SVC())\n",
    "print(results)"
   ]
  },
  {
   "cell_type": "markdown",
   "id": "626cdf24",
   "metadata": {},
   "source": [
    "#### 2.3. Trigramm-Counts mit Tfidf-Gewichtung"
   ]
  },
  {
   "cell_type": "code",
   "execution_count": 187,
   "id": "9d6a36d1",
   "metadata": {},
   "outputs": [
    {
     "name": "stdout",
     "output_type": "stream",
     "text": [
      "              precision    recall  f1-score   support\n",
      "\n",
      "         0.0       0.60      1.00      0.75        60\n",
      "         1.0       0.00      0.00      0.00        40\n",
      "\n",
      "    accuracy                           0.60       100\n",
      "   macro avg       0.30      0.50      0.37       100\n",
      "weighted avg       0.36      0.60      0.45       100\n",
      "\n"
     ]
    },
    {
     "name": "stderr",
     "output_type": "stream",
     "text": [
      "/Users/liane/anaconda3/envs/clt22/lib/python3.9/site-packages/sklearn/metrics/_classification.py:1344: UndefinedMetricWarning: Precision and F-score are ill-defined and being set to 0.0 in labels with no predicted samples. Use `zero_division` parameter to control this behavior.\n",
      "  _warn_prf(average, modifier, msg_start, len(result))\n",
      "/Users/liane/anaconda3/envs/clt22/lib/python3.9/site-packages/sklearn/metrics/_classification.py:1344: UndefinedMetricWarning: Precision and F-score are ill-defined and being set to 0.0 in labels with no predicted samples. Use `zero_division` parameter to control this behavior.\n",
      "  _warn_prf(average, modifier, msg_start, len(result))\n",
      "/Users/liane/anaconda3/envs/clt22/lib/python3.9/site-packages/sklearn/metrics/_classification.py:1344: UndefinedMetricWarning: Precision and F-score are ill-defined and being set to 0.0 in labels with no predicted samples. Use `zero_division` parameter to control this behavior.\n",
      "  _warn_prf(average, modifier, msg_start, len(result))\n"
     ]
    }
   ],
   "source": [
    "# Train Support Vector Machine with trigram tfidf\n",
    "predictions, results = train_and_evaluate_model(trigram_tfidf_matrx, y, orig_indexes, SVC())\n",
    "print(results)"
   ]
  },
  {
   "cell_type": "markdown",
   "id": "1144411d",
   "metadata": {},
   "source": [
    "### 3. Sentiment scores"
   ]
  },
  {
   "cell_type": "code",
   "execution_count": 188,
   "id": "ca1d093b",
   "metadata": {},
   "outputs": [
    {
     "name": "stdout",
     "output_type": "stream",
     "text": [
      "              precision    recall  f1-score   support\n",
      "\n",
      "         0.0       0.60      1.00      0.75        60\n",
      "         1.0       0.00      0.00      0.00        40\n",
      "\n",
      "    accuracy                           0.60       100\n",
      "   macro avg       0.30      0.50      0.37       100\n",
      "weighted avg       0.36      0.60      0.45       100\n",
      "\n"
     ]
    },
    {
     "name": "stderr",
     "output_type": "stream",
     "text": [
      "/Users/liane/anaconda3/envs/clt22/lib/python3.9/site-packages/sklearn/metrics/_classification.py:1344: UndefinedMetricWarning: Precision and F-score are ill-defined and being set to 0.0 in labels with no predicted samples. Use `zero_division` parameter to control this behavior.\n",
      "  _warn_prf(average, modifier, msg_start, len(result))\n",
      "/Users/liane/anaconda3/envs/clt22/lib/python3.9/site-packages/sklearn/metrics/_classification.py:1344: UndefinedMetricWarning: Precision and F-score are ill-defined and being set to 0.0 in labels with no predicted samples. Use `zero_division` parameter to control this behavior.\n",
      "  _warn_prf(average, modifier, msg_start, len(result))\n",
      "/Users/liane/anaconda3/envs/clt22/lib/python3.9/site-packages/sklearn/metrics/_classification.py:1344: UndefinedMetricWarning: Precision and F-score are ill-defined and being set to 0.0 in labels with no predicted samples. Use `zero_division` parameter to control this behavior.\n",
      "  _warn_prf(average, modifier, msg_start, len(result))\n"
     ]
    }
   ],
   "source": [
    "# Train Support Vector Machine with sentiment scores\n",
    "predictions, results = train_and_evaluate_model(sentiment_scores, y, orig_indexes, SVC())\n",
    "print(results)"
   ]
  },
  {
   "cell_type": "markdown",
   "id": "0bbff234",
   "metadata": {},
   "source": [
    "### 4. Kombinationen von Features\n",
    "Wir testen außerdem, ob eine Kombinationen von unterschiedlichen Features eine Verbesserung der Performance bewirkt."
   ]
  },
  {
   "cell_type": "code",
   "execution_count": 189,
   "id": "49c17918",
   "metadata": {},
   "outputs": [],
   "source": [
    "def combine_features(*features):\n",
    "    return np.concatenate(features, axis=1)"
   ]
  },
  {
   "cell_type": "code",
   "execution_count": 190,
   "id": "c509c205",
   "metadata": {},
   "outputs": [],
   "source": [
    "unigrams_sentiment = combine_features(unigram_count_matrx, sentiment_scores)\n",
    "bigrams_sentiment = combine_features(bigram_count_matrx, sentiment_scores)\n",
    "trigrams_sentiment = combine_features(trigram_count_matrx, sentiment_scores)"
   ]
  },
  {
   "cell_type": "markdown",
   "id": "a73d8abf",
   "metadata": {},
   "source": [
    "#### 4.1. Unigramm-Counts + Sentiment"
   ]
  },
  {
   "cell_type": "code",
   "execution_count": 191,
   "id": "3d21bbeb",
   "metadata": {},
   "outputs": [
    {
     "name": "stdout",
     "output_type": "stream",
     "text": [
      "              precision    recall  f1-score   support\n",
      "\n",
      "         0.0       0.63      0.95      0.75        60\n",
      "         1.0       0.67      0.15      0.24        40\n",
      "\n",
      "    accuracy                           0.63       100\n",
      "   macro avg       0.65      0.55      0.50       100\n",
      "weighted avg       0.64      0.63      0.55       100\n",
      "\n"
     ]
    }
   ],
   "source": [
    "# Train Support Vector Machine with unigrams and sentiment scores\n",
    "predictions, results = train_and_evaluate_model(unigrams_sentiment, y, orig_indexes, SVC())\n",
    "print(results)"
   ]
  },
  {
   "cell_type": "markdown",
   "id": "a55362a7",
   "metadata": {},
   "source": [
    "#### 4.2. Bigramm-Counts + Sentiment"
   ]
  },
  {
   "cell_type": "code",
   "execution_count": 192,
   "id": "452e51ea",
   "metadata": {},
   "outputs": [
    {
     "name": "stdout",
     "output_type": "stream",
     "text": [
      "              precision    recall  f1-score   support\n",
      "\n",
      "         0.0       0.61      0.97      0.75        60\n",
      "         1.0       0.60      0.07      0.13        40\n",
      "\n",
      "    accuracy                           0.61       100\n",
      "   macro avg       0.61      0.52      0.44       100\n",
      "weighted avg       0.61      0.61      0.50       100\n",
      "\n"
     ]
    }
   ],
   "source": [
    "# Train Support Vector Machine with bigrams and sentiment scores\n",
    "predictions, results = train_and_evaluate_model(bigrams_sentiment, y, orig_indexes, SVC())\n",
    "print(results)"
   ]
  },
  {
   "cell_type": "markdown",
   "id": "118764af",
   "metadata": {},
   "source": [
    "#### 4.3. Trigramm-Counts + Sentiment"
   ]
  },
  {
   "cell_type": "code",
   "execution_count": 193,
   "id": "0c8444a0",
   "metadata": {},
   "outputs": [
    {
     "name": "stdout",
     "output_type": "stream",
     "text": [
      "              precision    recall  f1-score   support\n",
      "\n",
      "         0.0       0.61      0.97      0.75        60\n",
      "         1.0       0.60      0.07      0.13        40\n",
      "\n",
      "    accuracy                           0.61       100\n",
      "   macro avg       0.61      0.52      0.44       100\n",
      "weighted avg       0.61      0.61      0.50       100\n",
      "\n"
     ]
    }
   ],
   "source": [
    "# Train Support Vector Machine with trigrams and sentiment scores\n",
    "predictions, results = train_and_evaluate_model(trigrams_sentiment, y, orig_indexes, SVC())\n",
    "print(results)"
   ]
  },
  {
   "cell_type": "code",
   "execution_count": 195,
   "id": "0c0f025b",
   "metadata": {},
   "outputs": [],
   "source": [
    "unigrams_tfidf_sentiment = combine_features(unigram_tfidf_matrx, sentiment_scores)\n",
    "bigrams_tfidf_sentiment = combine_features(bigram_tfidf_matrx, sentiment_scores)\n",
    "trigrams_tfidf_sentiment = combine_features(trigram_tfidf_matrx, sentiment_scores)"
   ]
  },
  {
   "cell_type": "markdown",
   "id": "0b4a7628",
   "metadata": {},
   "source": [
    "#### 4.4. Unigramm-Tfidf + Sentiment"
   ]
  },
  {
   "cell_type": "code",
   "execution_count": 196,
   "id": "0e5bb51f",
   "metadata": {},
   "outputs": [
    {
     "name": "stdout",
     "output_type": "stream",
     "text": [
      "              precision    recall  f1-score   support\n",
      "\n",
      "         0.0       0.61      1.00      0.75        60\n",
      "         1.0       1.00      0.03      0.05        40\n",
      "\n",
      "    accuracy                           0.61       100\n",
      "   macro avg       0.80      0.51      0.40       100\n",
      "weighted avg       0.76      0.61      0.47       100\n",
      "\n"
     ]
    }
   ],
   "source": [
    "# Train Support Vector Machine with unigram tfidf and sentiment scores\n",
    "predictions, results = train_and_evaluate_model(unigrams_tfidf_sentiment, y, orig_indexes, SVC())\n",
    "print(results)"
   ]
  },
  {
   "cell_type": "markdown",
   "id": "3f1f5a3c",
   "metadata": {},
   "source": [
    "#### 4.5. Bigramm-Tfidf + Sentiment"
   ]
  },
  {
   "cell_type": "code",
   "execution_count": 197,
   "id": "be27b8af",
   "metadata": {},
   "outputs": [
    {
     "name": "stdout",
     "output_type": "stream",
     "text": [
      "              precision    recall  f1-score   support\n",
      "\n",
      "         0.0       0.60      1.00      0.75        60\n",
      "         1.0       0.00      0.00      0.00        40\n",
      "\n",
      "    accuracy                           0.60       100\n",
      "   macro avg       0.30      0.50      0.37       100\n",
      "weighted avg       0.36      0.60      0.45       100\n",
      "\n"
     ]
    },
    {
     "name": "stderr",
     "output_type": "stream",
     "text": [
      "/Users/liane/anaconda3/envs/clt22/lib/python3.9/site-packages/sklearn/metrics/_classification.py:1344: UndefinedMetricWarning: Precision and F-score are ill-defined and being set to 0.0 in labels with no predicted samples. Use `zero_division` parameter to control this behavior.\n",
      "  _warn_prf(average, modifier, msg_start, len(result))\n",
      "/Users/liane/anaconda3/envs/clt22/lib/python3.9/site-packages/sklearn/metrics/_classification.py:1344: UndefinedMetricWarning: Precision and F-score are ill-defined and being set to 0.0 in labels with no predicted samples. Use `zero_division` parameter to control this behavior.\n",
      "  _warn_prf(average, modifier, msg_start, len(result))\n",
      "/Users/liane/anaconda3/envs/clt22/lib/python3.9/site-packages/sklearn/metrics/_classification.py:1344: UndefinedMetricWarning: Precision and F-score are ill-defined and being set to 0.0 in labels with no predicted samples. Use `zero_division` parameter to control this behavior.\n",
      "  _warn_prf(average, modifier, msg_start, len(result))\n"
     ]
    }
   ],
   "source": [
    "# Train Support Vector Machine with bigram tfidf and sentiment scores\n",
    "predictions, results = train_and_evaluate_model(bigrams_tfidf_sentiment, y, orig_indexes, SVC())\n",
    "print(results)"
   ]
  },
  {
   "cell_type": "markdown",
   "id": "cc9e7557",
   "metadata": {},
   "source": [
    "#### 4.6. Trigramm-Tfidf + Sentiment"
   ]
  },
  {
   "cell_type": "code",
   "execution_count": 198,
   "id": "fdacd21d",
   "metadata": {},
   "outputs": [
    {
     "name": "stdout",
     "output_type": "stream",
     "text": [
      "              precision    recall  f1-score   support\n",
      "\n",
      "         0.0       0.60      1.00      0.75        60\n",
      "         1.0       0.00      0.00      0.00        40\n",
      "\n",
      "    accuracy                           0.60       100\n",
      "   macro avg       0.30      0.50      0.37       100\n",
      "weighted avg       0.36      0.60      0.45       100\n",
      "\n"
     ]
    },
    {
     "name": "stderr",
     "output_type": "stream",
     "text": [
      "/Users/liane/anaconda3/envs/clt22/lib/python3.9/site-packages/sklearn/metrics/_classification.py:1344: UndefinedMetricWarning: Precision and F-score are ill-defined and being set to 0.0 in labels with no predicted samples. Use `zero_division` parameter to control this behavior.\n",
      "  _warn_prf(average, modifier, msg_start, len(result))\n",
      "/Users/liane/anaconda3/envs/clt22/lib/python3.9/site-packages/sklearn/metrics/_classification.py:1344: UndefinedMetricWarning: Precision and F-score are ill-defined and being set to 0.0 in labels with no predicted samples. Use `zero_division` parameter to control this behavior.\n",
      "  _warn_prf(average, modifier, msg_start, len(result))\n",
      "/Users/liane/anaconda3/envs/clt22/lib/python3.9/site-packages/sklearn/metrics/_classification.py:1344: UndefinedMetricWarning: Precision and F-score are ill-defined and being set to 0.0 in labels with no predicted samples. Use `zero_division` parameter to control this behavior.\n",
      "  _warn_prf(average, modifier, msg_start, len(result))\n"
     ]
    }
   ],
   "source": [
    "# Train Support Vector Machine with trigram tfidf and sentiment scores\n",
    "predictions, results = train_and_evaluate_model(trigrams_tfidf_sentiment, y, orig_indexes, SVC())\n",
    "print(results)"
   ]
  },
  {
   "cell_type": "markdown",
   "id": "a6068adc",
   "metadata": {},
   "source": [
    "### Besten Ergebnisse genauer betrachten:"
   ]
  },
  {
   "cell_type": "code",
   "execution_count": 199,
   "id": "2dd981c0",
   "metadata": {
    "scrolled": true
   },
   "outputs": [],
   "source": [
    "# Best features: unigram counts + sentiment\n",
    "predictions, results = train_and_evaluate_model(unigrams_sentiment, y, orig_indexes, SVC())"
   ]
  },
  {
   "cell_type": "code",
   "execution_count": 200,
   "id": "24fe2996",
   "metadata": {},
   "outputs": [
    {
     "data": {
      "text/html": [
       "<div>\n",
       "<style scoped>\n",
       "    .dataframe tbody tr th:only-of-type {\n",
       "        vertical-align: middle;\n",
       "    }\n",
       "\n",
       "    .dataframe tbody tr th {\n",
       "        vertical-align: top;\n",
       "    }\n",
       "\n",
       "    .dataframe thead th {\n",
       "        text-align: right;\n",
       "    }\n",
       "</style>\n",
       "<table border=\"1\" class=\"dataframe\">\n",
       "  <thead>\n",
       "    <tr style=\"text-align: right;\">\n",
       "      <th></th>\n",
       "      <th>Raw sentence</th>\n",
       "      <th>Predicted label</th>\n",
       "      <th>Gold label</th>\n",
       "    </tr>\n",
       "  </thead>\n",
       "  <tbody>\n",
       "    <tr>\n",
       "      <th>1</th>\n",
       "      <td>Ich nehme kein Beispiel aus dem Bereich des Terrorismus, der Kinderpornografie und auch nicht der Vergewaltigung, sondern ich nehme ein sehr praktisches Beispiel.</td>\n",
       "      <td>0.0</td>\n",
       "      <td>0.0</td>\n",
       "    </tr>\n",
       "    <tr>\n",
       "      <th>2</th>\n",
       "      <td>Da die Zuwanderer solche familiären Netzwerke hier nicht haben, müssen sie sich auch diesbezüglich neu orientierten.</td>\n",
       "      <td>0.0</td>\n",
       "      <td>0.0</td>\n",
       "    </tr>\n",
       "    <tr>\n",
       "      <th>5</th>\n",
       "      <td>Den Bundesinnenminister als denjenigen zu bezeichnen, der der Integration im Wege stand, heißt wirklich, das, was die Union in den letzten Jahren mit dieser Regierung getan hat, vollkommen zu verleugnen.</td>\n",
       "      <td>0.0</td>\n",
       "      <td>0.0</td>\n",
       "    </tr>\n",
       "    <tr>\n",
       "      <th>6</th>\n",
       "      <td>Wir unterscheiden zwischen jenen, die wegen Krieg und Verfolgung Aussicht auf Asyl haben, und denen, die keine Chance auf eine Zukunft in Deutschland haben.</td>\n",
       "      <td>0.0</td>\n",
       "      <td>0.0</td>\n",
       "    </tr>\n",
       "    <tr>\n",
       "      <th>8</th>\n",
       "      <td>Innerhalb von acht Wochen wurden allein 28 000 Asylanträge von Menschen aus dem Kosovo gestellt.</td>\n",
       "      <td>0.0</td>\n",
       "      <td>0.0</td>\n",
       "    </tr>\n",
       "    <tr>\n",
       "      <th>...</th>\n",
       "      <td>...</td>\n",
       "      <td>...</td>\n",
       "      <td>...</td>\n",
       "    </tr>\n",
       "    <tr>\n",
       "      <th>92</th>\n",
       "      <td>Dem gleichen Ziel dient die Aufforderung der Financial Action Task Force der OECD, jegliche Terrorismusfinanzierung unter Strafe zu stellen.</td>\n",
       "      <td>0.0</td>\n",
       "      <td>0.0</td>\n",
       "    </tr>\n",
       "    <tr>\n",
       "      <th>94</th>\n",
       "      <td>Habe ich überhaupt eine Chance auf Asyl, wenn ich mein Leben aufs Spiel setze, wenn ich meine Familie, wenn ich meine Kinder verlasse?</td>\n",
       "      <td>0.0</td>\n",
       "      <td>0.0</td>\n",
       "    </tr>\n",
       "    <tr>\n",
       "      <th>95</th>\n",
       "      <td>Auch wenn wir den Bürgerinnen und Bürgern ein Gefühl dafür geben wollen, dass wir mit der außenpolitischen Aufgabe der Bekämpfung der Fluchtursachen verantwortungsvoll umgehen, werden wir ihnen natürlich nicht für jedes Problem eine Lösung servieren können.</td>\n",
       "      <td>0.0</td>\n",
       "      <td>0.0</td>\n",
       "    </tr>\n",
       "    <tr>\n",
       "      <th>96</th>\n",
       "      <td>Eine ähnliche Schnittstellenfunktion erfüllt der Generalbundesanwalt beim Thema islamistischer Terrorismus.</td>\n",
       "      <td>0.0</td>\n",
       "      <td>0.0</td>\n",
       "    </tr>\n",
       "    <tr>\n",
       "      <th>98</th>\n",
       "      <td>Meine lieben Kolleginnen und Kollegen, das heute zu beschließende Gesetz ist ein wichtiger Baustein bei der Bekämpfung des Terrorismus mit dem Mittel des Strafrechts.</td>\n",
       "      <td>0.0</td>\n",
       "      <td>0.0</td>\n",
       "    </tr>\n",
       "  </tbody>\n",
       "</table>\n",
       "<p>63 rows × 3 columns</p>\n",
       "</div>"
      ],
      "text/plain": [
       "                                                                                                                                                                                                                                                         Raw sentence  \\\n",
       "1                                                                                                  Ich nehme kein Beispiel aus dem Bereich des Terrorismus, der Kinderpornografie und auch nicht der Vergewaltigung, sondern ich nehme ein sehr praktisches Beispiel.   \n",
       "2                                                                                                                                                Da die Zuwanderer solche familiären Netzwerke hier nicht haben, müssen sie sich auch diesbezüglich neu orientierten.   \n",
       "5                                                         Den Bundesinnenminister als denjenigen zu bezeichnen, der der Integration im Wege stand, heißt wirklich, das, was die Union in den letzten Jahren mit dieser Regierung getan hat, vollkommen zu verleugnen.   \n",
       "6                                                                                                        Wir unterscheiden zwischen jenen, die wegen Krieg und Verfolgung Aussicht auf Asyl haben, und denen, die keine Chance auf eine Zukunft in Deutschland haben.   \n",
       "8                                                                                                                                                                    Innerhalb von acht Wochen wurden allein 28 000 Asylanträge von Menschen aus dem Kosovo gestellt.   \n",
       "..                                                                                                                                                                                                                                                                ...   \n",
       "92                                                                                                                       Dem gleichen Ziel dient die Aufforderung der Financial Action Task Force der OECD, jegliche Terrorismusfinanzierung unter Strafe zu stellen.   \n",
       "94                                                                                                                             Habe ich überhaupt eine Chance auf Asyl, wenn ich mein Leben aufs Spiel setze, wenn ich meine Familie, wenn ich meine Kinder verlasse?   \n",
       "95  Auch wenn wir den Bürgerinnen und Bürgern ein Gefühl dafür geben wollen, dass wir mit der außenpolitischen Aufgabe der Bekämpfung der Fluchtursachen verantwortungsvoll umgehen, werden wir ihnen natürlich nicht für jedes Problem eine Lösung servieren können.   \n",
       "96                                                                                                                                                        Eine ähnliche Schnittstellenfunktion erfüllt der Generalbundesanwalt beim Thema islamistischer Terrorismus.   \n",
       "98                                                                                             Meine lieben Kolleginnen und Kollegen, das heute zu beschließende Gesetz ist ein wichtiger Baustein bei der Bekämpfung des Terrorismus mit dem Mittel des Strafrechts.   \n",
       "\n",
       "    Predicted label  Gold label  \n",
       "1               0.0         0.0  \n",
       "2               0.0         0.0  \n",
       "5               0.0         0.0  \n",
       "6               0.0         0.0  \n",
       "8               0.0         0.0  \n",
       "..              ...         ...  \n",
       "92              0.0         0.0  \n",
       "94              0.0         0.0  \n",
       "95              0.0         0.0  \n",
       "96              0.0         0.0  \n",
       "98              0.0         0.0  \n",
       "\n",
       "[63 rows x 3 columns]"
      ]
     },
     "execution_count": 200,
     "metadata": {},
     "output_type": "execute_result"
    }
   ],
   "source": [
    "# Correct predictions\n",
    "get_correct(predictions)"
   ]
  },
  {
   "cell_type": "code",
   "execution_count": 201,
   "id": "9ccac106",
   "metadata": {},
   "outputs": [
    {
     "data": {
      "text/html": [
       "<div>\n",
       "<style scoped>\n",
       "    .dataframe tbody tr th:only-of-type {\n",
       "        vertical-align: middle;\n",
       "    }\n",
       "\n",
       "    .dataframe tbody tr th {\n",
       "        vertical-align: top;\n",
       "    }\n",
       "\n",
       "    .dataframe thead th {\n",
       "        text-align: right;\n",
       "    }\n",
       "</style>\n",
       "<table border=\"1\" class=\"dataframe\">\n",
       "  <thead>\n",
       "    <tr style=\"text-align: right;\">\n",
       "      <th></th>\n",
       "      <th>Raw sentence</th>\n",
       "      <th>Predicted label</th>\n",
       "      <th>Gold label</th>\n",
       "    </tr>\n",
       "  </thead>\n",
       "  <tbody>\n",
       "    <tr>\n",
       "      <th>0</th>\n",
       "      <td>Solange Menschen keine andere Chance sehen, als über Schlepper und Menschenhändler nach Europa zu kommen, werden wir das Elend an unseren Grenzen nicht los.</td>\n",
       "      <td>0.0</td>\n",
       "      <td>1.0</td>\n",
       "    </tr>\n",
       "    <tr>\n",
       "      <th>3</th>\n",
       "      <td>Aber während wir über unsere Willkommenskultur sprechen, brennen Unterkünfte für Flüchtlinge, werden Anschläge verübt.</td>\n",
       "      <td>0.0</td>\n",
       "      <td>1.0</td>\n",
       "    </tr>\n",
       "    <tr>\n",
       "      <th>4</th>\n",
       "      <td>Nur wenn wir auch in den Herkunftsländern Fluchtursachen bekämpfen und wenn wir Fehlanreize in Deutschland beseitigen, dann werden wir unsere Kommunen dauerhaft und nachhaltig entlasten.</td>\n",
       "      <td>0.0</td>\n",
       "      <td>1.0</td>\n",
       "    </tr>\n",
       "    <tr>\n",
       "      <th>7</th>\n",
       "      <td>Denn wie wollen Sie bitte schön erklären, dass man Syrer nicht nach Ungarn, Italien oder Bulgarien abschieben darf, eritreische oder irakische Flüchtlinge aber schon?</td>\n",
       "      <td>0.0</td>\n",
       "      <td>1.0</td>\n",
       "    </tr>\n",
       "    <tr>\n",
       "      <th>9</th>\n",
       "      <td>Einwanderung ist essenziell erforderlich für unsere Gesellschaft.</td>\n",
       "      <td>0.0</td>\n",
       "      <td>1.0</td>\n",
       "    </tr>\n",
       "    <tr>\n",
       "      <th>10</th>\n",
       "      <td>Aber wenn wir das ernst meinen – wir meinen es alle ernst –, dass die Fluchtursachen langfristig nur in den Krisenregionen bekämpft werden können, dann müssen wir uns auch dazu bekennen, dass alle Etats in unserem Haushalt, die sich um die internationale Verantwortung kümmern – humanitäre Hilfe, Polizeiausbildung, wirtschaftliche Zusammenarbeit, aber auch der Etat für Verteidigung –, in den nächsten Jahren deutlicher anwachsen müssen, um dieser Verantwortung gerecht zu werden.</td>\n",
       "      <td>1.0</td>\n",
       "      <td>0.0</td>\n",
       "    </tr>\n",
       "    <tr>\n",
       "      <th>11</th>\n",
       "      <td>Damit können und sollen die Fluchtursachen in den wichtigsten Herkunftsländern zusätzlich bekämpft werden.</td>\n",
       "      <td>0.0</td>\n",
       "      <td>1.0</td>\n",
       "    </tr>\n",
       "    <tr>\n",
       "      <th>22</th>\n",
       "      <td>Erst die wirtschaftliche Leistungskraft unseres Landes,  gepaart mit soliden Finanzen, erspart uns jetzt schwere Entscheidungen und Konflikte darüber, wie wir die Aufnahme und die Integration so vieler Menschen in Deutschland schaffen und finanzieren wollen.</td>\n",
       "      <td>1.0</td>\n",
       "      <td>0.0</td>\n",
       "    </tr>\n",
       "    <tr>\n",
       "      <th>25</th>\n",
       "      <td>Über das novellierte Asylbewerberleistungsgesetz übernimmt der Bund jährlich Kosten von 43 Millionen Euro.</td>\n",
       "      <td>0.0</td>\n",
       "      <td>1.0</td>\n",
       "    </tr>\n",
       "    <tr>\n",
       "      <th>29</th>\n",
       "      <td>Ich bin überzeugt, dass wir beides brauchen: legale Möglichkeiten der Einwanderung und die Verfolgung von gewissenlosen Schleppern.</td>\n",
       "      <td>0.0</td>\n",
       "      <td>1.0</td>\n",
       "    </tr>\n",
       "    <tr>\n",
       "      <th>31</th>\n",
       "      <td>Stichworte hierfür sind die menschenwürdige Aufnahme, die schnelle Integration – Frau Jelpke, Sie haben das eben noch einmal ausführlich erwähnt – und die Hilfen beim Spracherwerb.</td>\n",
       "      <td>0.0</td>\n",
       "      <td>1.0</td>\n",
       "    </tr>\n",
       "    <tr>\n",
       "      <th>32</th>\n",
       "      <td>Neben der europäischen Solidarität müssen wir auf ein gemeinsames Asylsystem drängen, immer wieder Wert darauf legen und dafür werben.</td>\n",
       "      <td>0.0</td>\n",
       "      <td>1.0</td>\n",
       "    </tr>\n",
       "    <tr>\n",
       "      <th>35</th>\n",
       "      <td>Die Resolution war die Reaktion auf den wachsenden internationalen Terrorismus insbesondere durch den Islamischen Staat, IS, im Irak und Syrien.</td>\n",
       "      <td>0.0</td>\n",
       "      <td>1.0</td>\n",
       "    </tr>\n",
       "    <tr>\n",
       "      <th>36</th>\n",
       "      <td>Sie haben erstens gesagt, dass jede Form von Rettung auch eine Erleichterung des Geschäftes für Schlepper ist.</td>\n",
       "      <td>0.0</td>\n",
       "      <td>1.0</td>\n",
       "    </tr>\n",
       "    <tr>\n",
       "      <th>37</th>\n",
       "      <td>Wenn wir über Flüchtlinge reden, dann müssen wir vor allem auch über Fluchtursachen reden.</td>\n",
       "      <td>0.0</td>\n",
       "      <td>1.0</td>\n",
       "    </tr>\n",
       "    <tr>\n",
       "      <th>38</th>\n",
       "      <td>Ein guter Schritt wäre zum Beispiel die Abschaffung des Asylbewerberleistungsgesetzes und die Integration von Flüchtlingen in das soziale Sicherungssystem.</td>\n",
       "      <td>0.0</td>\n",
       "      <td>1.0</td>\n",
       "    </tr>\n",
       "    <tr>\n",
       "      <th>41</th>\n",
       "      <td>Die Verleihung der Staatsbürgerschaft sollte vielmehr das vorläufige Ende des Integrationsprozesses darstellen.</td>\n",
       "      <td>0.0</td>\n",
       "      <td>1.0</td>\n",
       "    </tr>\n",
       "    <tr>\n",
       "      <th>42</th>\n",
       "      <td>Die Frage beim Jemen war, ob man das vollständige Abgleiten dieses Landes in den islamistischen Terrorismus zulässt oder nicht.</td>\n",
       "      <td>0.0</td>\n",
       "      <td>1.0</td>\n",
       "    </tr>\n",
       "    <tr>\n",
       "      <th>44</th>\n",
       "      <td>Die Asylbewerber, die erkennbar ohne Schutzgrund sind, müssen sofort wieder zurückgeführt werden.</td>\n",
       "      <td>0.0</td>\n",
       "      <td>1.0</td>\n",
       "    </tr>\n",
       "    <tr>\n",
       "      <th>45</th>\n",
       "      <td>Auch das halte ich für ein Missmanagement bei der Sicherheitsaufgabe und der Problematik, die wir alle gerade mit Betroffenheit zu gewärtigen habe, dass es nämlich Übergriffe gibt auf Asylbewerber und auf diejenigen, die sich für diese engagieren, auch für deren richtige Unterbringung.</td>\n",
       "      <td>0.0</td>\n",
       "      <td>1.0</td>\n",
       "    </tr>\n",
       "    <tr>\n",
       "      <th>47</th>\n",
       "      <td>Das würde unser Asylsystem und vor allem auch die Willkommenskultur in Deutschland und in ganz Europa gefährden.</td>\n",
       "      <td>0.0</td>\n",
       "      <td>1.0</td>\n",
       "    </tr>\n",
       "    <tr>\n",
       "      <th>48</th>\n",
       "      <td>Ich habe manchmal, wenn ich mir Reden von Mitgliedern Ihrer Fraktion anhöre, das Gefühl, dass Sie die Schlepper mittlerweile als eine humanitäre Organisation ansehen.</td>\n",
       "      <td>0.0</td>\n",
       "      <td>1.0</td>\n",
       "    </tr>\n",
       "    <tr>\n",
       "      <th>52</th>\n",
       "      <td>Dass das kein akutes Problem ist, liegt an der Einwanderung von Menschen aus den südeuropäischen Ländern infolge der Euro-Krise und an den Flüchtlingen, die wir gegenwärtig aufnehmen.</td>\n",
       "      <td>0.0</td>\n",
       "      <td>1.0</td>\n",
       "    </tr>\n",
       "    <tr>\n",
       "      <th>54</th>\n",
       "      <td>Wir dürfen Flüchtlinge und Asylsuchende nicht nur unter Kostengesichtspunkten betrachten.</td>\n",
       "      <td>0.0</td>\n",
       "      <td>1.0</td>\n",
       "    </tr>\n",
       "    <tr>\n",
       "      <th>56</th>\n",
       "      <td>Ein großer Teil von ihnen wird vor dem Hintergrund dieses neuen Asylbewerberleistungsgesetzes schon bald vor unseren Jobcentern und der Bundesagentur für Arbeit stehen.</td>\n",
       "      <td>0.0</td>\n",
       "      <td>1.0</td>\n",
       "    </tr>\n",
       "    <tr>\n",
       "      <th>57</th>\n",
       "      <td>Selbst der Bundesinnenminister fordert inzwischen, noch nicht anerkannte Flüchtlinge zu Integrationskursen zuzulassen – allerdings nur, wenn sie gute Chancen auf Asyl haben.</td>\n",
       "      <td>0.0</td>\n",
       "      <td>1.0</td>\n",
       "    </tr>\n",
       "    <tr>\n",
       "      <th>60</th>\n",
       "      <td>Der Schalterbeamte bei der Post, der neue Vermieter, der Bankangestellte und wo man sich sonst noch ausweisen muss, alle erfahren, dass der Inhaber des Ausweises vom Staat als mutmaßlicher Djihadist angesehen wird.</td>\n",
       "      <td>0.0</td>\n",
       "      <td>1.0</td>\n",
       "    </tr>\n",
       "    <tr>\n",
       "      <th>61</th>\n",
       "      <td>Es ist durch Studien erwiesen, dass  Zuwanderung eben nicht Zuwanderung in unsere Sozialsysteme heißt.</td>\n",
       "      <td>0.0</td>\n",
       "      <td>1.0</td>\n",
       "    </tr>\n",
       "    <tr>\n",
       "      <th>64</th>\n",
       "      <td>Der langfristige Schlüssel zum Erfolg liegt aber in der Beseitigung der Fluchtursachen.</td>\n",
       "      <td>0.0</td>\n",
       "      <td>1.0</td>\n",
       "    </tr>\n",
       "    <tr>\n",
       "      <th>68</th>\n",
       "      <td>Es ist beispielsweise überliefert, dass ein für die Kriegführung in Griechenland benötigtes deutsches Schiff stattdessen für die Deportation von 200 Jüdinnen und Juden nach Auschwitz genutzt wurde.</td>\n",
       "      <td>0.0</td>\n",
       "      <td>1.0</td>\n",
       "    </tr>\n",
       "    <tr>\n",
       "      <th>76</th>\n",
       "      <td>Wer in Zukunft Fachkräfte braucht, der muss sich jetzt um Integrationsprogramme kümmern.</td>\n",
       "      <td>0.0</td>\n",
       "      <td>1.0</td>\n",
       "    </tr>\n",
       "    <tr>\n",
       "      <th>81</th>\n",
       "      <td>Ein weiterer Schwerpunkt liegt bei der Bekämpfung der kriminellen Schlepperbanden.</td>\n",
       "      <td>0.0</td>\n",
       "      <td>1.0</td>\n",
       "    </tr>\n",
       "    <tr>\n",
       "      <th>83</th>\n",
       "      <td>Das ist zwar ein richtiger Schritt in die richtige Richtung, doch nach unserer Auffassung sollten alle Asylsuchenden Zugang zu Sprachkursen erhalten.</td>\n",
       "      <td>0.0</td>\n",
       "      <td>1.0</td>\n",
       "    </tr>\n",
       "    <tr>\n",
       "      <th>87</th>\n",
       "      <td>In dem Paket stehen verfassungswidriger Bargeldentzug, Asylrechtseinschränkung durch Festlegung sogenannter sicherer Drittstaaten, Verschärfungen für Geduldete, Zwangsaufenthalte in Erstaufnahmeeinrichtungen.</td>\n",
       "      <td>0.0</td>\n",
       "      <td>1.0</td>\n",
       "    </tr>\n",
       "    <tr>\n",
       "      <th>93</th>\n",
       "      <td>Als deutsche Einwanderungsgesellschaft wollen wir eine lebendige und verantwortungsvolle Erinnerungskultur.</td>\n",
       "      <td>0.0</td>\n",
       "      <td>1.0</td>\n",
       "    </tr>\n",
       "    <tr>\n",
       "      <th>97</th>\n",
       "      <td>In der ersten Phase geht es erst einmal darum, sich überhaupt ein Lagebild zu machen und sich Klarheit darüber zu verschaffen, ob die zweite und die dritte Phase notwendig sind, um die Schlepperbanden wirklich effektiv zu bekämpfen.</td>\n",
       "      <td>1.0</td>\n",
       "      <td>0.0</td>\n",
       "    </tr>\n",
       "    <tr>\n",
       "      <th>99</th>\n",
       "      <td>Das macht keinen Sinn,  (Beifall beim BÜNDNIS 90/DIE GRÜNEN und bei der LINKEN)  zumal es um die Abschiebung in ein Land geht, das Flüchtlinge interniert, kriminalisiert und demnächst mit Notstandsgesetzen und drakonischen Strafen bei illegaler Einreise reagiert.</td>\n",
       "      <td>0.0</td>\n",
       "      <td>1.0</td>\n",
       "    </tr>\n",
       "  </tbody>\n",
       "</table>\n",
       "</div>"
      ],
      "text/plain": [
       "                                                                                                                                                                                                                                                                                                                                                                                                                                                                                         Raw sentence  \\\n",
       "0                                                                                                                                                                                                                                                                                                                                        Solange Menschen keine andere Chance sehen, als über Schlepper und Menschenhändler nach Europa zu kommen, werden wir das Elend an unseren Grenzen nicht los.   \n",
       "3                                                                                                                                                                                                                                                                                                                                                                              Aber während wir über unsere Willkommenskultur sprechen, brennen Unterkünfte für Flüchtlinge, werden Anschläge verübt.   \n",
       "4                                                                                                                                                                                                                                                                                                          Nur wenn wir auch in den Herkunftsländern Fluchtursachen bekämpfen und wenn wir Fehlanreize in Deutschland beseitigen, dann werden wir unsere Kommunen dauerhaft und nachhaltig entlasten.   \n",
       "7                                                                                                                                                                                                                                                                                                                              Denn wie wollen Sie bitte schön erklären, dass man Syrer nicht nach Ungarn, Italien oder Bulgarien abschieben darf, eritreische oder irakische Flüchtlinge aber schon?   \n",
       "9                                                                                                                                                                                                                                                                                                                                                                                                                                   Einwanderung ist essenziell erforderlich für unsere Gesellschaft.   \n",
       "10  Aber wenn wir das ernst meinen – wir meinen es alle ernst –, dass die Fluchtursachen langfristig nur in den Krisenregionen bekämpft werden können, dann müssen wir uns auch dazu bekennen, dass alle Etats in unserem Haushalt, die sich um die internationale Verantwortung kümmern – humanitäre Hilfe, Polizeiausbildung, wirtschaftliche Zusammenarbeit, aber auch der Etat für Verteidigung –, in den nächsten Jahren deutlicher anwachsen müssen, um dieser Verantwortung gerecht zu werden.   \n",
       "11                                                                                                                                                                                                                                                                                                                                                                                         Damit können und sollen die Fluchtursachen in den wichtigsten Herkunftsländern zusätzlich bekämpft werden.   \n",
       "22                                                                                                                                                                                                                                 Erst die wirtschaftliche Leistungskraft unseres Landes,  gepaart mit soliden Finanzen, erspart uns jetzt schwere Entscheidungen und Konflikte darüber, wie wir die Aufnahme und die Integration so vieler Menschen in Deutschland schaffen und finanzieren wollen.   \n",
       "25                                                                                                                                                                                                                                                                                                                                                                                         Über das novellierte Asylbewerberleistungsgesetz übernimmt der Bund jährlich Kosten von 43 Millionen Euro.   \n",
       "29                                                                                                                                                                                                                                                                                                                                                                Ich bin überzeugt, dass wir beides brauchen: legale Möglichkeiten der Einwanderung und die Verfolgung von gewissenlosen Schleppern.   \n",
       "31                                                                                                                                                                                                                                                                                                               Stichworte hierfür sind die menschenwürdige Aufnahme, die schnelle Integration – Frau Jelpke, Sie haben das eben noch einmal ausführlich erwähnt – und die Hilfen beim Spracherwerb.   \n",
       "32                                                                                                                                                                                                                                                                                                                                                             Neben der europäischen Solidarität müssen wir auf ein gemeinsames Asylsystem drängen, immer wieder Wert darauf legen und dafür werben.   \n",
       "35                                                                                                                                                                                                                                                                                                                                                   Die Resolution war die Reaktion auf den wachsenden internationalen Terrorismus insbesondere durch den Islamischen Staat, IS, im Irak und Syrien.   \n",
       "36                                                                                                                                                                                                                                                                                                                                                                                     Sie haben erstens gesagt, dass jede Form von Rettung auch eine Erleichterung des Geschäftes für Schlepper ist.   \n",
       "37                                                                                                                                                                                                                                                                                                                                                                                                         Wenn wir über Flüchtlinge reden, dann müssen wir vor allem auch über Fluchtursachen reden.   \n",
       "38                                                                                                                                                                                                                                                                                                                                        Ein guter Schritt wäre zum Beispiel die Abschaffung des Asylbewerberleistungsgesetzes und die Integration von Flüchtlingen in das soziale Sicherungssystem.   \n",
       "41                                                                                                                                                                                                                                                                                                                                                                                    Die Verleihung der Staatsbürgerschaft sollte vielmehr das vorläufige Ende des Integrationsprozesses darstellen.   \n",
       "42                                                                                                                                                                                                                                                                                                                                                                    Die Frage beim Jemen war, ob man das vollständige Abgleiten dieses Landes in den islamistischen Terrorismus zulässt oder nicht.   \n",
       "44                                                                                                                                                                                                                                                                                                                                                                                                  Die Asylbewerber, die erkennbar ohne Schutzgrund sind, müssen sofort wieder zurückgeführt werden.   \n",
       "45                                                                                                                                                                                                     Auch das halte ich für ein Missmanagement bei der Sicherheitsaufgabe und der Problematik, die wir alle gerade mit Betroffenheit zu gewärtigen habe, dass es nämlich Übergriffe gibt auf Asylbewerber und auf diejenigen, die sich für diese engagieren, auch für deren richtige Unterbringung.   \n",
       "47                                                                                                                                                                                                                                                                                                                                                                                   Das würde unser Asylsystem und vor allem auch die Willkommenskultur in Deutschland und in ganz Europa gefährden.   \n",
       "48                                                                                                                                                                                                                                                                                                                             Ich habe manchmal, wenn ich mir Reden von Mitgliedern Ihrer Fraktion anhöre, das Gefühl, dass Sie die Schlepper mittlerweile als eine humanitäre Organisation ansehen.   \n",
       "52                                                                                                                                                                                                                                                                                                            Dass das kein akutes Problem ist, liegt an der Einwanderung von Menschen aus den südeuropäischen Ländern infolge der Euro-Krise und an den Flüchtlingen, die wir gegenwärtig aufnehmen.   \n",
       "54                                                                                                                                                                                                                                                                                                                                                                                                          Wir dürfen Flüchtlinge und Asylsuchende nicht nur unter Kostengesichtspunkten betrachten.   \n",
       "56                                                                                                                                                                                                                                                                                                                           Ein großer Teil von ihnen wird vor dem Hintergrund dieses neuen Asylbewerberleistungsgesetzes schon bald vor unseren Jobcentern und der Bundesagentur für Arbeit stehen.   \n",
       "57                                                                                                                                                                                                                                                                                                                      Selbst der Bundesinnenminister fordert inzwischen, noch nicht anerkannte Flüchtlinge zu Integrationskursen zuzulassen – allerdings nur, wenn sie gute Chancen auf Asyl haben.   \n",
       "60                                                                                                                                                                                                                                                                             Der Schalterbeamte bei der Post, der neue Vermieter, der Bankangestellte und wo man sich sonst noch ausweisen muss, alle erfahren, dass der Inhaber des Ausweises vom Staat als mutmaßlicher Djihadist angesehen wird.   \n",
       "61                                                                                                                                                                                                                                                                                                                                                                                             Es ist durch Studien erwiesen, dass  Zuwanderung eben nicht Zuwanderung in unsere Sozialsysteme heißt.   \n",
       "64                                                                                                                                                                                                                                                                                                                                                                                                            Der langfristige Schlüssel zum Erfolg liegt aber in der Beseitigung der Fluchtursachen.   \n",
       "68                                                                                                                                                                                                                                                                                              Es ist beispielsweise überliefert, dass ein für die Kriegführung in Griechenland benötigtes deutsches Schiff stattdessen für die Deportation von 200 Jüdinnen und Juden nach Auschwitz genutzt wurde.   \n",
       "76                                                                                                                                                                                                                                                                                                                                                                                                           Wer in Zukunft Fachkräfte braucht, der muss sich jetzt um Integrationsprogramme kümmern.   \n",
       "81                                                                                                                                                                                                                                                                                                                                                                                                                 Ein weiterer Schwerpunkt liegt bei der Bekämpfung der kriminellen Schlepperbanden.   \n",
       "83                                                                                                                                                                                                                                                                                                                                              Das ist zwar ein richtiger Schritt in die richtige Richtung, doch nach unserer Auffassung sollten alle Asylsuchenden Zugang zu Sprachkursen erhalten.   \n",
       "87                                                                                                                                                                                                                                                                                   In dem Paket stehen verfassungswidriger Bargeldentzug, Asylrechtseinschränkung durch Festlegung sogenannter sicherer Drittstaaten, Verschärfungen für Geduldete, Zwangsaufenthalte in Erstaufnahmeeinrichtungen.   \n",
       "93                                                                                                                                                                                                                                                                                                                                                                                        Als deutsche Einwanderungsgesellschaft wollen wir eine lebendige und verantwortungsvolle Erinnerungskultur.   \n",
       "97                                                                                                                                                                                                                                                           In der ersten Phase geht es erst einmal darum, sich überhaupt ein Lagebild zu machen und sich Klarheit darüber zu verschaffen, ob die zweite und die dritte Phase notwendig sind, um die Schlepperbanden wirklich effektiv zu bekämpfen.   \n",
       "99                                                                                                                                                                                                                            Das macht keinen Sinn,  (Beifall beim BÜNDNIS 90/DIE GRÜNEN und bei der LINKEN)  zumal es um die Abschiebung in ein Land geht, das Flüchtlinge interniert, kriminalisiert und demnächst mit Notstandsgesetzen und drakonischen Strafen bei illegaler Einreise reagiert.   \n",
       "\n",
       "    Predicted label  Gold label  \n",
       "0               0.0         1.0  \n",
       "3               0.0         1.0  \n",
       "4               0.0         1.0  \n",
       "7               0.0         1.0  \n",
       "9               0.0         1.0  \n",
       "10              1.0         0.0  \n",
       "11              0.0         1.0  \n",
       "22              1.0         0.0  \n",
       "25              0.0         1.0  \n",
       "29              0.0         1.0  \n",
       "31              0.0         1.0  \n",
       "32              0.0         1.0  \n",
       "35              0.0         1.0  \n",
       "36              0.0         1.0  \n",
       "37              0.0         1.0  \n",
       "38              0.0         1.0  \n",
       "41              0.0         1.0  \n",
       "42              0.0         1.0  \n",
       "44              0.0         1.0  \n",
       "45              0.0         1.0  \n",
       "47              0.0         1.0  \n",
       "48              0.0         1.0  \n",
       "52              0.0         1.0  \n",
       "54              0.0         1.0  \n",
       "56              0.0         1.0  \n",
       "57              0.0         1.0  \n",
       "60              0.0         1.0  \n",
       "61              0.0         1.0  \n",
       "64              0.0         1.0  \n",
       "68              0.0         1.0  \n",
       "76              0.0         1.0  \n",
       "81              0.0         1.0  \n",
       "83              0.0         1.0  \n",
       "87              0.0         1.0  \n",
       "93              0.0         1.0  \n",
       "97              1.0         0.0  \n",
       "99              0.0         1.0  "
      ]
     },
     "execution_count": 201,
     "metadata": {},
     "output_type": "execute_result"
    }
   ],
   "source": [
    "# Wrong predictions\n",
    "get_wrong(predictions)"
   ]
  },
  {
   "cell_type": "markdown",
   "id": "502cea34",
   "metadata": {},
   "source": [
    "## Majority Baseline"
   ]
  },
  {
   "cell_type": "code",
   "execution_count": 219,
   "id": "3619bd1d",
   "metadata": {},
   "outputs": [
    {
     "data": {
      "text/plain": [
       "0.604"
      ]
     },
     "execution_count": 219,
     "metadata": {},
     "output_type": "execute_result"
    }
   ],
   "source": [
    "# Train baseline\n",
    "dummy_clf = DummyClassifier(strategy=\"most_frequent\")\n",
    "dummy_clf.fit(sents, y)\n",
    "dummy_clf.score(sents,y)"
   ]
  },
  {
   "cell_type": "markdown",
   "id": "415528e9",
   "metadata": {},
   "source": [
    "### Interpretation:\n",
    "..."
   ]
  },
  {
   "cell_type": "markdown",
   "id": "5c94f191",
   "metadata": {},
   "source": [
    "## Assoziation zwischen Ngrammen und Labels\n",
    "Sanchez et al. argumentieren, dass Stereotype nicht nur in Form von Zuschreibungen negativer Attribute einer Personengruppe auftreten, sondern oft deutlich subtiler sind. Vielmehr zeichnen sich Stereotype durch das Framing, also durch das Narrativ und den Kontext, in welches die jeweilige Personengruppe platziert wird, aus. Indem das Framing von Migration/Migrant\\*innen annotiert wird, sollen auch diejenigen Aussagen über Migrant\\*innen, welche nicht auf den ersten Blick als stereotypisch erkennbar sind, identifiziert werden. \n",
    "\n",
    "Die Autor\\*innen des Papers kommen auf einen interessanten Ansatz, in dem die Bereicherung der Sozialwissenschaften durch komputationelle Verfahren sichtbar wird. Sie berechnen für alle Ngramme (Bi- und Trigramme) den **PMI (Pointwise Mutual Information)** zu den jeweiligen Labels (also \"Stereotype vs. Nonstereotype\" bzw. \"Victims vs. Threats\"). PMI ist ein statistisches Maß, welches die Assoziation zwischen Ereignissen misst. Mit anderen Worten:  Zum einen untersuchen die Autor\\*innen, welche Ngramme  am stärksten mit stereotypischen bzw. nicht-stereotypischen Aussagen assoziert sind. Zum anderen untersuchen sie welche Ngramme am stärksten mit pro-migrantischen Aussagen, welche Migrant\\*innen als Opfer framen, assoziiert sind und welche Ngramme am stärksten mit anti-migrantischen Aussagen, in denen Migrant\\*innen als Bedrohung dargestellt werden, assoziiert sind.\n",
    "Ziel dabei ist, subtilere, nicht-triviale linguistische Muster automatisch zu ermitteln, welche zwar stark mit Stereotypen bzw. einer bestimmten Ausprägung von Stereotypen verbunden (also oft gleichzeitig mit ihnen auftreten), jedoch nicht für uns als solche ersichtlich sind.\n",
    "\n",
    "Das wollen wir ebenfalls nachbilden."
   ]
  },
  {
   "cell_type": "markdown",
   "id": "8f3aa7f3",
   "metadata": {},
   "source": [
    "**Wahrscheinlichkeit von Ngrammen berechnen:**"
   ]
  },
  {
   "cell_type": "code",
   "execution_count": 202,
   "id": "655a37b2",
   "metadata": {},
   "outputs": [],
   "source": [
    "# Counts of total occurrences of ngrams\n",
    "def count_ngrams(ngrams, ngram_count_matrx):\n",
    "    ngram_counts = dict()\n",
    "    for i, ngram in enumerate(ngrams):\n",
    "        ngram_counts[ngram] = np.sum(ngram_count_matrx, axis=0)[i]\n",
    "    return ngram_counts\n",
    "\n",
    "# Get total number of ngrams\n",
    "def get_total_count(ngram_counts):\n",
    "    return sum(ngram_counts.values())"
   ]
  },
  {
   "cell_type": "code",
   "execution_count": 203,
   "id": "e7a8c208",
   "metadata": {},
   "outputs": [],
   "source": [
    "unigram_counts = count_ngrams(unigrams, unigram_count_matrx)\n",
    "bigram_counts = count_ngrams(bigrams, bigram_count_matrx)\n",
    "trigram_counts = count_ngrams(trigrams, trigram_count_matrx)\n",
    "\n",
    "N_unigrams = get_total_count(unigram_counts)\n",
    "N_bigrams = get_total_count(bigram_counts)\n",
    "N_trigrams = get_total_count(trigram_counts)"
   ]
  },
  {
   "cell_type": "code",
   "execution_count": 204,
   "id": "c26f36ce",
   "metadata": {},
   "outputs": [],
   "source": [
    "# Compute ngram probability\n",
    "def get_prob(ngram, ngram_counts, N_ngrams):\n",
    "    return ngram_counts.get(ngram) / N_ngrams"
   ]
  },
  {
   "cell_type": "markdown",
   "id": "dfb93996",
   "metadata": {},
   "source": [
    "**Beispiel:** Wahrscheinlichkeit von \"terrorismus\""
   ]
  },
  {
   "cell_type": "code",
   "execution_count": 205,
   "id": "a055d510",
   "metadata": {},
   "outputs": [
    {
     "name": "stdout",
     "output_type": "stream",
     "text": [
      "Probability of 'terrorismus':\n"
     ]
    },
    {
     "data": {
      "text/plain": [
       "0.005653021442495127"
      ]
     },
     "execution_count": 205,
     "metadata": {},
     "output_type": "execute_result"
    }
   ],
   "source": [
    "# Probability of occurrence of \"terrorismus\"\n",
    "print(\"Probability of 'terrorismus':\")\n",
    "get_prob(\"terrorismus\", unigram_counts, N_unigrams)"
   ]
  },
  {
   "cell_type": "markdown",
   "id": "ae2f3c66",
   "metadata": {},
   "source": [
    "**Wahrscheinlichkeit der Kookkurrenz von Ngrammen und Labels berechnen:**"
   ]
  },
  {
   "cell_type": "code",
   "execution_count": 206,
   "id": "0044a275",
   "metadata": {},
   "outputs": [],
   "source": [
    "# Counts of cooccurrence of ngrams and labels\n",
    "def count_ngram_label_cooccurrence(ngrams, ngram_count_matrx):\n",
    "    ngram_label_cooccurrence = dict()\n",
    "    for i in range(sents.size):\n",
    "        for j in range(ngrams.size):\n",
    "            tpl = (ngrams[j], y[i])\n",
    "            if tpl in ngram_label_cooccurrence.keys():\n",
    "                ngram_label_cooccurrence[tpl] += ngram_count_matrx[i, j]\n",
    "            else:    \n",
    "                ngram_label_cooccurrence[tpl] = ngram_count_matrx[i, j]\n",
    "    return ngram_label_cooccurrence"
   ]
  },
  {
   "cell_type": "code",
   "execution_count": 207,
   "id": "279d4fa0",
   "metadata": {},
   "outputs": [],
   "source": [
    "unigram_label_coocc = count_ngram_label_cooccurrence(unigrams, unigram_count_matrx)\n",
    "bigram_label_coocc = count_ngram_label_cooccurrence(bigrams, bigram_count_matrx)\n",
    "trigram_label_coocc = count_ngram_label_cooccurrence(trigrams, trigram_count_matrx)"
   ]
  },
  {
   "cell_type": "code",
   "execution_count": 208,
   "id": "eb0dbb38",
   "metadata": {},
   "outputs": [],
   "source": [
    "# Compute probability of cooccurrence of ngram and label\n",
    "def get_coocc_prob(ngram, label, ngram_label_coocc, ngram_counts):\n",
    "    return ngram_label_coocc.get((ngram, label)) / ngram_counts.get(ngram)"
   ]
  },
  {
   "cell_type": "markdown",
   "id": "31911b4e",
   "metadata": {},
   "source": [
    "**Beispiel:** Wahrscheinlichkeit, dass \"terrorismus\" mit Label \"0\" bzw. Label \"1\" auftritt"
   ]
  },
  {
   "cell_type": "code",
   "execution_count": 209,
   "id": "5f737aed",
   "metadata": {},
   "outputs": [
    {
     "name": "stdout",
     "output_type": "stream",
     "text": [
      "Probability of 'terrorismus' occurring in sentence with label 0:\n"
     ]
    },
    {
     "data": {
      "text/plain": [
       "0.5862068965517241"
      ]
     },
     "execution_count": 209,
     "metadata": {},
     "output_type": "execute_result"
    }
   ],
   "source": [
    "# Probability of cooccurrence of \"terrorismus\" and label 0 (Contains no stereotypes)\n",
    "print(\"Probability of 'terrorismus' occurring in sentence with label 0:\")\n",
    "get_coocc_prob(\"terrorismus\", 0, unigram_label_coocc, unigram_counts)"
   ]
  },
  {
   "cell_type": "code",
   "execution_count": 210,
   "id": "d800b89c",
   "metadata": {},
   "outputs": [
    {
     "name": "stdout",
     "output_type": "stream",
     "text": [
      "Probability of 'terrorismus' occurring in sentence with label 1:\n"
     ]
    },
    {
     "data": {
      "text/plain": [
       "0.41379310344827586"
      ]
     },
     "execution_count": 210,
     "metadata": {},
     "output_type": "execute_result"
    }
   ],
   "source": [
    "# Example: Probability of cooccurrence of \"terrorismus\" and label 1 (Contains stereotypes)\n",
    "print(\"Probability of 'terrorismus' occurring in sentence with label 1:\")\n",
    "get_coocc_prob(\"terrorismus\", 1, unigram_label_coocc, unigram_counts)"
   ]
  },
  {
   "cell_type": "markdown",
   "id": "d07f83a6",
   "metadata": {},
   "source": [
    "**Berechnung der Pointwise Mutual Information (PMI):**"
   ]
  },
  {
   "cell_type": "code",
   "execution_count": 211,
   "id": "515e7119",
   "metadata": {},
   "outputs": [],
   "source": [
    "# Compute pmi (pointwise mutual information) of ngrams to each label\n",
    "def get_ngram_label_pmi(ngram_label_coocc, ngram_counts, ngrams_total):\n",
    "    \"\"\"Computes the pmi for an ngram and labels 0 and 1 according to following formula:\n",
    "    pmi(a, b) = log[P(a,b) / (P(a)*P(b))]\n",
    "    \"\"\"\n",
    "    pmi_0, pmi_1 = dict(), dict()\n",
    "    # Note: We're assuming that the probability of the labels are both 0.5 (like Sanchez et.al)\n",
    "    # (like Sanchez et.al)\n",
    "    p_label = 0.5\n",
    "    for ngram, label in ngram_label_coocc.keys():\n",
    "        p_ngram_label_coocc = get_coocc_prob(ngram, label, ngram_label_coocc, ngram_counts)\n",
    "        p_ngram = get_prob(ngram, ngram_counts, ngrams_total)\n",
    "        quot = p_ngram_label_coocc / (p_ngram * p_label)\n",
    "        pmi = 0 if quot == 0 else log(quot)\n",
    "        if label == 0:\n",
    "            pmi_0[ngram] = pmi\n",
    "        else:\n",
    "            pmi_1[ngram] = pmi\n",
    "            \n",
    "    # Sort ngrams according to pmi\n",
    "    sorted_pmi_0 = sorted(pmi_0.items(), key=lambda x: x[1], reverse=True)\n",
    "    sorted_pmi_1 = sorted(pmi_1.items(), key=lambda x: x[1], reverse=True)\n",
    "    \n",
    "    return sorted_pmi_0, sorted_pmi_1"
   ]
  },
  {
   "cell_type": "code",
   "execution_count": 212,
   "id": "23f4f421",
   "metadata": {},
   "outputs": [],
   "source": [
    "unigrams_0_pmi, unigrams_1_pmi = get_ngram_label_pmi(unigram_label_coocc, unigram_counts, N_unigrams)\n",
    "bigrams_0_pmi, bigrams_1_pmi = get_ngram_label_pmi(bigram_label_coocc, bigram_counts, N_bigrams)\n",
    "trigrams_0_pmi, trigrams_1_pmi = get_ngram_label_pmi(trigram_label_coocc, trigram_counts, N_trigrams)"
   ]
  },
  {
   "cell_type": "markdown",
   "id": "c35f4aa4",
   "metadata": {},
   "source": [
    "### Ergebnisse"
   ]
  },
  {
   "cell_type": "markdown",
   "id": "078bfd70",
   "metadata": {},
   "source": [
    "**Unigramme, die am stärksten mit unstereotypischen Sätzen assoziiert sind:**"
   ]
  },
  {
   "cell_type": "code",
   "execution_count": 213,
   "id": "41eb4c18",
   "metadata": {},
   "outputs": [
    {
     "name": "stdout",
     "output_type": "stream",
     "text": [
      "Unigrams most associated with label 0:\n"
     ]
    },
    {
     "data": {
      "text/plain": [
       "[('abgegeben', 9.23600811872476),\n",
       " ('abgegrenzt', 9.23600811872476),\n",
       " ('abgelehnt', 9.23600811872476),\n",
       " ('abgelehnte', 9.23600811872476),\n",
       " ('abgeschlossen', 9.23600811872476),\n",
       " ('abgeschlossenen', 9.23600811872476),\n",
       " ('abgesetzt', 9.23600811872476),\n",
       " ('abgesprochen', 9.23600811872476),\n",
       " ('abriegeln', 9.23600811872476),\n",
       " ('absatz', 9.23600811872476)]"
      ]
     },
     "execution_count": 213,
     "metadata": {},
     "output_type": "execute_result"
    }
   ],
   "source": [
    "print(\"Unigrams most associated with label 0:\")\n",
    "unigrams_0_pmi[:10]"
   ]
  },
  {
   "cell_type": "markdown",
   "id": "646fe991",
   "metadata": {},
   "source": [
    "**Unigramme, die am stärksten mit stereotypischen Sätzen assoziiert sind:**"
   ]
  },
  {
   "cell_type": "code",
   "execution_count": 214,
   "id": "e7316add",
   "metadata": {},
   "outputs": [
    {
     "name": "stdout",
     "output_type": "stream",
     "text": [
      "Unigrams most associated with label 1:\n"
     ]
    },
    {
     "data": {
      "text/plain": [
       "[('abgeordneten', 9.23600811872476),\n",
       " ('abgestattet', 9.23600811872476),\n",
       " ('abgleiten', 9.23600811872476),\n",
       " ('abgrenzung', 9.23600811872476),\n",
       " ('ablehnen', 9.23600811872476),\n",
       " ('abrede', 9.23600811872476),\n",
       " ('absage', 9.23600811872476),\n",
       " ('abschaffung', 9.23600811872476),\n",
       " ('abschlüssen', 9.23600811872476),\n",
       " ('absprechen', 9.23600811872476)]"
      ]
     },
     "execution_count": 214,
     "metadata": {},
     "output_type": "execute_result"
    }
   ],
   "source": [
    "print(\"Unigrams most associated with label 1:\")\n",
    "unigrams_1_pmi[:10]"
   ]
  },
  {
   "cell_type": "markdown",
   "id": "3df585e0",
   "metadata": {},
   "source": [
    "## 2. Aufgabe: Opfer vs. Bedrohung"
   ]
  },
  {
   "cell_type": "code",
   "execution_count": 273,
   "id": "51fb7a66",
   "metadata": {},
   "outputs": [],
   "source": [
    "stereotypes_df = raw_df.loc[raw_df[\"Frame\"] != \"x\"].copy()\n",
    "stereotypes_df.loc[stereotypes_df[\"Frame\"] < 3, \"Victim\"] = 1\n",
    "stereotypes_df.loc[stereotypes_df[\"Frame\"] > 3, \"Victim\"] = 0"
   ]
  },
  {
   "cell_type": "code",
   "execution_count": 278,
   "id": "90a3876a",
   "metadata": {},
   "outputs": [
    {
     "data": {
      "text/plain": [
       "(198, 5)"
      ]
     },
     "execution_count": 278,
     "metadata": {},
     "output_type": "execute_result"
    }
   ],
   "source": [
    "stereotypes_df.shape"
   ]
  },
  {
   "cell_type": "code",
   "execution_count": 307,
   "id": "24bf8c67",
   "metadata": {},
   "outputs": [
    {
     "data": {
      "text/plain": [
       "54"
      ]
     },
     "execution_count": 307,
     "metadata": {},
     "output_type": "execute_result"
    }
   ],
   "source": [
    "# Number of sentences where immigrants are framed as threats\n",
    "sum(stereotypes_df[\"Victim\"] == 0)"
   ]
  },
  {
   "cell_type": "code",
   "execution_count": 277,
   "id": "500e623e",
   "metadata": {},
   "outputs": [
    {
     "data": {
      "text/plain": [
       "16"
      ]
     },
     "execution_count": 277,
     "metadata": {},
     "output_type": "execute_result"
    }
   ],
   "source": [
    "# Number of sentences in category 3 (\"economic resource\")\n",
    "stereotypes_df[\"Victim\"].isnull().sum()"
   ]
  },
  {
   "cell_type": "code",
   "execution_count": 287,
   "id": "708294b5",
   "metadata": {
    "scrolled": true
   },
   "outputs": [
    {
     "data": {
      "text/html": [
       "<div>\n",
       "<style scoped>\n",
       "    .dataframe tbody tr th:only-of-type {\n",
       "        vertical-align: middle;\n",
       "    }\n",
       "\n",
       "    .dataframe tbody tr th {\n",
       "        vertical-align: top;\n",
       "    }\n",
       "\n",
       "    .dataframe thead th {\n",
       "        text-align: right;\n",
       "    }\n",
       "</style>\n",
       "<table border=\"1\" class=\"dataframe\">\n",
       "  <thead>\n",
       "    <tr style=\"text-align: right;\">\n",
       "      <th></th>\n",
       "      <th>Term_NDoc_Date</th>\n",
       "      <th>Sentence</th>\n",
       "      <th>Frame</th>\n",
       "      <th>Contains stereotypes</th>\n",
       "      <th>Victim</th>\n",
       "    </tr>\n",
       "  </thead>\n",
       "  <tbody>\n",
       "    <tr>\n",
       "      <th>2</th>\n",
       "      <td>18_100_2015-04-23</td>\n",
       "      <td>Berlin, Donnerstag, den 23. April 2015 9485  Dr. Dietmar Bartsch  (A) (C)  (D)(B) bereitstellen – auch in Kenntnis der Tatsache, dass die Übergriffe auf Ausländer, auf Unterkünfte der Asylbewerber zugenommen haben und dass Menschen, die im Ehrenamt diese Willkommenskultur, von der wir alle sprechen, leben, eben nicht wenige Probleme haben.</td>\n",
       "      <td>2.1</td>\n",
       "      <td>1.0</td>\n",
       "      <td>1.0</td>\n",
       "    </tr>\n",
       "    <tr>\n",
       "      <th>3</th>\n",
       "      <td>18_100_2015-04-23</td>\n",
       "      <td>Es ist überhaupt nicht hinnehmbar, wenn der Generalsekretär einer immerhin regierungstragenden Partei, der CSU, sagt, das Asylrecht sei nicht für Sozialtouristen gemacht, die einen Freifahrtschein ins „All-inclusive-Sozialparadies“ buchen wollen.</td>\n",
       "      <td>4.4</td>\n",
       "      <td>1.0</td>\n",
       "      <td>0.0</td>\n",
       "    </tr>\n",
       "    <tr>\n",
       "      <th>4</th>\n",
       "      <td>18_100_2015-04-23</td>\n",
       "      <td>Denn auch unter dem Gesichtspunkt – Kollege Bartsch hat auf die Flüchtlingsströme hingewiesen –, dass wir in den nächsten Jahren große Anstrengungen unternehmen müssen, um Flüchtlinge aufzunehmen und zu integrieren – Integration ist fast genauso wichtig –, muss die Leistungsbereitschaft der Kommunen gewährleistet sein.</td>\n",
       "      <td>4.1</td>\n",
       "      <td>1.0</td>\n",
       "      <td>0.0</td>\n",
       "    </tr>\n",
       "    <tr>\n",
       "      <th>11</th>\n",
       "      <td>18_100_2015-04-23</td>\n",
       "      <td>Die Mehrheit der deutschen Bevölkerung steht beispielhaft zu unserer Willkommenskultur, indem sie vor Ort auf vielfältige Weise die Ankunft und das Leben der Flüchtlinge begleitet und erleichtert.</td>\n",
       "      <td>1.5</td>\n",
       "      <td>1.0</td>\n",
       "      <td>1.0</td>\n",
       "    </tr>\n",
       "    <tr>\n",
       "      <th>12</th>\n",
       "      <td>18_100_2015-04-23</td>\n",
       "      <td>Kolleginnen und Kollegen, das Recht auf Asyl ist und bleibt unantastbar.</td>\n",
       "      <td>1.1</td>\n",
       "      <td>1.0</td>\n",
       "      <td>1.0</td>\n",
       "    </tr>\n",
       "  </tbody>\n",
       "</table>\n",
       "</div>"
      ],
      "text/plain": [
       "       Term_NDoc_Date  \\\n",
       "2   18_100_2015-04-23   \n",
       "3   18_100_2015-04-23   \n",
       "4   18_100_2015-04-23   \n",
       "11  18_100_2015-04-23   \n",
       "12  18_100_2015-04-23   \n",
       "\n",
       "                                                                                                                                                                                                                                                                                                                                                 Sentence  \\\n",
       "2   Berlin, Donnerstag, den 23. April 2015 9485  Dr. Dietmar Bartsch  (A) (C)  (D)(B) bereitstellen – auch in Kenntnis der Tatsache, dass die Übergriffe auf Ausländer, auf Unterkünfte der Asylbewerber zugenommen haben und dass Menschen, die im Ehrenamt diese Willkommenskultur, von der wir alle sprechen, leben, eben nicht wenige Probleme haben.   \n",
       "3                                                                                                  Es ist überhaupt nicht hinnehmbar, wenn der Generalsekretär einer immerhin regierungstragenden Partei, der CSU, sagt, das Asylrecht sei nicht für Sozialtouristen gemacht, die einen Freifahrtschein ins „All-inclusive-Sozialparadies“ buchen wollen.   \n",
       "4                        Denn auch unter dem Gesichtspunkt – Kollege Bartsch hat auf die Flüchtlingsströme hingewiesen –, dass wir in den nächsten Jahren große Anstrengungen unternehmen müssen, um Flüchtlinge aufzunehmen und zu integrieren – Integration ist fast genauso wichtig –, muss die Leistungsbereitschaft der Kommunen gewährleistet sein.   \n",
       "11                                                                                                                                                   Die Mehrheit der deutschen Bevölkerung steht beispielhaft zu unserer Willkommenskultur, indem sie vor Ort auf vielfältige Weise die Ankunft und das Leben der Flüchtlinge begleitet und erleichtert.   \n",
       "12                                                                                                                                                                                                                                                                               Kolleginnen und Kollegen, das Recht auf Asyl ist und bleibt unantastbar.   \n",
       "\n",
       "   Frame  Contains stereotypes  Victim  \n",
       "2    2.1                   1.0     1.0  \n",
       "3    4.4                   1.0     0.0  \n",
       "4    4.1                   1.0     0.0  \n",
       "11   1.5                   1.0     1.0  \n",
       "12   1.1                   1.0     1.0  "
      ]
     },
     "execution_count": 287,
     "metadata": {},
     "output_type": "execute_result"
    }
   ],
   "source": [
    "# Remove category 3\n",
    "stereotypes_df.dropna(axis=0, inplace=True)\n",
    "stereotypes_df.head()"
   ]
  },
  {
   "cell_type": "code",
   "execution_count": 284,
   "id": "dd9fff58",
   "metadata": {},
   "outputs": [
    {
     "data": {
      "text/plain": [
       "182"
      ]
     },
     "execution_count": 284,
     "metadata": {},
     "output_type": "execute_result"
    }
   ],
   "source": [
    "raw_sents = stereotypes_df[\"Sentence\"].to_numpy()\n",
    "sents = apply_preprocessing(raw_sents)\n",
    "sents.size"
   ]
  },
  {
   "cell_type": "code",
   "execution_count": 295,
   "id": "cb3aa97e",
   "metadata": {},
   "outputs": [
    {
     "data": {
      "text/plain": [
       "182"
      ]
     },
     "execution_count": 295,
     "metadata": {},
     "output_type": "execute_result"
    }
   ],
   "source": [
    "# Array with original indexes so we can retrieve raw sentences later\n",
    "orig_indexes = np.arange(raw_sents.size)\n",
    "orig_indexes.size"
   ]
  },
  {
   "cell_type": "code",
   "execution_count": 286,
   "id": "0787daa2",
   "metadata": {},
   "outputs": [
    {
     "data": {
      "text/plain": [
       "182"
      ]
     },
     "execution_count": 286,
     "metadata": {},
     "output_type": "execute_result"
    }
   ],
   "source": [
    "y = stereotypes_df[\"Victim\"].to_numpy()\n",
    "y.size"
   ]
  },
  {
   "cell_type": "code",
   "execution_count": 290,
   "id": "3c55ab2f",
   "metadata": {},
   "outputs": [
    {
     "data": {
      "text/plain": [
       "(1278, 1844, 1719)"
      ]
     },
     "execution_count": 290,
     "metadata": {},
     "output_type": "execute_result"
    }
   ],
   "source": [
    "# Get ngram counts\n",
    "unigrams, unigram_count_matrx = get_ngram_count_matrx(sents, 1)\n",
    "bigrams, bigram_count_matrx = get_ngram_count_matrx(sents, 2)\n",
    "trigrams, trigram_count_matrx = get_ngram_count_matrx(sents, 3)\n",
    "\n",
    "unigrams.size, bigrams.size, trigrams.size"
   ]
  },
  {
   "cell_type": "code",
   "execution_count": 292,
   "id": "583b3a8c",
   "metadata": {},
   "outputs": [
    {
     "data": {
      "text/plain": [
       "((182, 1278), (182, 1844), (182, 1719))"
      ]
     },
     "execution_count": 292,
     "metadata": {},
     "output_type": "execute_result"
    }
   ],
   "source": [
    "# Get ngram counts with tfidf weights\n",
    "unigram_tfidf_matrx = transform_to_tfidf(unigram_count_matrx)\n",
    "bigram_tfidf_matrx = transform_to_tfidf(bigram_count_matrx)\n",
    "trigram_tfidf_matrx = transform_to_tfidf(trigram_count_matrx)\n",
    "\n",
    "unigram_tfidf_matrx.shape, bigram_tfidf_matrx.shape, trigram_tfidf_matrx.shape"
   ]
  },
  {
   "cell_type": "code",
   "execution_count": 293,
   "id": "969469d8",
   "metadata": {},
   "outputs": [
    {
     "data": {
      "text/plain": [
       "(182, 1)"
      ]
     },
     "execution_count": 293,
     "metadata": {},
     "output_type": "execute_result"
    }
   ],
   "source": [
    "# Get sentiment scores\n",
    "sentiment_scores = get_sentiment(sents).reshape(-1, 1)\n",
    "sentiment_scores.shape"
   ]
  },
  {
   "cell_type": "markdown",
   "id": "ff131ce7",
   "metadata": {},
   "source": [
    "#### 1.1. Unigramm-Counts"
   ]
  },
  {
   "cell_type": "code",
   "execution_count": 296,
   "id": "492d155c",
   "metadata": {},
   "outputs": [
    {
     "name": "stdout",
     "output_type": "stream",
     "text": [
      "              precision    recall  f1-score   support\n",
      "\n",
      "         0.0       0.00      0.00      0.00        11\n",
      "         1.0       0.70      1.00      0.83        26\n",
      "\n",
      "    accuracy                           0.70        37\n",
      "   macro avg       0.35      0.50      0.41        37\n",
      "weighted avg       0.49      0.70      0.58        37\n",
      "\n"
     ]
    },
    {
     "name": "stderr",
     "output_type": "stream",
     "text": [
      "/Users/liane/anaconda3/envs/clt22/lib/python3.9/site-packages/sklearn/metrics/_classification.py:1344: UndefinedMetricWarning: Precision and F-score are ill-defined and being set to 0.0 in labels with no predicted samples. Use `zero_division` parameter to control this behavior.\n",
      "  _warn_prf(average, modifier, msg_start, len(result))\n",
      "/Users/liane/anaconda3/envs/clt22/lib/python3.9/site-packages/sklearn/metrics/_classification.py:1344: UndefinedMetricWarning: Precision and F-score are ill-defined and being set to 0.0 in labels with no predicted samples. Use `zero_division` parameter to control this behavior.\n",
      "  _warn_prf(average, modifier, msg_start, len(result))\n",
      "/Users/liane/anaconda3/envs/clt22/lib/python3.9/site-packages/sklearn/metrics/_classification.py:1344: UndefinedMetricWarning: Precision and F-score are ill-defined and being set to 0.0 in labels with no predicted samples. Use `zero_division` parameter to control this behavior.\n",
      "  _warn_prf(average, modifier, msg_start, len(result))\n"
     ]
    }
   ],
   "source": [
    "# Train Support Vector Machine with unigram counts\n",
    "predictions, results = train_and_evaluate_model(unigram_count_matrx, y, orig_indexes, SVC())\n",
    "print(results)"
   ]
  },
  {
   "cell_type": "markdown",
   "id": "dcea1b40",
   "metadata": {},
   "source": [
    "#### 1.2. Bigramm-Counts"
   ]
  },
  {
   "cell_type": "code",
   "execution_count": 298,
   "id": "2f5421df",
   "metadata": {},
   "outputs": [
    {
     "name": "stdout",
     "output_type": "stream",
     "text": [
      "              precision    recall  f1-score   support\n",
      "\n",
      "         0.0       0.00      0.00      0.00        11\n",
      "         1.0       0.70      1.00      0.83        26\n",
      "\n",
      "    accuracy                           0.70        37\n",
      "   macro avg       0.35      0.50      0.41        37\n",
      "weighted avg       0.49      0.70      0.58        37\n",
      "\n"
     ]
    },
    {
     "name": "stderr",
     "output_type": "stream",
     "text": [
      "/Users/liane/anaconda3/envs/clt22/lib/python3.9/site-packages/sklearn/metrics/_classification.py:1344: UndefinedMetricWarning: Precision and F-score are ill-defined and being set to 0.0 in labels with no predicted samples. Use `zero_division` parameter to control this behavior.\n",
      "  _warn_prf(average, modifier, msg_start, len(result))\n",
      "/Users/liane/anaconda3/envs/clt22/lib/python3.9/site-packages/sklearn/metrics/_classification.py:1344: UndefinedMetricWarning: Precision and F-score are ill-defined and being set to 0.0 in labels with no predicted samples. Use `zero_division` parameter to control this behavior.\n",
      "  _warn_prf(average, modifier, msg_start, len(result))\n",
      "/Users/liane/anaconda3/envs/clt22/lib/python3.9/site-packages/sklearn/metrics/_classification.py:1344: UndefinedMetricWarning: Precision and F-score are ill-defined and being set to 0.0 in labels with no predicted samples. Use `zero_division` parameter to control this behavior.\n",
      "  _warn_prf(average, modifier, msg_start, len(result))\n"
     ]
    }
   ],
   "source": [
    "# Train Support Vector Machine with bigram counts\n",
    "predictions, results = train_and_evaluate_model(bigram_count_matrx, y, orig_indexes, SVC())\n",
    "print(results)"
   ]
  },
  {
   "cell_type": "markdown",
   "id": "5fab90f6",
   "metadata": {},
   "source": [
    "#### 1.3. Trigramm-Counts"
   ]
  },
  {
   "cell_type": "code",
   "execution_count": 299,
   "id": "d759ab3e",
   "metadata": {},
   "outputs": [
    {
     "name": "stdout",
     "output_type": "stream",
     "text": [
      "              precision    recall  f1-score   support\n",
      "\n",
      "         0.0       0.00      0.00      0.00        11\n",
      "         1.0       0.70      1.00      0.83        26\n",
      "\n",
      "    accuracy                           0.70        37\n",
      "   macro avg       0.35      0.50      0.41        37\n",
      "weighted avg       0.49      0.70      0.58        37\n",
      "\n"
     ]
    },
    {
     "name": "stderr",
     "output_type": "stream",
     "text": [
      "/Users/liane/anaconda3/envs/clt22/lib/python3.9/site-packages/sklearn/metrics/_classification.py:1344: UndefinedMetricWarning: Precision and F-score are ill-defined and being set to 0.0 in labels with no predicted samples. Use `zero_division` parameter to control this behavior.\n",
      "  _warn_prf(average, modifier, msg_start, len(result))\n",
      "/Users/liane/anaconda3/envs/clt22/lib/python3.9/site-packages/sklearn/metrics/_classification.py:1344: UndefinedMetricWarning: Precision and F-score are ill-defined and being set to 0.0 in labels with no predicted samples. Use `zero_division` parameter to control this behavior.\n",
      "  _warn_prf(average, modifier, msg_start, len(result))\n",
      "/Users/liane/anaconda3/envs/clt22/lib/python3.9/site-packages/sklearn/metrics/_classification.py:1344: UndefinedMetricWarning: Precision and F-score are ill-defined and being set to 0.0 in labels with no predicted samples. Use `zero_division` parameter to control this behavior.\n",
      "  _warn_prf(average, modifier, msg_start, len(result))\n"
     ]
    }
   ],
   "source": [
    "# Train Support Vector Machine with trigram counts\n",
    "predictions, results = train_and_evaluate_model(trigram_count_matrx, y, orig_indexes, SVC())\n",
    "print(results)"
   ]
  },
  {
   "cell_type": "markdown",
   "id": "8453ca31",
   "metadata": {},
   "source": [
    "#### 2.1. Unigramm-Counts mit Tfidf-Gewichtung"
   ]
  },
  {
   "cell_type": "code",
   "execution_count": 300,
   "id": "5c004eb2",
   "metadata": {},
   "outputs": [
    {
     "name": "stdout",
     "output_type": "stream",
     "text": [
      "              precision    recall  f1-score   support\n",
      "\n",
      "         0.0       0.00      0.00      0.00        11\n",
      "         1.0       0.70      1.00      0.83        26\n",
      "\n",
      "    accuracy                           0.70        37\n",
      "   macro avg       0.35      0.50      0.41        37\n",
      "weighted avg       0.49      0.70      0.58        37\n",
      "\n"
     ]
    },
    {
     "name": "stderr",
     "output_type": "stream",
     "text": [
      "/Users/liane/anaconda3/envs/clt22/lib/python3.9/site-packages/sklearn/metrics/_classification.py:1344: UndefinedMetricWarning: Precision and F-score are ill-defined and being set to 0.0 in labels with no predicted samples. Use `zero_division` parameter to control this behavior.\n",
      "  _warn_prf(average, modifier, msg_start, len(result))\n",
      "/Users/liane/anaconda3/envs/clt22/lib/python3.9/site-packages/sklearn/metrics/_classification.py:1344: UndefinedMetricWarning: Precision and F-score are ill-defined and being set to 0.0 in labels with no predicted samples. Use `zero_division` parameter to control this behavior.\n",
      "  _warn_prf(average, modifier, msg_start, len(result))\n",
      "/Users/liane/anaconda3/envs/clt22/lib/python3.9/site-packages/sklearn/metrics/_classification.py:1344: UndefinedMetricWarning: Precision and F-score are ill-defined and being set to 0.0 in labels with no predicted samples. Use `zero_division` parameter to control this behavior.\n",
      "  _warn_prf(average, modifier, msg_start, len(result))\n"
     ]
    }
   ],
   "source": [
    "# Train Support Vector Machine with unigram tfidf\n",
    "predictions, results = train_and_evaluate_model(unigram_tfidf_matrx, y, orig_indexes, SVC())\n",
    "print(results)"
   ]
  },
  {
   "cell_type": "markdown",
   "id": "ca27e5ee",
   "metadata": {},
   "source": [
    "#### 2.2. Bigramm-Counts mit Tfidf-Gewichtung"
   ]
  },
  {
   "cell_type": "code",
   "execution_count": 308,
   "id": "a1aa5d53",
   "metadata": {},
   "outputs": [
    {
     "name": "stdout",
     "output_type": "stream",
     "text": [
      "              precision    recall  f1-score   support\n",
      "\n",
      "         0.0       0.00      0.00      0.00        11\n",
      "         1.0       0.70      1.00      0.83        26\n",
      "\n",
      "    accuracy                           0.70        37\n",
      "   macro avg       0.35      0.50      0.41        37\n",
      "weighted avg       0.49      0.70      0.58        37\n",
      "\n"
     ]
    },
    {
     "name": "stderr",
     "output_type": "stream",
     "text": [
      "/Users/liane/anaconda3/envs/clt22/lib/python3.9/site-packages/sklearn/metrics/_classification.py:1344: UndefinedMetricWarning: Precision and F-score are ill-defined and being set to 0.0 in labels with no predicted samples. Use `zero_division` parameter to control this behavior.\n",
      "  _warn_prf(average, modifier, msg_start, len(result))\n",
      "/Users/liane/anaconda3/envs/clt22/lib/python3.9/site-packages/sklearn/metrics/_classification.py:1344: UndefinedMetricWarning: Precision and F-score are ill-defined and being set to 0.0 in labels with no predicted samples. Use `zero_division` parameter to control this behavior.\n",
      "  _warn_prf(average, modifier, msg_start, len(result))\n",
      "/Users/liane/anaconda3/envs/clt22/lib/python3.9/site-packages/sklearn/metrics/_classification.py:1344: UndefinedMetricWarning: Precision and F-score are ill-defined and being set to 0.0 in labels with no predicted samples. Use `zero_division` parameter to control this behavior.\n",
      "  _warn_prf(average, modifier, msg_start, len(result))\n"
     ]
    }
   ],
   "source": [
    "# Train Support Vector Machine with bigram tfidf\n",
    "predictions, results = train_and_evaluate_model(bigram_tfidf_matrx, y, orig_indexes, SVC())\n",
    "print(results)"
   ]
  },
  {
   "cell_type": "markdown",
   "id": "d1721557",
   "metadata": {},
   "source": [
    "#### 2.3. Trigramm-Counts mit Tfidf-Gewichtung"
   ]
  },
  {
   "cell_type": "code",
   "execution_count": 309,
   "id": "7c7638d6",
   "metadata": {},
   "outputs": [
    {
     "name": "stdout",
     "output_type": "stream",
     "text": [
      "              precision    recall  f1-score   support\n",
      "\n",
      "         0.0       0.00      0.00      0.00        11\n",
      "         1.0       0.70      1.00      0.83        26\n",
      "\n",
      "    accuracy                           0.70        37\n",
      "   macro avg       0.35      0.50      0.41        37\n",
      "weighted avg       0.49      0.70      0.58        37\n",
      "\n"
     ]
    },
    {
     "name": "stderr",
     "output_type": "stream",
     "text": [
      "/Users/liane/anaconda3/envs/clt22/lib/python3.9/site-packages/sklearn/metrics/_classification.py:1344: UndefinedMetricWarning: Precision and F-score are ill-defined and being set to 0.0 in labels with no predicted samples. Use `zero_division` parameter to control this behavior.\n",
      "  _warn_prf(average, modifier, msg_start, len(result))\n",
      "/Users/liane/anaconda3/envs/clt22/lib/python3.9/site-packages/sklearn/metrics/_classification.py:1344: UndefinedMetricWarning: Precision and F-score are ill-defined and being set to 0.0 in labels with no predicted samples. Use `zero_division` parameter to control this behavior.\n",
      "  _warn_prf(average, modifier, msg_start, len(result))\n",
      "/Users/liane/anaconda3/envs/clt22/lib/python3.9/site-packages/sklearn/metrics/_classification.py:1344: UndefinedMetricWarning: Precision and F-score are ill-defined and being set to 0.0 in labels with no predicted samples. Use `zero_division` parameter to control this behavior.\n",
      "  _warn_prf(average, modifier, msg_start, len(result))\n"
     ]
    }
   ],
   "source": [
    "# Train Support Vector Machine with trigram tfidf\n",
    "predictions, results = train_and_evaluate_model(trigram_tfidf_matrx, y, orig_indexes, SVC())\n",
    "print(results)"
   ]
  },
  {
   "cell_type": "markdown",
   "id": "926ac9d1",
   "metadata": {},
   "source": [
    "### 4. Kombinationen von Features"
   ]
  },
  {
   "cell_type": "code",
   "execution_count": 311,
   "id": "1a608144",
   "metadata": {},
   "outputs": [],
   "source": [
    "unigrams_sentiment = combine_features(unigram_count_matrx, sentiment_scores)\n",
    "bigrams_sentiment = combine_features(bigram_count_matrx, sentiment_scores)\n",
    "trigrams_sentiment = combine_features(trigram_count_matrx, sentiment_scores)\n",
    "\n",
    "unigrams_tfidf_sentiment = combine_features(unigram_tfidf_matrx, sentiment_scores)\n",
    "bigrams_tfidf_sentiment = combine_features(bigram_tfidf_matrx, sentiment_scores)\n",
    "trigrams_tfidf_sentiment = combine_features(trigram_tfidf_matrx, sentiment_scores)"
   ]
  },
  {
   "cell_type": "markdown",
   "id": "e479df43",
   "metadata": {},
   "source": [
    "#### 4.1. Unigramm-Counts + Sentiment"
   ]
  },
  {
   "cell_type": "code",
   "execution_count": 316,
   "id": "6acae92e",
   "metadata": {},
   "outputs": [
    {
     "name": "stdout",
     "output_type": "stream",
     "text": [
      "              precision    recall  f1-score   support\n",
      "\n",
      "         0.0       0.00      0.00      0.00        11\n",
      "         1.0       0.70      1.00      0.83        26\n",
      "\n",
      "    accuracy                           0.70        37\n",
      "   macro avg       0.35      0.50      0.41        37\n",
      "weighted avg       0.49      0.70      0.58        37\n",
      "\n"
     ]
    },
    {
     "name": "stderr",
     "output_type": "stream",
     "text": [
      "/Users/liane/anaconda3/envs/clt22/lib/python3.9/site-packages/sklearn/metrics/_classification.py:1344: UndefinedMetricWarning: Precision and F-score are ill-defined and being set to 0.0 in labels with no predicted samples. Use `zero_division` parameter to control this behavior.\n",
      "  _warn_prf(average, modifier, msg_start, len(result))\n",
      "/Users/liane/anaconda3/envs/clt22/lib/python3.9/site-packages/sklearn/metrics/_classification.py:1344: UndefinedMetricWarning: Precision and F-score are ill-defined and being set to 0.0 in labels with no predicted samples. Use `zero_division` parameter to control this behavior.\n",
      "  _warn_prf(average, modifier, msg_start, len(result))\n",
      "/Users/liane/anaconda3/envs/clt22/lib/python3.9/site-packages/sklearn/metrics/_classification.py:1344: UndefinedMetricWarning: Precision and F-score are ill-defined and being set to 0.0 in labels with no predicted samples. Use `zero_division` parameter to control this behavior.\n",
      "  _warn_prf(average, modifier, msg_start, len(result))\n"
     ]
    }
   ],
   "source": [
    "# Train Support Vector Machine with unigrams and sentiment scores\n",
    "predictions, results = train_and_evaluate_model(unigrams_sentiment, y, orig_indexes, SVC())\n",
    "print(results)"
   ]
  },
  {
   "cell_type": "markdown",
   "id": "a4280b97",
   "metadata": {},
   "source": [
    "#### 4.2. Bigramm-Counts + Sentiment"
   ]
  },
  {
   "cell_type": "code",
   "execution_count": 313,
   "id": "6bdf4920",
   "metadata": {},
   "outputs": [
    {
     "name": "stdout",
     "output_type": "stream",
     "text": [
      "              precision    recall  f1-score   support\n",
      "\n",
      "         0.0       0.00      0.00      0.00        11\n",
      "         1.0       0.70      1.00      0.83        26\n",
      "\n",
      "    accuracy                           0.70        37\n",
      "   macro avg       0.35      0.50      0.41        37\n",
      "weighted avg       0.49      0.70      0.58        37\n",
      "\n"
     ]
    },
    {
     "name": "stderr",
     "output_type": "stream",
     "text": [
      "/Users/liane/anaconda3/envs/clt22/lib/python3.9/site-packages/sklearn/metrics/_classification.py:1344: UndefinedMetricWarning: Precision and F-score are ill-defined and being set to 0.0 in labels with no predicted samples. Use `zero_division` parameter to control this behavior.\n",
      "  _warn_prf(average, modifier, msg_start, len(result))\n",
      "/Users/liane/anaconda3/envs/clt22/lib/python3.9/site-packages/sklearn/metrics/_classification.py:1344: UndefinedMetricWarning: Precision and F-score are ill-defined and being set to 0.0 in labels with no predicted samples. Use `zero_division` parameter to control this behavior.\n",
      "  _warn_prf(average, modifier, msg_start, len(result))\n",
      "/Users/liane/anaconda3/envs/clt22/lib/python3.9/site-packages/sklearn/metrics/_classification.py:1344: UndefinedMetricWarning: Precision and F-score are ill-defined and being set to 0.0 in labels with no predicted samples. Use `zero_division` parameter to control this behavior.\n",
      "  _warn_prf(average, modifier, msg_start, len(result))\n"
     ]
    }
   ],
   "source": [
    "# Train Support Vector Machine with bigrams and sentiment scores\n",
    "predictions, results = train_and_evaluate_model(bigrams_sentiment, y, orig_indexes, SVC())\n",
    "print(results)"
   ]
  },
  {
   "cell_type": "markdown",
   "id": "2520814a",
   "metadata": {},
   "source": [
    "#### 4.3. Trigramm-Counts + Sentiment"
   ]
  },
  {
   "cell_type": "code",
   "execution_count": 315,
   "id": "67560080",
   "metadata": {},
   "outputs": [
    {
     "name": "stdout",
     "output_type": "stream",
     "text": [
      "              precision    recall  f1-score   support\n",
      "\n",
      "         0.0       0.00      0.00      0.00        11\n",
      "         1.0       0.70      1.00      0.83        26\n",
      "\n",
      "    accuracy                           0.70        37\n",
      "   macro avg       0.35      0.50      0.41        37\n",
      "weighted avg       0.49      0.70      0.58        37\n",
      "\n"
     ]
    },
    {
     "name": "stderr",
     "output_type": "stream",
     "text": [
      "/Users/liane/anaconda3/envs/clt22/lib/python3.9/site-packages/sklearn/metrics/_classification.py:1344: UndefinedMetricWarning: Precision and F-score are ill-defined and being set to 0.0 in labels with no predicted samples. Use `zero_division` parameter to control this behavior.\n",
      "  _warn_prf(average, modifier, msg_start, len(result))\n",
      "/Users/liane/anaconda3/envs/clt22/lib/python3.9/site-packages/sklearn/metrics/_classification.py:1344: UndefinedMetricWarning: Precision and F-score are ill-defined and being set to 0.0 in labels with no predicted samples. Use `zero_division` parameter to control this behavior.\n",
      "  _warn_prf(average, modifier, msg_start, len(result))\n",
      "/Users/liane/anaconda3/envs/clt22/lib/python3.9/site-packages/sklearn/metrics/_classification.py:1344: UndefinedMetricWarning: Precision and F-score are ill-defined and being set to 0.0 in labels with no predicted samples. Use `zero_division` parameter to control this behavior.\n",
      "  _warn_prf(average, modifier, msg_start, len(result))\n"
     ]
    }
   ],
   "source": [
    "# Train Support Vector Machine with trigrams and sentiment scores\n",
    "predictions, results = train_and_evaluate_model(trigrams_sentiment, y, orig_indexes, SVC())\n",
    "print(results)"
   ]
  },
  {
   "cell_type": "markdown",
   "id": "b416e8c2",
   "metadata": {},
   "source": [
    "#### 4.4. Unigramm-Tfidf + Sentiment"
   ]
  },
  {
   "cell_type": "code",
   "execution_count": 317,
   "id": "11a5c5cb",
   "metadata": {},
   "outputs": [
    {
     "name": "stdout",
     "output_type": "stream",
     "text": [
      "              precision    recall  f1-score   support\n",
      "\n",
      "         0.0       0.00      0.00      0.00        11\n",
      "         1.0       0.70      1.00      0.83        26\n",
      "\n",
      "    accuracy                           0.70        37\n",
      "   macro avg       0.35      0.50      0.41        37\n",
      "weighted avg       0.49      0.70      0.58        37\n",
      "\n"
     ]
    },
    {
     "name": "stderr",
     "output_type": "stream",
     "text": [
      "/Users/liane/anaconda3/envs/clt22/lib/python3.9/site-packages/sklearn/metrics/_classification.py:1344: UndefinedMetricWarning: Precision and F-score are ill-defined and being set to 0.0 in labels with no predicted samples. Use `zero_division` parameter to control this behavior.\n",
      "  _warn_prf(average, modifier, msg_start, len(result))\n",
      "/Users/liane/anaconda3/envs/clt22/lib/python3.9/site-packages/sklearn/metrics/_classification.py:1344: UndefinedMetricWarning: Precision and F-score are ill-defined and being set to 0.0 in labels with no predicted samples. Use `zero_division` parameter to control this behavior.\n",
      "  _warn_prf(average, modifier, msg_start, len(result))\n",
      "/Users/liane/anaconda3/envs/clt22/lib/python3.9/site-packages/sklearn/metrics/_classification.py:1344: UndefinedMetricWarning: Precision and F-score are ill-defined and being set to 0.0 in labels with no predicted samples. Use `zero_division` parameter to control this behavior.\n",
      "  _warn_prf(average, modifier, msg_start, len(result))\n"
     ]
    }
   ],
   "source": [
    "# Train Support Vector Machine with unigram tfidf and sentiment scores\n",
    "predictions, results = train_and_evaluate_model(unigrams_tfidf_sentiment, y, orig_indexes, SVC())\n",
    "print(results)"
   ]
  },
  {
   "cell_type": "markdown",
   "id": "5db1fc6a",
   "metadata": {},
   "source": [
    "#### 4.5. Bigramm-Tfidf + Sentiment"
   ]
  },
  {
   "cell_type": "code",
   "execution_count": 318,
   "id": "a8e2e670",
   "metadata": {},
   "outputs": [
    {
     "name": "stdout",
     "output_type": "stream",
     "text": [
      "              precision    recall  f1-score   support\n",
      "\n",
      "         0.0       0.00      0.00      0.00        11\n",
      "         1.0       0.70      1.00      0.83        26\n",
      "\n",
      "    accuracy                           0.70        37\n",
      "   macro avg       0.35      0.50      0.41        37\n",
      "weighted avg       0.49      0.70      0.58        37\n",
      "\n"
     ]
    },
    {
     "name": "stderr",
     "output_type": "stream",
     "text": [
      "/Users/liane/anaconda3/envs/clt22/lib/python3.9/site-packages/sklearn/metrics/_classification.py:1344: UndefinedMetricWarning: Precision and F-score are ill-defined and being set to 0.0 in labels with no predicted samples. Use `zero_division` parameter to control this behavior.\n",
      "  _warn_prf(average, modifier, msg_start, len(result))\n",
      "/Users/liane/anaconda3/envs/clt22/lib/python3.9/site-packages/sklearn/metrics/_classification.py:1344: UndefinedMetricWarning: Precision and F-score are ill-defined and being set to 0.0 in labels with no predicted samples. Use `zero_division` parameter to control this behavior.\n",
      "  _warn_prf(average, modifier, msg_start, len(result))\n",
      "/Users/liane/anaconda3/envs/clt22/lib/python3.9/site-packages/sklearn/metrics/_classification.py:1344: UndefinedMetricWarning: Precision and F-score are ill-defined and being set to 0.0 in labels with no predicted samples. Use `zero_division` parameter to control this behavior.\n",
      "  _warn_prf(average, modifier, msg_start, len(result))\n"
     ]
    }
   ],
   "source": [
    "# Train Support Vector Machine with bigram tfidf and sentiment scores\n",
    "predictions, results = train_and_evaluate_model(bigrams_tfidf_sentiment, y, orig_indexes, SVC())\n",
    "print(results)"
   ]
  },
  {
   "cell_type": "markdown",
   "id": "a5496b38",
   "metadata": {},
   "source": [
    "#### 4.6. Trigramm-Tfidf + Sentiment"
   ]
  },
  {
   "cell_type": "code",
   "execution_count": 319,
   "id": "dbe782ed",
   "metadata": {},
   "outputs": [
    {
     "name": "stdout",
     "output_type": "stream",
     "text": [
      "              precision    recall  f1-score   support\n",
      "\n",
      "         0.0       0.00      0.00      0.00        11\n",
      "         1.0       0.70      1.00      0.83        26\n",
      "\n",
      "    accuracy                           0.70        37\n",
      "   macro avg       0.35      0.50      0.41        37\n",
      "weighted avg       0.49      0.70      0.58        37\n",
      "\n"
     ]
    },
    {
     "name": "stderr",
     "output_type": "stream",
     "text": [
      "/Users/liane/anaconda3/envs/clt22/lib/python3.9/site-packages/sklearn/metrics/_classification.py:1344: UndefinedMetricWarning: Precision and F-score are ill-defined and being set to 0.0 in labels with no predicted samples. Use `zero_division` parameter to control this behavior.\n",
      "  _warn_prf(average, modifier, msg_start, len(result))\n",
      "/Users/liane/anaconda3/envs/clt22/lib/python3.9/site-packages/sklearn/metrics/_classification.py:1344: UndefinedMetricWarning: Precision and F-score are ill-defined and being set to 0.0 in labels with no predicted samples. Use `zero_division` parameter to control this behavior.\n",
      "  _warn_prf(average, modifier, msg_start, len(result))\n",
      "/Users/liane/anaconda3/envs/clt22/lib/python3.9/site-packages/sklearn/metrics/_classification.py:1344: UndefinedMetricWarning: Precision and F-score are ill-defined and being set to 0.0 in labels with no predicted samples. Use `zero_division` parameter to control this behavior.\n",
      "  _warn_prf(average, modifier, msg_start, len(result))\n"
     ]
    }
   ],
   "source": [
    "# Train Support Vector Machine with trigram tfidf and sentiment scores\n",
    "predictions, results = train_and_evaluate_model(trigrams_tfidf_sentiment, y, orig_indexes, SVC())\n",
    "print(results)"
   ]
  }
 ],
 "metadata": {
  "kernelspec": {
   "display_name": "Python [conda env:clt22] *",
   "language": "python",
   "name": "conda-env-clt22-py"
  },
  "language_info": {
   "codemirror_mode": {
    "name": "ipython",
    "version": 3
   },
   "file_extension": ".py",
   "mimetype": "text/x-python",
   "name": "python",
   "nbconvert_exporter": "python",
   "pygments_lexer": "ipython3",
   "version": "3.9.0"
  }
 },
 "nbformat": 4,
 "nbformat_minor": 5
}
